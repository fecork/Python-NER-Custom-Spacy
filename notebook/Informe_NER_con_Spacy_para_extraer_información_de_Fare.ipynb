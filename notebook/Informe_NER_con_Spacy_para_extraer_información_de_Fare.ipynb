{
  "nbformat": 4,
  "nbformat_minor": 0,
  "metadata": {
    "colab": {
      "provenance": [],
      "collapsed_sections": [],
      "toc_visible": true
    },
    "kernelspec": {
      "name": "python3",
      "display_name": "Python 3"
    },
    "language_info": {
      "name": "python"
    },
    "accelerator": "GPU",
    "gpuClass": "standard"
  },
  "cells": [
    {
      "cell_type": "markdown",
      "source": [
        "\n",
        "# Informe NER con Spacy para extraer información de Fare\n"
      ],
      "metadata": {
        "id": "DLUo7B0r4jWs"
      }
    },
    {
      "cell_type": "markdown",
      "source": [
        "Instalamos librerías necesarias"
      ],
      "metadata": {
        "id": "fyk0UX7e4iwZ"
      }
    },
    {
      "cell_type": "code",
      "execution_count": 1,
      "metadata": {
        "colab": {
          "base_uri": "https://localhost:8080/",
          "height": 1000
        },
        "id": "SCqZHSgupnFt",
        "outputId": "864ba311-20ea-4988-e412-6f6237d6be33"
      },
      "outputs": [
        {
          "output_type": "stream",
          "name": "stdout",
          "text": [
            "Looking in indexes: https://pypi.org/simple, https://us-python.pkg.dev/colab-wheels/public/simple/\n",
            "Requirement already satisfied: pip in /usr/local/lib/python3.7/dist-packages (21.1.3)\n",
            "Collecting pip\n",
            "  Downloading pip-22.2.2-py3-none-any.whl (2.0 MB)\n",
            "\u001b[K     |████████████████████████████████| 2.0 MB 29.9 MB/s \n",
            "\u001b[?25hRequirement already satisfied: setuptools in /usr/local/lib/python3.7/dist-packages (57.4.0)\n",
            "Collecting setuptools\n",
            "  Downloading setuptools-65.4.0-py3-none-any.whl (1.2 MB)\n",
            "\u001b[K     |████████████████████████████████| 1.2 MB 53.8 MB/s \n",
            "\u001b[?25hRequirement already satisfied: wheel in /usr/local/lib/python3.7/dist-packages (0.37.1)\n",
            "Installing collected packages: setuptools, pip\n",
            "  Attempting uninstall: setuptools\n",
            "    Found existing installation: setuptools 57.4.0\n",
            "    Uninstalling setuptools-57.4.0:\n",
            "      Successfully uninstalled setuptools-57.4.0\n",
            "  Attempting uninstall: pip\n",
            "    Found existing installation: pip 21.1.3\n",
            "    Uninstalling pip-21.1.3:\n",
            "      Successfully uninstalled pip-21.1.3\n",
            "\u001b[31mERROR: pip's dependency resolver does not currently take into account all the packages that are installed. This behaviour is the source of the following dependency conflicts.\n",
            "ipython 7.9.0 requires jedi>=0.10, which is not installed.\n",
            "numba 0.56.2 requires setuptools<60, but you have setuptools 65.4.0 which is incompatible.\u001b[0m\n",
            "Successfully installed pip-22.2.2 setuptools-65.4.0\n"
          ]
        },
        {
          "output_type": "display_data",
          "data": {
            "application/vnd.colab-display-data+json": {
              "pip_warning": {
                "packages": [
                  "pkg_resources"
                ]
              }
            }
          },
          "metadata": {}
        },
        {
          "output_type": "stream",
          "name": "stdout",
          "text": [
            "Looking in indexes: https://pypi.org/simple, https://us-python.pkg.dev/colab-wheels/public/simple/\n",
            "Requirement already satisfied: spacy in /usr/local/lib/python3.7/dist-packages (3.4.1)\n",
            "Requirement already satisfied: jinja2 in /usr/local/lib/python3.7/dist-packages (from spacy) (2.11.3)\n",
            "Requirement already satisfied: spacy-loggers<2.0.0,>=1.0.0 in /usr/local/lib/python3.7/dist-packages (from spacy) (1.0.3)\n",
            "Requirement already satisfied: typer<0.5.0,>=0.3.0 in /usr/local/lib/python3.7/dist-packages (from spacy) (0.4.2)\n",
            "Requirement already satisfied: packaging>=20.0 in /usr/local/lib/python3.7/dist-packages (from spacy) (21.3)\n",
            "Requirement already satisfied: catalogue<2.1.0,>=2.0.6 in /usr/local/lib/python3.7/dist-packages (from spacy) (2.0.8)\n",
            "Requirement already satisfied: tqdm<5.0.0,>=4.38.0 in /usr/local/lib/python3.7/dist-packages (from spacy) (4.64.1)\n",
            "Requirement already satisfied: typing-extensions<4.2.0,>=3.7.4 in /usr/local/lib/python3.7/dist-packages (from spacy) (4.1.1)\n",
            "Requirement already satisfied: pydantic!=1.8,!=1.8.1,<1.10.0,>=1.7.4 in /usr/local/lib/python3.7/dist-packages (from spacy) (1.9.2)\n",
            "Requirement already satisfied: spacy-legacy<3.1.0,>=3.0.9 in /usr/local/lib/python3.7/dist-packages (from spacy) (3.0.10)\n",
            "Requirement already satisfied: thinc<8.2.0,>=8.1.0 in /usr/local/lib/python3.7/dist-packages (from spacy) (8.1.0)\n",
            "Requirement already satisfied: murmurhash<1.1.0,>=0.28.0 in /usr/local/lib/python3.7/dist-packages (from spacy) (1.0.8)\n",
            "Requirement already satisfied: preshed<3.1.0,>=3.0.2 in /usr/local/lib/python3.7/dist-packages (from spacy) (3.0.7)\n",
            "Requirement already satisfied: pathy>=0.3.5 in /usr/local/lib/python3.7/dist-packages (from spacy) (0.6.2)\n",
            "Requirement already satisfied: numpy>=1.15.0 in /usr/local/lib/python3.7/dist-packages (from spacy) (1.21.6)\n",
            "Requirement already satisfied: langcodes<4.0.0,>=3.2.0 in /usr/local/lib/python3.7/dist-packages (from spacy) (3.3.0)\n",
            "Requirement already satisfied: cymem<2.1.0,>=2.0.2 in /usr/local/lib/python3.7/dist-packages (from spacy) (2.0.6)\n",
            "Requirement already satisfied: wasabi<1.1.0,>=0.9.1 in /usr/local/lib/python3.7/dist-packages (from spacy) (0.10.1)\n",
            "Requirement already satisfied: setuptools in /usr/local/lib/python3.7/dist-packages (from spacy) (65.4.0)\n",
            "Requirement already satisfied: srsly<3.0.0,>=2.4.3 in /usr/local/lib/python3.7/dist-packages (from spacy) (2.4.4)\n",
            "Requirement already satisfied: requests<3.0.0,>=2.13.0 in /usr/local/lib/python3.7/dist-packages (from spacy) (2.23.0)\n",
            "Requirement already satisfied: zipp>=0.5 in /usr/local/lib/python3.7/dist-packages (from catalogue<2.1.0,>=2.0.6->spacy) (3.8.1)\n",
            "Requirement already satisfied: pyparsing!=3.0.5,>=2.0.2 in /usr/local/lib/python3.7/dist-packages (from packaging>=20.0->spacy) (3.0.9)\n",
            "Requirement already satisfied: smart-open<6.0.0,>=5.2.1 in /usr/local/lib/python3.7/dist-packages (from pathy>=0.3.5->spacy) (5.2.1)\n",
            "Requirement already satisfied: certifi>=2017.4.17 in /usr/local/lib/python3.7/dist-packages (from requests<3.0.0,>=2.13.0->spacy) (2022.6.15)\n",
            "Requirement already satisfied: urllib3!=1.25.0,!=1.25.1,<1.26,>=1.21.1 in /usr/local/lib/python3.7/dist-packages (from requests<3.0.0,>=2.13.0->spacy) (1.24.3)\n",
            "Requirement already satisfied: chardet<4,>=3.0.2 in /usr/local/lib/python3.7/dist-packages (from requests<3.0.0,>=2.13.0->spacy) (3.0.4)\n",
            "Requirement already satisfied: idna<3,>=2.5 in /usr/local/lib/python3.7/dist-packages (from requests<3.0.0,>=2.13.0->spacy) (2.10)\n",
            "Requirement already satisfied: blis<0.8.0,>=0.7.8 in /usr/local/lib/python3.7/dist-packages (from thinc<8.2.0,>=8.1.0->spacy) (0.7.8)\n",
            "Requirement already satisfied: click<9.0.0,>=7.1.1 in /usr/local/lib/python3.7/dist-packages (from typer<0.5.0,>=0.3.0->spacy) (7.1.2)\n",
            "Requirement already satisfied: MarkupSafe>=0.23 in /usr/local/lib/python3.7/dist-packages (from jinja2->spacy) (2.0.1)\n",
            "\u001b[33mWARNING: Running pip as the 'root' user can result in broken permissions and conflicting behaviour with the system package manager. It is recommended to use a virtual environment instead: https://pip.pypa.io/warnings/venv\u001b[0m\u001b[33m\n",
            "\u001b[0mLooking in indexes: https://pypi.org/simple, https://us-python.pkg.dev/colab-wheels/public/simple/\n",
            "Collecting en-core-web-sm==3.4.0\n",
            "  Downloading https://github.com/explosion/spacy-models/releases/download/en_core_web_sm-3.4.0/en_core_web_sm-3.4.0-py3-none-any.whl (12.8 MB)\n",
            "\u001b[2K     \u001b[90m━━━━━━━━━━━━━━━━━━━━━━━━━━━━━━━━━━━━━━━━\u001b[0m \u001b[32m12.8/12.8 MB\u001b[0m \u001b[31m72.6 MB/s\u001b[0m eta \u001b[36m0:00:00\u001b[0m\n",
            "\u001b[?25hRequirement already satisfied: spacy<3.5.0,>=3.4.0 in /usr/local/lib/python3.7/dist-packages (from en-core-web-sm==3.4.0) (3.4.1)\n",
            "Requirement already satisfied: packaging>=20.0 in /usr/local/lib/python3.7/dist-packages (from spacy<3.5.0,>=3.4.0->en-core-web-sm==3.4.0) (21.3)\n",
            "Requirement already satisfied: preshed<3.1.0,>=3.0.2 in /usr/local/lib/python3.7/dist-packages (from spacy<3.5.0,>=3.4.0->en-core-web-sm==3.4.0) (3.0.7)\n",
            "Requirement already satisfied: requests<3.0.0,>=2.13.0 in /usr/local/lib/python3.7/dist-packages (from spacy<3.5.0,>=3.4.0->en-core-web-sm==3.4.0) (2.23.0)\n",
            "Requirement already satisfied: pydantic!=1.8,!=1.8.1,<1.10.0,>=1.7.4 in /usr/local/lib/python3.7/dist-packages (from spacy<3.5.0,>=3.4.0->en-core-web-sm==3.4.0) (1.9.2)\n",
            "Requirement already satisfied: typing-extensions<4.2.0,>=3.7.4 in /usr/local/lib/python3.7/dist-packages (from spacy<3.5.0,>=3.4.0->en-core-web-sm==3.4.0) (4.1.1)\n",
            "Requirement already satisfied: catalogue<2.1.0,>=2.0.6 in /usr/local/lib/python3.7/dist-packages (from spacy<3.5.0,>=3.4.0->en-core-web-sm==3.4.0) (2.0.8)\n",
            "Requirement already satisfied: cymem<2.1.0,>=2.0.2 in /usr/local/lib/python3.7/dist-packages (from spacy<3.5.0,>=3.4.0->en-core-web-sm==3.4.0) (2.0.6)\n",
            "Requirement already satisfied: langcodes<4.0.0,>=3.2.0 in /usr/local/lib/python3.7/dist-packages (from spacy<3.5.0,>=3.4.0->en-core-web-sm==3.4.0) (3.3.0)\n",
            "Requirement already satisfied: numpy>=1.15.0 in /usr/local/lib/python3.7/dist-packages (from spacy<3.5.0,>=3.4.0->en-core-web-sm==3.4.0) (1.21.6)\n",
            "Requirement already satisfied: tqdm<5.0.0,>=4.38.0 in /usr/local/lib/python3.7/dist-packages (from spacy<3.5.0,>=3.4.0->en-core-web-sm==3.4.0) (4.64.1)\n",
            "Requirement already satisfied: wasabi<1.1.0,>=0.9.1 in /usr/local/lib/python3.7/dist-packages (from spacy<3.5.0,>=3.4.0->en-core-web-sm==3.4.0) (0.10.1)\n",
            "Requirement already satisfied: srsly<3.0.0,>=2.4.3 in /usr/local/lib/python3.7/dist-packages (from spacy<3.5.0,>=3.4.0->en-core-web-sm==3.4.0) (2.4.4)\n",
            "Requirement already satisfied: spacy-loggers<2.0.0,>=1.0.0 in /usr/local/lib/python3.7/dist-packages (from spacy<3.5.0,>=3.4.0->en-core-web-sm==3.4.0) (1.0.3)\n",
            "Requirement already satisfied: setuptools in /usr/local/lib/python3.7/dist-packages (from spacy<3.5.0,>=3.4.0->en-core-web-sm==3.4.0) (65.4.0)\n",
            "Requirement already satisfied: typer<0.5.0,>=0.3.0 in /usr/local/lib/python3.7/dist-packages (from spacy<3.5.0,>=3.4.0->en-core-web-sm==3.4.0) (0.4.2)\n",
            "Requirement already satisfied: murmurhash<1.1.0,>=0.28.0 in /usr/local/lib/python3.7/dist-packages (from spacy<3.5.0,>=3.4.0->en-core-web-sm==3.4.0) (1.0.8)\n",
            "Requirement already satisfied: jinja2 in /usr/local/lib/python3.7/dist-packages (from spacy<3.5.0,>=3.4.0->en-core-web-sm==3.4.0) (2.11.3)\n",
            "Requirement already satisfied: thinc<8.2.0,>=8.1.0 in /usr/local/lib/python3.7/dist-packages (from spacy<3.5.0,>=3.4.0->en-core-web-sm==3.4.0) (8.1.0)\n",
            "Requirement already satisfied: pathy>=0.3.5 in /usr/local/lib/python3.7/dist-packages (from spacy<3.5.0,>=3.4.0->en-core-web-sm==3.4.0) (0.6.2)\n",
            "Requirement already satisfied: spacy-legacy<3.1.0,>=3.0.9 in /usr/local/lib/python3.7/dist-packages (from spacy<3.5.0,>=3.4.0->en-core-web-sm==3.4.0) (3.0.10)\n",
            "Requirement already satisfied: zipp>=0.5 in /usr/local/lib/python3.7/dist-packages (from catalogue<2.1.0,>=2.0.6->spacy<3.5.0,>=3.4.0->en-core-web-sm==3.4.0) (3.8.1)\n",
            "Requirement already satisfied: pyparsing!=3.0.5,>=2.0.2 in /usr/local/lib/python3.7/dist-packages (from packaging>=20.0->spacy<3.5.0,>=3.4.0->en-core-web-sm==3.4.0) (3.0.9)\n",
            "Requirement already satisfied: smart-open<6.0.0,>=5.2.1 in /usr/local/lib/python3.7/dist-packages (from pathy>=0.3.5->spacy<3.5.0,>=3.4.0->en-core-web-sm==3.4.0) (5.2.1)\n",
            "Requirement already satisfied: certifi>=2017.4.17 in /usr/local/lib/python3.7/dist-packages (from requests<3.0.0,>=2.13.0->spacy<3.5.0,>=3.4.0->en-core-web-sm==3.4.0) (2022.6.15)\n",
            "Requirement already satisfied: urllib3!=1.25.0,!=1.25.1,<1.26,>=1.21.1 in /usr/local/lib/python3.7/dist-packages (from requests<3.0.0,>=2.13.0->spacy<3.5.0,>=3.4.0->en-core-web-sm==3.4.0) (1.24.3)\n",
            "Requirement already satisfied: chardet<4,>=3.0.2 in /usr/local/lib/python3.7/dist-packages (from requests<3.0.0,>=2.13.0->spacy<3.5.0,>=3.4.0->en-core-web-sm==3.4.0) (3.0.4)\n",
            "Requirement already satisfied: idna<3,>=2.5 in /usr/local/lib/python3.7/dist-packages (from requests<3.0.0,>=2.13.0->spacy<3.5.0,>=3.4.0->en-core-web-sm==3.4.0) (2.10)\n",
            "Requirement already satisfied: blis<0.8.0,>=0.7.8 in /usr/local/lib/python3.7/dist-packages (from thinc<8.2.0,>=8.1.0->spacy<3.5.0,>=3.4.0->en-core-web-sm==3.4.0) (0.7.8)\n",
            "Requirement already satisfied: click<9.0.0,>=7.1.1 in /usr/local/lib/python3.7/dist-packages (from typer<0.5.0,>=0.3.0->spacy<3.5.0,>=3.4.0->en-core-web-sm==3.4.0) (7.1.2)\n",
            "Requirement already satisfied: MarkupSafe>=0.23 in /usr/local/lib/python3.7/dist-packages (from jinja2->spacy<3.5.0,>=3.4.0->en-core-web-sm==3.4.0) (2.0.1)\n",
            "\u001b[33mWARNING: Running pip as the 'root' user can result in broken permissions and conflicting behaviour with the system package manager. It is recommended to use a virtual environment instead: https://pip.pypa.io/warnings/venv\u001b[0m\u001b[33m\n",
            "\u001b[0m\u001b[38;5;2m✔ Download and installation successful\u001b[0m\n",
            "You can now load the package via spacy.load('en_core_web_sm')\n",
            "Looking in indexes: https://pypi.org/simple, https://us-python.pkg.dev/colab-wheels/public/simple/\n",
            "Requirement already satisfied: spacy[transformers] in /usr/local/lib/python3.7/dist-packages (3.4.1)\n",
            "Requirement already satisfied: thinc<8.2.0,>=8.1.0 in /usr/local/lib/python3.7/dist-packages (from spacy[transformers]) (8.1.0)\n",
            "Requirement already satisfied: pathy>=0.3.5 in /usr/local/lib/python3.7/dist-packages (from spacy[transformers]) (0.6.2)\n",
            "Requirement already satisfied: wasabi<1.1.0,>=0.9.1 in /usr/local/lib/python3.7/dist-packages (from spacy[transformers]) (0.10.1)\n",
            "Requirement already satisfied: typer<0.5.0,>=0.3.0 in /usr/local/lib/python3.7/dist-packages (from spacy[transformers]) (0.4.2)\n",
            "Requirement already satisfied: srsly<3.0.0,>=2.4.3 in /usr/local/lib/python3.7/dist-packages (from spacy[transformers]) (2.4.4)\n",
            "Requirement already satisfied: numpy>=1.15.0 in /usr/local/lib/python3.7/dist-packages (from spacy[transformers]) (1.21.6)\n",
            "Requirement already satisfied: requests<3.0.0,>=2.13.0 in /usr/local/lib/python3.7/dist-packages (from spacy[transformers]) (2.23.0)\n",
            "Requirement already satisfied: spacy-loggers<2.0.0,>=1.0.0 in /usr/local/lib/python3.7/dist-packages (from spacy[transformers]) (1.0.3)\n",
            "Requirement already satisfied: murmurhash<1.1.0,>=0.28.0 in /usr/local/lib/python3.7/dist-packages (from spacy[transformers]) (1.0.8)\n",
            "Requirement already satisfied: langcodes<4.0.0,>=3.2.0 in /usr/local/lib/python3.7/dist-packages (from spacy[transformers]) (3.3.0)\n",
            "Requirement already satisfied: spacy-legacy<3.1.0,>=3.0.9 in /usr/local/lib/python3.7/dist-packages (from spacy[transformers]) (3.0.10)\n",
            "Requirement already satisfied: cymem<2.1.0,>=2.0.2 in /usr/local/lib/python3.7/dist-packages (from spacy[transformers]) (2.0.6)\n",
            "Requirement already satisfied: preshed<3.1.0,>=3.0.2 in /usr/local/lib/python3.7/dist-packages (from spacy[transformers]) (3.0.7)\n",
            "Requirement already satisfied: pydantic!=1.8,!=1.8.1,<1.10.0,>=1.7.4 in /usr/local/lib/python3.7/dist-packages (from spacy[transformers]) (1.9.2)\n",
            "Requirement already satisfied: tqdm<5.0.0,>=4.38.0 in /usr/local/lib/python3.7/dist-packages (from spacy[transformers]) (4.64.1)\n",
            "Requirement already satisfied: typing-extensions<4.2.0,>=3.7.4 in /usr/local/lib/python3.7/dist-packages (from spacy[transformers]) (4.1.1)\n",
            "Requirement already satisfied: catalogue<2.1.0,>=2.0.6 in /usr/local/lib/python3.7/dist-packages (from spacy[transformers]) (2.0.8)\n",
            "Requirement already satisfied: setuptools in /usr/local/lib/python3.7/dist-packages (from spacy[transformers]) (65.4.0)\n",
            "Requirement already satisfied: jinja2 in /usr/local/lib/python3.7/dist-packages (from spacy[transformers]) (2.11.3)\n",
            "Requirement already satisfied: packaging>=20.0 in /usr/local/lib/python3.7/dist-packages (from spacy[transformers]) (21.3)\n",
            "Collecting spacy-transformers<1.2.0,>=1.1.2\n",
            "  Downloading spacy_transformers-1.1.8-py2.py3-none-any.whl (53 kB)\n",
            "\u001b[2K     \u001b[90m━━━━━━━━━━━━━━━━━━━━━━━━━━━━━━━━━━━━━━━━\u001b[0m \u001b[32m53.4/53.4 kB\u001b[0m \u001b[31m5.8 MB/s\u001b[0m eta \u001b[36m0:00:00\u001b[0m\n",
            "\u001b[?25hRequirement already satisfied: zipp>=0.5 in /usr/local/lib/python3.7/dist-packages (from catalogue<2.1.0,>=2.0.6->spacy[transformers]) (3.8.1)\n",
            "Requirement already satisfied: pyparsing!=3.0.5,>=2.0.2 in /usr/local/lib/python3.7/dist-packages (from packaging>=20.0->spacy[transformers]) (3.0.9)\n",
            "Requirement already satisfied: smart-open<6.0.0,>=5.2.1 in /usr/local/lib/python3.7/dist-packages (from pathy>=0.3.5->spacy[transformers]) (5.2.1)\n",
            "Requirement already satisfied: certifi>=2017.4.17 in /usr/local/lib/python3.7/dist-packages (from requests<3.0.0,>=2.13.0->spacy[transformers]) (2022.6.15)\n",
            "Requirement already satisfied: idna<3,>=2.5 in /usr/local/lib/python3.7/dist-packages (from requests<3.0.0,>=2.13.0->spacy[transformers]) (2.10)\n",
            "Requirement already satisfied: chardet<4,>=3.0.2 in /usr/local/lib/python3.7/dist-packages (from requests<3.0.0,>=2.13.0->spacy[transformers]) (3.0.4)\n",
            "Requirement already satisfied: urllib3!=1.25.0,!=1.25.1,<1.26,>=1.21.1 in /usr/local/lib/python3.7/dist-packages (from requests<3.0.0,>=2.13.0->spacy[transformers]) (1.24.3)\n",
            "Collecting spacy-alignments<1.0.0,>=0.7.2\n",
            "  Downloading spacy_alignments-0.8.5-cp37-cp37m-manylinux_2_17_x86_64.manylinux2014_x86_64.whl (1.1 MB)\n",
            "\u001b[2K     \u001b[90m━━━━━━━━━━━━━━━━━━━━━━━━━━━━━━━━━━━━━━━━\u001b[0m \u001b[32m1.1/1.1 MB\u001b[0m \u001b[31m53.3 MB/s\u001b[0m eta \u001b[36m0:00:00\u001b[0m\n",
            "\u001b[?25hCollecting transformers<4.22.0,>=3.4.0\n",
            "  Downloading transformers-4.21.3-py3-none-any.whl (4.7 MB)\n",
            "\u001b[2K     \u001b[90m━━━━━━━━━━━━━━━━━━━━━━━━━━━━━━━━━━━━━━━━\u001b[0m \u001b[32m4.7/4.7 MB\u001b[0m \u001b[31m62.0 MB/s\u001b[0m eta \u001b[36m0:00:00\u001b[0m\n",
            "\u001b[?25hRequirement already satisfied: torch>=1.6.0 in /usr/local/lib/python3.7/dist-packages (from spacy-transformers<1.2.0,>=1.1.2->spacy[transformers]) (1.12.1+cu113)\n",
            "Requirement already satisfied: blis<0.8.0,>=0.7.8 in /usr/local/lib/python3.7/dist-packages (from thinc<8.2.0,>=8.1.0->spacy[transformers]) (0.7.8)\n",
            "Requirement already satisfied: click<9.0.0,>=7.1.1 in /usr/local/lib/python3.7/dist-packages (from typer<0.5.0,>=0.3.0->spacy[transformers]) (7.1.2)\n",
            "Requirement already satisfied: MarkupSafe>=0.23 in /usr/local/lib/python3.7/dist-packages (from jinja2->spacy[transformers]) (2.0.1)\n",
            "Requirement already satisfied: importlib-metadata in /usr/local/lib/python3.7/dist-packages (from transformers<4.22.0,>=3.4.0->spacy-transformers<1.2.0,>=1.1.2->spacy[transformers]) (4.12.0)\n",
            "Requirement already satisfied: regex!=2019.12.17 in /usr/local/lib/python3.7/dist-packages (from transformers<4.22.0,>=3.4.0->spacy-transformers<1.2.0,>=1.1.2->spacy[transformers]) (2022.6.2)\n",
            "Collecting tokenizers!=0.11.3,<0.13,>=0.11.1\n",
            "  Downloading tokenizers-0.12.1-cp37-cp37m-manylinux_2_12_x86_64.manylinux2010_x86_64.whl (6.6 MB)\n",
            "\u001b[2K     \u001b[90m━━━━━━━━━━━━━━━━━━━━━━━━━━━━━━━━━━━━━━━━\u001b[0m \u001b[32m6.6/6.6 MB\u001b[0m \u001b[31m81.4 MB/s\u001b[0m eta \u001b[36m0:00:00\u001b[0m\n",
            "\u001b[?25hCollecting huggingface-hub<1.0,>=0.1.0\n",
            "  Downloading huggingface_hub-0.10.0-py3-none-any.whl (163 kB)\n",
            "\u001b[2K     \u001b[90m━━━━━━━━━━━━━━━━━━━━━━━━━━━━━━━━━━━━━━\u001b[0m \u001b[32m163.5/163.5 kB\u001b[0m \u001b[31m14.1 MB/s\u001b[0m eta \u001b[36m0:00:00\u001b[0m\n",
            "\u001b[?25hRequirement already satisfied: pyyaml>=5.1 in /usr/local/lib/python3.7/dist-packages (from transformers<4.22.0,>=3.4.0->spacy-transformers<1.2.0,>=1.1.2->spacy[transformers]) (6.0)\n",
            "Requirement already satisfied: filelock in /usr/local/lib/python3.7/dist-packages (from transformers<4.22.0,>=3.4.0->spacy-transformers<1.2.0,>=1.1.2->spacy[transformers]) (3.8.0)\n",
            "Installing collected packages: tokenizers, spacy-alignments, huggingface-hub, transformers, spacy-transformers\n",
            "Successfully installed huggingface-hub-0.10.0 spacy-alignments-0.8.5 spacy-transformers-1.1.8 tokenizers-0.12.1 transformers-4.21.3\n",
            "\u001b[33mWARNING: Running pip as the 'root' user can result in broken permissions and conflicting behaviour with the system package manager. It is recommended to use a virtual environment instead: https://pip.pypa.io/warnings/venv\u001b[0m\u001b[33m\n",
            "\u001b[0m"
          ]
        }
      ],
      "source": [
        "!pip install -U pip setuptools wheel\n",
        "!pip install -U spacy\n",
        "!python -m spacy download en_core_web_sm\n",
        "!pip install spacy[transformers]"
      ]
    },
    {
      "cell_type": "markdown",
      "source": [
        "probamos el modelo resultante"
      ],
      "metadata": {
        "id": "f4Dc388W5MTS"
      }
    },
    {
      "cell_type": "code",
      "source": [
        "from pydoc import doc\n",
        "import spacy\n",
        "\n",
        "nlp_ner = spacy.load(\"/content/drive/MyDrive/Model Output/model-best\")"
      ],
      "metadata": {
        "id": "xy6itszo1XNI"
      },
      "execution_count": 3,
      "outputs": []
    },
    {
      "cell_type": "markdown",
      "source": [
        "# Referencia"
      ],
      "metadata": {
        "id": "hadzxNyKUQ6N"
      }
    },
    {
      "cell_type": "code",
      "source": [
        "\n",
        "text = \"\"\"\n",
        "CANCELLATIONS\\nANY TIME\\nCHARGE USD 200.00 FOR CANCEL.\\nNOTE - TEXT BELOW NOT VALIDATED FOR AUTOPRICING.\\n--------------------------------------------------\\nFOR ALL JOURNEYS BEFORE/AFTER FIRST FLIGHT\\nDEPARTURE - USD200\\n--------------------------------------------------\\nAPPLICABLE FEES ARE TO BE CONVERTED INTO\\nLOCAL CURRENCY AT THE BANKERS SELLING RATE.\\n--------------------------------------------------\\nFEES ARE NOT APPLICABLE FOR INFANT WITHOUT A SEAT\\n--------------------------------------------------\\nIN CASE OF TICKET UPGRADE THE ORIGINAL\\nNON-REFUNDABLE AMOUNT REMAINS NON-REFUNDABLE.\\n--------------------------------------------------\\nYR IS NON-REFUNDABLE FOR ALL FARES.\\n--------------------------------------------------\\nIN CASES OF NO-SHOW CHARGE NO SHOW FEE OF USD100\\nAND CANCELLATION FEE OF USD200 FOR CANCEL.\\n--------------------------------------------------\\nFOR ANY CANCELLATIONS THE STRICTER FARE\\nCONDITIONS WILL APPLY TO THE ENTIRE JOURNEY.\\n--------------------------------------------------\\nCHANGES\\nANY TIME\\nCHANGES PERMITTED FOR REISSUE/REVALIDATION.\\nNOTE - TEXT BELOW NOT VALIDATED FOR AUTOPRICING.\\n--------------------------------------------------\\nFOR ANY TICKET CHANGES CHARGE THE HIGHEST FEE OF\\nALL CHANGED FARE COMPONENTS.\\n--------------------------------------------------\\nAPPLICABLE FEES ARE TO BE CONVERTED INTO\\nLOCAL CURRENCY AT THE BANKERS SELLING RATE.\\n--------------------------------------------------\\nFEES ARE NOT APPLICABLE FOR INFANT WITHOUT A SEAT\\n--------------------------------------------------\\nFOR ANY FARE COMPONENT TICKETED IN ECONOMY OR\\nPREMIUM ECONOMY CABIN AND IS UPGRADED TO BUSINESS\\nOR FIRST CABIN REBOOKING FEE FOR\\nREISSUANCE/REVALIDATION IS WAIVED\\n--------------------------------------------------\\nFOR ANY FARE COMPONENT TICKETED IN BUSINESS CABIN\\nAND IS UPGRADED TO FIRST CABIN REBOOKING FEE FOR\\nREISSUANCE/REVALIDATION IS WAIVED\\n--------------------------------------------------\\nTHE NEW BASE FARE MUST BE EQUAL OR HIGHER THAN\\nTHE ORIGINAL BASE FARE FOLLOWING ANY TICKET\\nCHANGES.\\n--------------------------------------------------\\nIN CASE OF TICKET UPGRADE THE ORIGINAL NON-\\nREFUNDABLE AMOUNT REMAINS NON-REFUNDABLE.\\n--------------------------------------------------\\nIN CASES OF NO-SHOW CHARGE THE HIGHER OF NO SHOW\\nFEE USD100 OR REBOOKING FEE HIGHEST AMONG ALL\\nCHANGED FARE COMPONENTS FOR REISSUE/REVALIDATION.\\n--------------------------------------------------\\nNOTE - TEXT BELOW NOT VALIDATED FOR AUTOPRICING.\\nSQ CUSTOMER COMMITMENT -\\nSINGAPORE AIRLINES WILL ALLOW CONSUMERS TO CANCEL\\nA RESERVATION MADE USING THE SINGAPORE AIRLINES\\nWEB SITE /WWW.SINGAPOREAIR.COM/ WITHOUT PENALTY\\nFOR 24 HOURS AFTER THE RESERVATION IS MADE.\\nAS LONG AS THAT RESERVATION IS MADE ONE WEEK\\nOR MORE PRIOR TO A FLIGHT/S SCHEDULED DEPARTURE\\n------------------------------------\\nCONSUMERS WILL NEED TO CALL OUR CONTACT CENTRE\\nTO CANCEL SUCH ONLINE BOOKINGS\\nNOTE - TEXT BELOW NOT VALIDATED FOR AUTOPRICING.\\nA USD50 SERVICE FEE WILL BE CHARGED FOR TICKETING\\nSERVICES PROVIDED BY SINGAPOREAIR AIRLINES\\nSTAFF AT THE AIRPORTS / TICKET OFFICE / OR\\nTHROUGH SINGAPORE AIRLINE/S TELEPHONE\\nRESERVATION LINE.\\n------\\nA USD150 SERVISE FEE WILL BE CHARGED FOR\\nSERVICING RTW AND AIRPASS TICKETS.\\n---\\nFEES WILL BE LEVIED FOR THE FOLLOWING TRACTIONS\\n- TICKET / MCO REFUND\\n- NEW TICKET ISSUANCE\\n- TICKET RE-ISSUANCE OR REVALIDATION\\n- SINGAPORE STOPOVER HOLIDAY HOTELS\\n--\\nTHE SERVICE FEE OF USD50 OR USD150 IS\\nNON-REFUNDABLE\n",
        "\"\"\""
      ],
      "metadata": {
        "id": "2XKdEZI71Y0L"
      },
      "execution_count": 4,
      "outputs": []
    },
    {
      "cell_type": "code",
      "source": [
        "doc = nlp_ner(text)\n",
        "\n",
        "colors = {\n",
        "    \"CANCELLATION_TIME\": \"#F67DE3\",\n",
        "    \"CHARGE_CANCEL\": \"#7DF6D9\",\n",
        "    \"CHARGE_NOSHOW\": \"#FFFFFF\",\n",
        "}\n",
        "options = {\"colors\": colors} \n",
        "\n",
        "spacy.displacy.render(doc, style=\"ent\", options= options, jupyter=True)\n"
      ],
      "metadata": {
        "colab": {
          "base_uri": "https://localhost:8080/",
          "height": 1000
        },
        "id": "VfQ1ieH1nnwS",
        "outputId": "c790ffee-2465-4f16-a707-ac86cac8fad0"
      },
      "execution_count": 6,
      "outputs": [
        {
          "output_type": "display_data",
          "data": {
            "text/plain": [
              "<IPython.core.display.HTML object>"
            ],
            "text/html": [
              "<span class=\"tex2jax_ignore\"><div class=\"entities\" style=\"line-height: 2.5; direction: ltr\"></br>\n",
              "<mark class=\"entity\" style=\"background: #F67DE3; padding: 0.45em 0.6em; margin: 0 0.25em; line-height: 1; border-radius: 0.35em;\">\n",
              "    CANCELLATIONS\n",
              "ANY TIME\n",
              "    <span style=\"font-size: 0.8em; font-weight: bold; line-height: 1; border-radius: 0.35em; vertical-align: middle; margin-left: 0.5rem\">CANCELLATION_TIME</span>\n",
              "</mark>\n",
              "</br>\n",
              "<mark class=\"entity\" style=\"background: #7DF6D9; padding: 0.45em 0.6em; margin: 0 0.25em; line-height: 1; border-radius: 0.35em;\">\n",
              "    CHARGE USD 200.00 FOR CANCEL.\n",
              "    <span style=\"font-size: 0.8em; font-weight: bold; line-height: 1; border-radius: 0.35em; vertical-align: middle; margin-left: 0.5rem\">CHARGE_CANCEL</span>\n",
              "</mark>\n",
              "</br>NOTE - TEXT BELOW NOT VALIDATED FOR AUTOPRICING.</br>--------------------------------------------------</br>FOR ALL JOURNEYS BEFORE/AFTER FIRST FLIGHT</br>DEPARTURE - USD200</br>--------------------------------------------------</br>APPLICABLE FEES ARE TO BE CONVERTED INTO</br>LOCAL CURRENCY AT THE BANKERS SELLING RATE.</br>--------------------------------------------------</br>FEES ARE NOT APPLICABLE FOR INFANT WITHOUT A SEAT</br>--------------------------------------------------</br>IN CASE OF TICKET UPGRADE THE ORIGINAL</br>NON-REFUNDABLE AMOUNT REMAINS NON-REFUNDABLE.</br>--------------------------------------------------</br>YR IS NON-REFUNDABLE FOR ALL FARES.</br>--------------------------------------------------</br>IN CASES OF NO-\n",
              "<mark class=\"entity\" style=\"background: #FFFFFF; padding: 0.45em 0.6em; margin: 0 0.25em; line-height: 1; border-radius: 0.35em;\">\n",
              "    SHOW CHARGE NO SHOW FEE OF USD100\n",
              "    <span style=\"font-size: 0.8em; font-weight: bold; line-height: 1; border-radius: 0.35em; vertical-align: middle; margin-left: 0.5rem\">CHARGE_NOSHOW</span>\n",
              "</mark>\n",
              "</br>AND CANCELLATION FEE OF USD200 FOR CANCEL.</br>--------------------------------------------------</br>FOR ANY CANCELLATIONS THE STRICTER FARE</br>CONDITIONS WILL APPLY TO THE ENTIRE JOURNEY.</br>--------------------------------------------------</br>CHANGES</br>ANY TIME</br>CHANGES PERMITTED FOR REISSUE/REVALIDATION.</br>NOTE - TEXT BELOW NOT VALIDATED FOR AUTOPRICING.</br>--------------------------------------------------</br>FOR ANY TICKET CHANGES CHARGE THE HIGHEST FEE OF</br>ALL CHANGED FARE COMPONENTS.</br>--------------------------------------------------</br>APPLICABLE FEES ARE TO BE CONVERTED INTO</br>LOCAL CURRENCY AT THE BANKERS SELLING RATE.</br>--------------------------------------------------</br>FEES ARE NOT APPLICABLE FOR INFANT WITHOUT A SEAT</br>--------------------------------------------------</br>FOR ANY FARE COMPONENT TICKETED IN ECONOMY OR</br>PREMIUM ECONOMY CABIN AND IS UPGRADED TO BUSINESS</br>OR FIRST CABIN REBOOKING FEE FOR</br>REISSUANCE/REVALIDATION IS WAIVED</br>--------------------------------------------------</br>FOR ANY FARE COMPONENT TICKETED IN BUSINESS CABIN</br>AND IS UPGRADED TO FIRST CABIN REBOOKING FEE FOR</br>REISSUANCE/REVALIDATION IS WAIVED</br>--------------------------------------------------</br>THE NEW BASE FARE MUST BE EQUAL OR HIGHER THAN</br>THE ORIGINAL BASE FARE FOLLOWING ANY TICKET</br>CHANGES.</br>--------------------------------------------------</br>IN CASE OF TICKET UPGRADE THE ORIGINAL NON-</br>REFUNDABLE AMOUNT REMAINS NON-REFUNDABLE.</br>--------------------------------------------------</br>IN CASES OF NO-SHOW CHARGE THE HIGHER OF NO SHOW</br>FEE USD100 OR REBOOKING FEE HIGHEST AMONG ALL</br>CHANGED FARE COMPONENTS FOR REISSUE/REVALIDATION.</br>--------------------------------------------------</br>NOTE - TEXT BELOW NOT VALIDATED FOR AUTOPRICING.</br>SQ CUSTOMER COMMITMENT -</br>SINGAPORE AIRLINES WILL ALLOW CONSUMERS TO CANCEL</br>A RESERVATION MADE USING THE SINGAPORE AIRLINES</br>WEB SITE /WWW.SINGAPOREAIR.COM/ WITHOUT PENALTY</br>FOR 24 HOURS AFTER THE RESERVATION IS MADE.</br>AS LONG AS THAT RESERVATION IS MADE ONE WEEK</br>OR MORE PRIOR TO A FLIGHT/S SCHEDULED DEPARTURE</br>------------------------------------</br>CONSUMERS WILL NEED TO CALL OUR CONTACT CENTRE</br>TO CANCEL SUCH ONLINE BOOKINGS</br>NOTE - TEXT BELOW NOT VALIDATED FOR AUTOPRICING.</br>A USD50 SERVICE FEE WILL BE CHARGED FOR TICKETING</br>SERVICES PROVIDED BY SINGAPOREAIR AIRLINES</br>STAFF AT THE AIRPORTS / TICKET OFFICE / OR</br>THROUGH SINGAPORE AIRLINE/S TELEPHONE</br>RESERVATION LINE.</br>------</br>A USD150 SERVISE FEE WILL BE CHARGED FOR</br>SERVICING RTW AND AIRPASS TICKETS.</br>---</br>FEES WILL BE LEVIED FOR THE FOLLOWING TRACTIONS</br>- TICKET / MCO REFUND</br>- NEW TICKET ISSUANCE</br>- TICKET RE-ISSUANCE OR REVALIDATION</br>- SINGAPORE STOPOVER HOLIDAY HOTELS</br>--</br>THE SERVICE FEE OF USD50 OR USD150 IS</br>NON-REFUNDABLE</br></div></span>"
            ]
          },
          "metadata": {}
        }
      ]
    },
    {
      "cell_type": "markdown",
      "source": [
        "## Ticket 1"
      ],
      "metadata": {
        "id": "IkaNJMNDX3Cv"
      }
    },
    {
      "cell_type": "code",
      "source": [
        "text = \"\"\"\n",
        "*SPECIAL EMERGENCY RULES *SUBJECT TO CHANGE AT ANYTIME CANCELLATIONS TICKET IS NON-REFUNDABLE IN CASE OF NO-SHOW. ANY TIME TICKET IS NON-REFUNDABLE IN CASE OF CANCEL/REFUND. CHILD/INFANT DISCOUNTS APPLY. CHANGES CHANGES NOT PERMITTED IN CASE OF NO-SHOW. ANY TIME CHARGE EUR 150.00/USD 175.00 FOR REISSUE/ REVALIDATION. CHILD/INFANT DISCOUNTS APPLY. NOTE - TEXT BELOW NOT VALIDATED FOR AUTOPRICING. IN CASE OF PASSENGERS HOSPITAL ADMISSION OR DEATH OF PASSENGER OR FAMILY MEMBER PLEASE CONTACT WITH THE AIRLINE. ------------------------------ CHARGE FOR CHANGES APPLIES PER TRANSACTION/TICKET AND PERSON TO ALL PASSENGER TYPES. CHARGE FOR CANCELLATION APPLIES PER DIRECTION TO ALL PASSENGER TYPES. ------------------------------ A CHANGE IS A DATE/FLIGHT/ROUTING/BOOKING CODE CHANGE. ------------------------------ IN CASE OF RESERVATION CHANGES AND REISSUE AFTER SCHEDULED FLIGHT CHANGES NO PERMITTED. OTHERWISE THE TICKET WILL ONLY BE VALID FOR REFUND IF APPLICABLE. ------------------------------ WHEN MORE THAN ONE FARE COMPONENT IS CHANGED THE HIGHEST PENALTY OF ALL CHANGED FARE COMPONENTS WITH THE JOURNEY APPLIES. ------------------------------ WHEN COMBINING NON-REFUNDABLE FARES WITH A REFUNDABLE FARES 1-THE AMOUNT PAID ON EACH REFUNDABLE FARE COMPONENT IS REFUNDED 2-THE AMOUNT PAID ON EACH NON-REFUNDABLE FARE COMPONENT WILL NOT BE REFUNDED 3-WHEN COMBINING FARES CHARGE THE SUM OF THE CANCELLATION FEES OF ALL CANCELLED FARE COMPONENTS ------------------------------ REFUND OF UNUSED TAXES FEES AND CHARGES PAID TO THIRD PARTIES PERMITTED. ASSOCIATED CARRIER IMPOSED CHARGES WILL NOT BE REFUNDED. ------------------------------ REFUND AND CHANGES ARE PERMITTED WITHIN TICKET VALIDITY UNDER FARE CONDITIONS. ------------------------------ ANY NON-REFUNDABLE AMOUNT AND/OR CANCELLATION PENALTY FROM A PREVIOUS TICKET REMAINS NON- REFUNDABLE FOLLOWING A CHANGE. ------------------------------ TICKET IS NOT TRANSFERABLE TO ANOTHER PERSON. ----------------------------------------------- ----REPRICING CONDITIONS ---- A.BEFORE DEPARTURE OF JOURNEY WHEN THE FISRT FARE COMPONENT IS CHANGED THE ITINERARY MUST BE RE-PRICED USING CURRENT FARES IN EFFECT ON THE DATE THE TICKET IS REISSUED. B.BEFORE DEPARTURE OF JOURNEY WHEN CHANGES ARE TO BOOKING CODE ONLY IN THE FIRST FARE COMPONENT AND RESULT IN A HIGHER FARE THE ITINERARY MUST BE RE- PRICED USING HISTORICAL FARES IN EFFECT ON THE PREVIOUS TICKETING DATE OR USING CURRENT FARE IN EFFECT ON THE DATE THE TICKET IS REISSUED - WICHEVER IS LOWER. C. BEFORE DEPARTURE OF JOURNEY WHEN THERE ARE NO CHANGES TO THE FIRST FARE COMPONENT BUT OTHER FARE COMPONENTS ARE CHANGED THE ITINERARY MUST BE RE-PRICED USING HISTORICAL FAERS IN EFFECT ON THE PREVIOUS TICKETING DATE OR USING CURRENT FARES IN EFFECT ON THE DATE THE TICKET IS REISSUED - WHICHEVER IS LOWER. D. AFTER DEPARTURE OF JOURNEY THE ITINERARY MUST BE RE-PRICED USING HISTORICAL FARES IN EFFECT ON THE PREVIOUS TICKETING DATE. ----------------------------------------------- WHEN THE ITINERARY RESULT IN A HIGHER FARE THE DIFFERENCE WILL BE COLLECTED ANY APPLICABLE CHANGE FEE APPLIES. ----------------------------------------------- WHEN THE NEW ITINERARY RESULTS IN A LOWER FARE THE CHANGE FEE APPLIES AND NO CREDIT OF THE RESIDUAL AMOUNT WILL BE MADE. GENERAL RULE - APPLY UNLESS OTHERWISE SPECIFIED CANCELLATIONS TICKET IS NON-REFUNDABLE IN CASE OF NO-SHOW. ANY TIME TICKET IS NON-REFUNDABLE IN CASE OF CANCEL/REFUND. CHILD/INFANT DISCOUNTS APPLY. CHANGES CHANGES NOT PERMITTED IN CASE OF NO-SHOW. ANY TIME CHARGE EUR 150.00/USD 175.00 FOR REISSUE/ REVALIDATION. CHILD/INFANT DISCOUNTS APPLY. NOTE - TEXT BELOW NOT VALIDATED FOR AUTOPRICING. IN CASE OF PASSENGERS HOSPITAL ADMISSION OR DEATH OF PASSENGER OR FAMILY MEMBER PLEASE CONTACT WITH THE AIRLINE. ------------------------------ CHARGE FOR CHANGES APPLIES PER TRANSACTION/TICKET AND PERSON TO ALL PASSENGER TYPES. CHARGE FOR CANCELLATION APPLIES PER DIRECTION TO ALL PASSENGER TYPES. ------------------------------ A CHANGE IS A DATE/FLIGHT/ROUTING/BOOKING CODE CHANGE. ------------------------------ IN CASE OF RESERVATION CHANGES AND REISSUE AFTER SCHEDULED FLIGHT CHANGES NO PERMITTED. OTHERWISE THE TICKET WILL ONLY BE VALID FOR REFUND IF APPLICABLE. ------------------------------ WHEN MORE THAN ONE FARE COMPONENT IS CHANGED THE HIGHEST PENALTY OF ALL CHANGED FARE COMPONENTS WITH THE JOURNEY APPLIES. ------------------------------ WHEN COMBINING NON-REFUNDABLE FARES WITH A REFUNDABLE FARES 1-THE AMOUNT PAID ON EACH REFUNDABLE FARE COMPONENT IS REFUNDED 2-THE AMOUNT PAID ON EACH NON-REFUNDABLE FARE COMPONENT WILL NOT BE REFUNDED 3-WHEN COMBINING FARES CHARGE THE SUM OF THE CANCELLATION FEES OF ALL CANCELLED FARE COMPONENTS ------------------------------ REFUND OF UNUSED TAXES FEES AND CHARGES PAID TO THIRD PARTIES PERMITTED. ASSOCIATED CARRIER IMPOSED CHARGES WILL NOT BE REFUNDED. ------------------------------ REFUND AND CHANGES ARE PERMITTED WITHIN TICKET VALIDITY UNDER FARE CONDITIONS. ------------------------------ ANY NON-REFUNDABLE AMOUNT AND/OR CANCELLATION PENALTY FROM A PREVIOUS TICKET REMAINS NON- REFUNDABLE FOLLOWING A CHANGE. ------------------------------ TICKET IS NOT TRANSFERABLE TO ANOTHER PERSON. ----------------------------------------------- ----REPRICING CONDITIONS ---- A.BEFORE DEPARTURE OF JOURNEY WHEN THE FISRT FARE COMPONENT IS CHANGED THE ITINERARY MUST BE RE-PRICED USING CURRENT FARES IN EFFECT ON THE DATE THE TICKET IS REISSUED. B.BEFORE DEPARTURE OF JOURNEY WHEN CHANGES ARE TO BOOKING CODE ONLY IN THE FIRST FARE COMPONENT AND RESULT IN A HIGHER FARE THE ITINERARY MUST BE RE- PRICED USING HISTORICAL FARES IN EFFECT ON THE PREVIOUS TICKETING DATE OR USING CURRENT FARE IN EFFECT ON THE DATE THE TICKET IS REISSUED - WICHEVER IS LOWER. C. BEFORE DEPARTURE OF JOURNEY WHEN THERE ARE NO CHANGES TO THE FIRST FARE COMPONENT BUT OTHER FARE COMPONENTS ARE CHANGED THE ITINERARY MUST BE RE-PRICED USING HISTORICAL FAERS IN EFFECT ON THE PREVIOUS TICKETING DATE OR USING CURRENT FARES IN EFFECT ON THE DATE THE TICKET IS REISSUED - WHICHEVER IS LOWER. D. AFTER DEPARTURE OF JOURNEY THE ITINERARY MUST BE RE-PRICED USING HISTORICAL FARES IN EFFECT ON THE PREVIOUS TICKETING DATE. ----------------------------------------------- WHEN THE ITINERARY RESULT IN A HIGHER FARE THE DIFFERENCE WILL BE COLLECTED ANY APPLICABLE CHANGE FEE APPLIES. ----------------------------------------------- WHEN THE NEW ITINERARY RESULTS IN A LOWER FARE THE CHANGE FEE APPLIES AND NO CREDIT OF THE RESIDUAL AMOUNT WILL BE MADE\"\"\""
      ],
      "metadata": {
        "id": "a23G7gAKX7tj"
      },
      "execution_count": 7,
      "outputs": []
    },
    {
      "cell_type": "code",
      "source": [
        "doc = nlp_ner(text)\n",
        "\n",
        "colors = {\n",
        "    \"CANCELLATION_TIME\": \"#F67DE3\",\n",
        "    \"CHARGE_CANCEL\": \"#7DF6D9\",\n",
        "    \"CHARGE_NOSHOW\": \"#FFFFFF\",\n",
        "}\n",
        "options = {\"colors\": colors} \n",
        "\n",
        "spacy.displacy.render(doc, style=\"ent\", options= options, jupyter=True)\n"
      ],
      "metadata": {
        "colab": {
          "base_uri": "https://localhost:8080/",
          "height": 1000
        },
        "id": "k_HZK5eOYA4L",
        "outputId": "3c44416e-8a89-4d3e-bb91-43c307ffb354"
      },
      "execution_count": 8,
      "outputs": [
        {
          "output_type": "display_data",
          "data": {
            "text/plain": [
              "<IPython.core.display.HTML object>"
            ],
            "text/html": [
              "<span class=\"tex2jax_ignore\"><div class=\"entities\" style=\"line-height: 2.5; direction: ltr\"></br>*SPECIAL EMERGENCY RULES *SUBJECT TO CHANGE AT ANYTIME CANCELLATIONS TICKET IS NON-REFUNDABLE IN CASE OF NO-SHOW. ANY TIME TICKET IS NON-REFUNDABLE IN CASE OF CANCEL/REFUND. CHILD/INFANT DISCOUNTS APPLY. CHANGES CHANGES NOT PERMITTED IN CASE OF NO-SHOW. ANY TIME CHARGE EUR 150.00/USD 175.00 FOR REISSUE/ REVALIDATION. CHILD/INFANT DISCOUNTS APPLY. NOTE - TEXT BELOW NOT VALIDATED FOR AUTOPRICING. IN CASE OF PASSENGERS HOSPITAL ADMISSION OR DEATH OF PASSENGER OR FAMILY MEMBER PLEASE CONTACT WITH THE AIRLINE. ------------------------------ CHARGE FOR CHANGES APPLIES PER TRANSACTION/TICKET AND PERSON TO ALL PASSENGER TYPES. \n",
              "<mark class=\"entity\" style=\"background: #FFFFFF; padding: 0.45em 0.6em; margin: 0 0.25em; line-height: 1; border-radius: 0.35em;\">\n",
              "    CHARGE FOR CANCELLATION APPLIES PER DIRECTION TO ALL PASSENGER TYPES. ------------------------------ A CHANGE IS A DATE/FLIGHT/ROUTING/BOOKING CODE CHANGE. ------------------------------ IN CASE OF RESERVATION\n",
              "    <span style=\"font-size: 0.8em; font-weight: bold; line-height: 1; border-radius: 0.35em; vertical-align: middle; margin-left: 0.5rem\">CHARGE_NOSHOW</span>\n",
              "</mark>\n",
              " CHANGES AND REISSUE AFTER SCHEDULED FLIGHT CHANGES NO PERMITTED. OTHERWISE THE TICKET WILL ONLY BE VALID FOR REFUND IF APPLICABLE. ------------------------------ WHEN MORE THAN ONE FARE COMPONENT IS CHANGED THE HIGHEST PENALTY OF ALL CHANGED FARE COMPONENTS WITH THE JOURNEY APPLIES. ------------------------------ WHEN COMBINING NON-REFUNDABLE FARES WITH A REFUNDABLE FARES 1-THE AMOUNT PAID ON EACH REFUNDABLE FARE COMPONENT IS REFUNDED 2-THE AMOUNT PAID ON EACH NON-REFUNDABLE FARE COMPONENT WILL NOT BE REFUNDED 3-WHEN COMBINING FARES CHARGE THE SUM OF THE CANCELLATION FEES OF ALL CANCELLED FARE COMPONENTS ------------------------------ REFUND OF UNUSED TAXES FEES AND CHARGES PAID TO THIRD PARTIES PERMITTED. ASSOCIATED CARRIER IMPOSED CHARGES WILL NOT BE REFUNDED. ------------------------------ REFUND AND CHANGES ARE PERMITTED WITHIN TICKET VALIDITY UNDER FARE CONDITIONS. ------------------------------ ANY NON-REFUNDABLE AMOUNT AND/OR CANCELLATION PENALTY FROM A PREVIOUS TICKET REMAINS NON- REFUNDABLE FOLLOWING A CHANGE. ------------------------------ TICKET IS NOT TRANSFERABLE TO ANOTHER PERSON. ----------------------------------------------- ----REPRICING CONDITIONS ---- A.BEFORE DEPARTURE OF JOURNEY WHEN THE FISRT FARE COMPONENT IS CHANGED THE ITINERARY MUST BE RE-PRICED USING CURRENT FARES IN EFFECT ON THE DATE THE TICKET IS REISSUED. B.BEFORE DEPARTURE OF JOURNEY WHEN CHANGES ARE TO BOOKING CODE ONLY IN THE FIRST FARE COMPONENT AND RESULT IN A HIGHER FARE THE ITINERARY MUST BE RE- PRICED USING HISTORICAL FARES IN EFFECT ON THE PREVIOUS TICKETING DATE OR USING CURRENT FARE IN EFFECT ON THE DATE THE TICKET IS REISSUED - WICHEVER IS LOWER. C. BEFORE DEPARTURE OF JOURNEY WHEN THERE ARE NO CHANGES TO THE FIRST FARE COMPONENT BUT OTHER FARE COMPONENTS ARE CHANGED THE ITINERARY MUST BE RE-PRICED USING HISTORICAL FAERS IN EFFECT ON THE PREVIOUS TICKETING DATE OR USING CURRENT FARES IN EFFECT ON THE DATE THE TICKET IS REISSUED - WHICHEVER IS LOWER. D. AFTER DEPARTURE OF JOURNEY THE ITINERARY MUST BE RE-PRICED USING HISTORICAL FARES IN EFFECT ON THE PREVIOUS TICKETING DATE. ----------------------------------------------- WHEN THE ITINERARY RESULT IN A HIGHER FARE THE DIFFERENCE WILL BE COLLECTED ANY APPLICABLE CHANGE FEE APPLIES. ----------------------------------------------- WHEN THE NEW ITINERARY RESULTS IN A LOWER FARE THE CHANGE FEE APPLIES AND NO CREDIT OF THE RESIDUAL AMOUNT WILL BE MADE. GENERAL RULE - APPLY UNLESS OTHERWISE SPECIFIED CANCELLATIONS TICKET IS NON-REFUNDABLE IN CASE OF NO-SHOW. ANY TIME TICKET IS NON-REFUNDABLE IN CASE OF CANCEL/REFUND. CHILD/INFANT DISCOUNTS APPLY. CHANGES CHANGES NOT PERMITTED IN CASE OF NO-\n",
              "<mark class=\"entity\" style=\"background: #F67DE3; padding: 0.45em 0.6em; margin: 0 0.25em; line-height: 1; border-radius: 0.35em;\">\n",
              "    SHOW. ANY TIME\n",
              "    <span style=\"font-size: 0.8em; font-weight: bold; line-height: 1; border-radius: 0.35em; vertical-align: middle; margin-left: 0.5rem\">CANCELLATION_TIME</span>\n",
              "</mark>\n",
              " \n",
              "<mark class=\"entity\" style=\"background: #7DF6D9; padding: 0.45em 0.6em; margin: 0 0.25em; line-height: 1; border-radius: 0.35em;\">\n",
              "    CHARGE EUR 150.00/USD 175.00 FOR REISSUE/ REVALIDATION.\n",
              "    <span style=\"font-size: 0.8em; font-weight: bold; line-height: 1; border-radius: 0.35em; vertical-align: middle; margin-left: 0.5rem\">CHARGE_CANCEL</span>\n",
              "</mark>\n",
              " CHILD/INFANT DISCOUNTS APPLY. NOTE - TEXT BELOW NOT VALIDATED FOR AUTOPRICING. IN CASE OF PASSENGERS HOSPITAL ADMISSION OR DEATH OF PASSENGER OR FAMILY MEMBER PLEASE CONTACT WITH THE AIRLINE. ------------------------------ CHARGE FOR CHANGES APPLIES PER TRANSACTION/TICKET AND PERSON TO ALL PASSENGER TYPES. \n",
              "<mark class=\"entity\" style=\"background: #FFFFFF; padding: 0.45em 0.6em; margin: 0 0.25em; line-height: 1; border-radius: 0.35em;\">\n",
              "    CHARGE FOR CANCELLATION APPLIES PER DIRECTION TO ALL PASSENGER TYPES. ------------------------------ A CHANGE IS A DATE/FLIGHT/ROUTING/BOOKING CODE CHANGE. ------------------------------ IN CASE OF RESERVATION\n",
              "    <span style=\"font-size: 0.8em; font-weight: bold; line-height: 1; border-radius: 0.35em; vertical-align: middle; margin-left: 0.5rem\">CHARGE_NOSHOW</span>\n",
              "</mark>\n",
              " CHANGES AND REISSUE AFTER SCHEDULED FLIGHT CHANGES NO PERMITTED. OTHERWISE THE TICKET WILL ONLY BE VALID FOR REFUND IF APPLICABLE. ------------------------------ WHEN MORE THAN ONE FARE COMPONENT IS CHANGED THE HIGHEST PENALTY OF ALL CHANGED FARE COMPONENTS WITH THE JOURNEY APPLIES. ------------------------------ WHEN COMBINING NON-REFUNDABLE FARES WITH A REFUNDABLE FARES 1-THE AMOUNT PAID ON EACH REFUNDABLE FARE COMPONENT IS REFUNDED 2-THE AMOUNT PAID ON EACH NON-REFUNDABLE FARE COMPONENT WILL NOT BE REFUNDED 3-WHEN COMBINING FARES CHARGE THE SUM OF THE CANCELLATION FEES OF ALL CANCELLED FARE COMPONENTS ------------------------------ REFUND OF UNUSED TAXES FEES AND CHARGES PAID TO THIRD PARTIES PERMITTED. ASSOCIATED CARRIER IMPOSED CHARGES WILL NOT BE REFUNDED. ------------------------------ REFUND AND CHANGES ARE PERMITTED WITHIN TICKET VALIDITY UNDER FARE CONDITIONS. ------------------------------ ANY NON-REFUNDABLE AMOUNT AND/OR CANCELLATION PENALTY FROM A PREVIOUS TICKET REMAINS NON- REFUNDABLE FOLLOWING A CHANGE. ------------------------------ TICKET IS NOT TRANSFERABLE TO ANOTHER PERSON. ----------------------------------------------- ----REPRICING CONDITIONS ---- A.BEFORE DEPARTURE OF JOURNEY WHEN THE FISRT FARE COMPONENT IS CHANGED THE ITINERARY MUST BE RE-PRICED USING CURRENT FARES IN EFFECT ON THE DATE THE TICKET IS REISSUED. B.BEFORE DEPARTURE OF JOURNEY WHEN CHANGES ARE TO BOOKING CODE ONLY IN THE FIRST FARE COMPONENT AND RESULT IN A HIGHER FARE THE ITINERARY MUST BE RE- PRICED USING HISTORICAL FARES IN EFFECT ON THE PREVIOUS TICKETING DATE OR USING CURRENT FARE IN EFFECT ON THE DATE THE TICKET IS REISSUED - WICHEVER IS LOWER. C. BEFORE DEPARTURE OF JOURNEY WHEN THERE ARE NO CHANGES TO THE FIRST FARE COMPONENT BUT OTHER FARE COMPONENTS ARE CHANGED THE ITINERARY MUST BE RE-PRICED USING HISTORICAL FAERS IN EFFECT ON THE PREVIOUS TICKETING DATE OR USING CURRENT FARES IN EFFECT ON THE DATE THE TICKET IS REISSUED - WHICHEVER IS LOWER. D. AFTER DEPARTURE OF JOURNEY THE ITINERARY MUST BE RE-PRICED USING HISTORICAL FARES IN EFFECT ON THE PREVIOUS TICKETING DATE. ----------------------------------------------- WHEN THE ITINERARY RESULT IN A HIGHER FARE THE DIFFERENCE WILL BE COLLECTED ANY APPLICABLE CHANGE FEE APPLIES. ----------------------------------------------- WHEN THE NEW ITINERARY RESULTS IN A LOWER FARE THE CHANGE FEE APPLIES AND NO CREDIT OF THE RESIDUAL AMOUNT WILL BE MADE</div></span>"
            ]
          },
          "metadata": {}
        }
      ]
    },
    {
      "cell_type": "markdown",
      "source": [
        "## Ticket 2"
      ],
      "metadata": {
        "id": "o8RuhiT5aMMq"
      }
    },
    {
      "cell_type": "code",
      "source": [
        "text = \"\"\"\n",
        "CHANGES ANY TIME CHANGES NOT PERMITTED IN CASE OF REISSUE/ REVALIDATION. ANY TIME CHANGES NOT PERMITTED IN CASE OF NO-SHOW. CANCELLATIONS ANY TIME TICKET IS NON-REFUNDABLE. NOTE - TEXT BELOW NOT VALIDATED FOR AUTOPRICING. DERECHO DE RETRACTO SOLO PARA COMPRAS REALIZADAS Y ORIGINADAS EN COLOMBIA A TRAVES DE LATAM.COM-CONTACT CENTER O AGENCIAS ON LINE. EN CASO DE RETRACTO SE RETENDRA EL 10 PCT DEL VALOR DE LA TARIFA PAGADA -TARIFA NETA MAS CARGO POR COMBUSTIBLE- EXCLUYENDO TASAS- IMPUESTOS Y TARIFA ADMINISTRATIVA O HASTA UN MAXIMO DE 60.000 PESOS PARA TICKETS CON ITINERARIOS NACIONALES Y USD50 PARA TICKETS CON ITINERARIOS INTERNACIONALES. EL PASAJERO DEBE CUMPLIR 2 CONDICIONES PARA SOLICITAR EL RETRACTO -SOLICITARLO DENTRO DE LAS 48 HORAS SIGUIENTES A LA FECHA DE COMPRA - EJERCER EL DERECHO DE RETRACTO CON UNA ANTERIORIDAD IGUAL O MAYOR A 8 DIAS CALENDARIO ENTRE LA FECHA DE LA SOLICITUD Y LA FECHA DE INICIO DE VIAJE SI ES NACIONAL O 15 DIAS CALENDARIO ENTRE LA FECHA DE LA SOLICITUD Y LA FECHA DEL INICIO DE VIAJE SI ES INTERNACIONAL // -DERECHO DE DESISTIMIENTO PARA TARIFAS NO PROMOCIONALES COMPRADAS EN COLOMBIA SE PUEDE SOLICITAR LA DEVOLUCION DEL DINERO DANDO AVISO CON UN MINIMO DE 24 HORAS ANTES DEL VIAJE SIEMPRE Y CUANDO LA COMPRA Y EL ORIGEN SEA COLOMBIA. EN ESTE CASO LA AEROLINEA RETENDRA 10 PCT DEL VALOR DE LA TARIFA PAGADA - TARIFA NETA MAS CARGO POR COMBUSTIBLE - EXCLUYENDO TASAS-IMPUESTOS Y TARIFA ADMINISTRATIVA. // -RIGHT OF WITHDRAWAL ONLY FOR SALES MADE IN COLOMBIA VIA LATAM.COM CONTACT CENTER OR ONLINE AGENCIES AND FOR ITINERARIES ORIGINATING IN COLOMBIA. IN CASE OF WITHDRAWAL THE AIRLINE WILL RETAIN 10 PCT OF THE FARE PAID -NET FARE PLUS FUEL SURCHARGE- EXCLUDING AIRPORT FEES TAXES AND ADMINISTRATIVE FARES OR UP TO A MAXIMUM OF COP60000 FOR DOMESTIC ITINERARIES AND USD50 FOR INTERNATIONAL ITINERARIES. PASSENGERS MUST MEET 2 CONDITIONS FOR REQUESTING THE WITHDRAWAL -REQUEST IT WITHIN 48 HOURS FROM TICKET PURCHARSE. -EXERCISE THE RIGHT OF WITHDRAWALL WITH AT LEAST 8 CALENDAR DAYS BETWEEN THE DATE OF REQUEST AND THE DATE OF TRAVEL FOR DOMESTIC ITINERARIES OR 15 CALENDAR DAYS BETWEEN THE DATE OF REQUEST AND THE DATE OF TRAVEL FOR INTERNATIONAL ITINERARIES. // RIGHT OF ABANDONMENT IN THE CASE OF NON PROMOTIONAL FARES PURCHASED IN COLOMBIA A REFUND OF THE AMOUNT PAID MAY BE REQUESTED WITH 24 HOURS NOTICE PRIOR TO DEPARTURE PROVIDED THE PURCHARSE WAS MADE IN COLOMBIA AND THE ORIGINATION POINT IS COLOMBIA. IN THIS CASE THE AIRLINE WILL RETAIN 10 PCT OF THE FARE PAID - NET FARE PLUS FUEL SURCHARGE- EXCLUDING AIRPORT FEES TAXES AND ADMINISTRATIVE FARE\n",
        "\"\"\""
      ],
      "metadata": {
        "id": "49DuOrTZaMMr"
      },
      "execution_count": 9,
      "outputs": []
    },
    {
      "cell_type": "code",
      "source": [
        "doc = nlp_ner(text)\n",
        "\n",
        "colors = {\n",
        "    \"CANCELLATION_TIME\": \"#F67DE3\",\n",
        "    \"CHARGE_CANCEL\": \"#7DF6D9\",\n",
        "    \"CHARGE_NOSHOW\": \"#FFFFFF\",\n",
        "}\n",
        "options = {\"colors\": colors} \n",
        "\n",
        "spacy.displacy.render(doc, style=\"ent\", options= options, jupyter=True)\n"
      ],
      "metadata": {
        "colab": {
          "base_uri": "https://localhost:8080/",
          "height": 632
        },
        "outputId": "401c6002-0c90-47a3-c421-87755d336329",
        "id": "p4iBrx2QaMMr"
      },
      "execution_count": 10,
      "outputs": [
        {
          "output_type": "stream",
          "name": "stderr",
          "text": [
            "/usr/local/lib/python3.7/dist-packages/spacy/displacy/__init__.py:205: UserWarning: [W006] No entities to visualize found in Doc object. If this is surprising to you, make sure the Doc was processed using a model that supports named entity recognition, and check the `doc.ents` property manually if necessary.\n",
            "  warnings.warn(Warnings.W006)\n"
          ]
        },
        {
          "output_type": "display_data",
          "data": {
            "text/plain": [
              "<IPython.core.display.HTML object>"
            ],
            "text/html": [
              "<span class=\"tex2jax_ignore\"><div class=\"entities\" style=\"line-height: 2.5; direction: ltr\"></br>CHANGES ANY TIME CHANGES NOT PERMITTED IN CASE OF REISSUE/ REVALIDATION. ANY TIME CHANGES NOT PERMITTED IN CASE OF NO-SHOW. CANCELLATIONS ANY TIME TICKET IS NON-REFUNDABLE. NOTE - TEXT BELOW NOT VALIDATED FOR AUTOPRICING. DERECHO DE RETRACTO SOLO PARA COMPRAS REALIZADAS Y ORIGINADAS EN COLOMBIA A TRAVES DE LATAM.COM-CONTACT CENTER O AGENCIAS ON LINE. EN CASO DE RETRACTO SE RETENDRA EL 10 PCT DEL VALOR DE LA TARIFA PAGADA -TARIFA NETA MAS CARGO POR COMBUSTIBLE- EXCLUYENDO TASAS- IMPUESTOS Y TARIFA ADMINISTRATIVA O HASTA UN MAXIMO DE 60.000 PESOS PARA TICKETS CON ITINERARIOS NACIONALES Y USD50 PARA TICKETS CON ITINERARIOS INTERNACIONALES. EL PASAJERO DEBE CUMPLIR 2 CONDICIONES PARA SOLICITAR EL RETRACTO -SOLICITARLO DENTRO DE LAS 48 HORAS SIGUIENTES A LA FECHA DE COMPRA - EJERCER EL DERECHO DE RETRACTO CON UNA ANTERIORIDAD IGUAL O MAYOR A 8 DIAS CALENDARIO ENTRE LA FECHA DE LA SOLICITUD Y LA FECHA DE INICIO DE VIAJE SI ES NACIONAL O 15 DIAS CALENDARIO ENTRE LA FECHA DE LA SOLICITUD Y LA FECHA DEL INICIO DE VIAJE SI ES INTERNACIONAL // -DERECHO DE DESISTIMIENTO PARA TARIFAS NO PROMOCIONALES COMPRADAS EN COLOMBIA SE PUEDE SOLICITAR LA DEVOLUCION DEL DINERO DANDO AVISO CON UN MINIMO DE 24 HORAS ANTES DEL VIAJE SIEMPRE Y CUANDO LA COMPRA Y EL ORIGEN SEA COLOMBIA. EN ESTE CASO LA AEROLINEA RETENDRA 10 PCT DEL VALOR DE LA TARIFA PAGADA - TARIFA NETA MAS CARGO POR COMBUSTIBLE - EXCLUYENDO TASAS-IMPUESTOS Y TARIFA ADMINISTRATIVA. // -RIGHT OF WITHDRAWAL ONLY FOR SALES MADE IN COLOMBIA VIA LATAM.COM CONTACT CENTER OR ONLINE AGENCIES AND FOR ITINERARIES ORIGINATING IN COLOMBIA. IN CASE OF WITHDRAWAL THE AIRLINE WILL RETAIN 10 PCT OF THE FARE PAID -NET FARE PLUS FUEL SURCHARGE- EXCLUDING AIRPORT FEES TAXES AND ADMINISTRATIVE FARES OR UP TO A MAXIMUM OF COP60000 FOR DOMESTIC ITINERARIES AND USD50 FOR INTERNATIONAL ITINERARIES. PASSENGERS MUST MEET 2 CONDITIONS FOR REQUESTING THE WITHDRAWAL -REQUEST IT WITHIN 48 HOURS FROM TICKET PURCHARSE. -EXERCISE THE RIGHT OF WITHDRAWALL WITH AT LEAST 8 CALENDAR DAYS BETWEEN THE DATE OF REQUEST AND THE DATE OF TRAVEL FOR DOMESTIC ITINERARIES OR 15 CALENDAR DAYS BETWEEN THE DATE OF REQUEST AND THE DATE OF TRAVEL FOR INTERNATIONAL ITINERARIES. // RIGHT OF ABANDONMENT IN THE CASE OF NON PROMOTIONAL FARES PURCHASED IN COLOMBIA A REFUND OF THE AMOUNT PAID MAY BE REQUESTED WITH 24 HOURS NOTICE PRIOR TO DEPARTURE PROVIDED THE PURCHARSE WAS MADE IN COLOMBIA AND THE ORIGINATION POINT IS COLOMBIA. IN THIS CASE THE AIRLINE WILL RETAIN 10 PCT OF THE FARE PAID - NET FARE PLUS FUEL SURCHARGE- EXCLUDING AIRPORT FEES TAXES AND ADMINISTRATIVE FARE</br></div></span>"
            ]
          },
          "metadata": {}
        }
      ]
    },
    {
      "cell_type": "markdown",
      "source": [
        "## Ticket 3"
      ],
      "metadata": {
        "id": "aBA0W6uUbWp9"
      }
    },
    {
      "cell_type": "code",
      "source": [
        "text = \"\"\"\n",
        "CANCELLATIONS BEFORE DEPARTURE TICKET IS NON-REFUNDABLE IN CASE OF CANCEL/REFUND. AFTER DEPARTURE TICKET IS NON-REFUNDABLE IN CASE OF CANCEL/REFUND. CHANGES BEFORE DEPARTURE PER TICKET CHARGE EUR 150.00/USD 190.00 FOR REISSUE. CHILD/INFANT DISCOUNTS APPLY. AFTER DEPARTURE PER TICKET CHARGE EUR 150.00/USD 190.00 FOR REISSUE. CHILD/INFANT DISCOUNTS APPLY. NOTE - TEXT BELOW NOT VALIDATED FOR AUTOPRICING. INFORMATION RELATIVE IN BOTH CANCELATION AND CHANGES ------------------------------ WAIVED FOR DEATH OF A PASSENGER AND PASSENGERS TRAVELLING COMPANIONS. ------------------------------ IT WILL BE CONSIDERED NO SHOW WHEN A PASSENGER HAS NOT ADVISED THE AIRLINE THAT WILL NOT BE ABLE TO MAKE THE FLIGHT IN WHICH THEY ARE BOOKED ON. BEING NECESSARY THAT THE PASSENGER HAS CANCELED AND REFUNDED OR CHANGED THE TICKET AT THE SAME TIME. ------------------------------ REFUND FOR NO SHOW - NOT PERMITTED CHANGES FOR NO SHOW - NOT PERMITTED CHILD/INFANT DISCOUNTS APPLY. ------------------------------ IN CASE CHARGE FOR CHANGES APPLIES PER TRANSACTION/TICKET AND PERSON TO ALL PASSENGER TYPES. IN CASE CHARGE FOR CANCELLATION APPLIES PER DIRECTION TO ALL PASSENGER TYPES. ------------------------------ A CHANGE IS A DATE/FLIGHT/ROUTING/BOOKING CODE CHANGE. ------------------------------ REISSUE MUST BE MADE AT THE SAME TIME AS CHANGE OF RESERVATION BUT NO LATER THAN SCHEDULED DEPARTURE TIME OF FLIGHT BEING CHANGED. ------------------------------ WHEN MORE THAN ONE FARE COMPONENT IS CHANGED THE HIGHEST PENALTY OF ALL CHANGED FARE COMPONENTS WITH THE JOURNEY APPLIES. ------------------------------ WHEN COMBINING NON-REFUNDABLE FARES WITH A REFUNDABLE FARES 1-THE AMOUNT PAID ON EACH REFUNDABLE FARE COMPONENT IS REFUNDED 2-THE AMOUNT PAID ON EACH NON-REFUNDABLE FARE COMPONENT WILL NOT BE REFUNDED 3-WHEN COMBINING FARES CHARGE THE SUM OF THE CANCELLATION FEES OF ALL CANCELLED FARE COMPONENTS ------------------------------ REFUND OF UNUSED TAXES PAID TO THIRD PARTIES PERMITTED. EXCEPT FOR TAXES THAT ARE LEGALLY NON-REFUNDABLE. YQ/YR WILL BE REFUNDED IF THE FARE IS REFUNDABLE OTHERWISE IT WOULD NOT BE ALLOWED ------------------------------ REFUND AND CHANGES ARE PERMITTED WITHIN TICKET VALIDITY UNDER FARE CONDITIONS. ------------------------------ ANY NON-REFUNDABLE AMOUNT AND/OR CANCELLATION PENALTY FROM A PREVIOUS TICKET REMAINS NON- REFUNDABLE FOLLOWING A CHANGE. ------------------------------ TICKET IS NOT TRANSFERABLE TO ANOTHER PERSON. ----------------------------------------------- ----REPRICING CONDITIONS ---- A.BEFORE DEPARTURE OF JOURNEY WHEN THE FISRT FARE COMPONENT IS CHANGED THE ITINERARY MUST BE RE-PRICED USING CURRENT FARES IN EFFECT ON THE DATE THE TICKET IS REISSUED. B.BEFORE DEPARTURE OF JOURNEY WHEN CHANGES ARE TO BOOKING CODE ONLY IN THE FIRST FARE COMPONENT AND RESULT IN A HIGHER FARE THE ITINERARY MUST BE RE- PRICED USING HISTORICAL FARES IN EFFECT ON THE PREVIOUS TICKETING DATE OR USING CURRENT FARE IN EFFECT ON THE DATE THE TICKET IS REISSUED - WICHEVER IS LOWER. C. BEFORE DEPARTURE OF JOURNEY WHEN THERE ARE NO CHANGES TO THE FIRST FARE COMPONENT BUT OTHER FARE COMPONENTS ARE CHANGED THE ITINERARY MUST BE RE-PRICED USING HISTORICAL FAERS IN EFFECT ON THE PREVIOUS TICKETING DATE OR USING CURRENT FARES IN EFFECT ON THE DATE THE TICKET IS REISSUED - WHICHEVER IS LOWER. D. AFTER DEPARTURE OF JOURNEY THE ITINERARY MUST BE RE-PRICED USING HISTORICAL FARES IN EFFECT ON THE PREVIOUS TICKETING DATE. ----------------------------------------------- WHEN THE ITINERARY RESULT IN A HIGHER FARE THE DIFFERENCE WILL BE COLLECTED ANY APPLICABLE CHANGE FEE APPLIES. ----------------------------------------------- WHEN THE NEW ITINERARY RESULTS IN A LOWER FARE THE CHANGE FEE APPLIES AND NO CREDIT OF THE RESIDUAL AMOUNT WILL BE MADE\n",
        "\"\"\""
      ],
      "metadata": {
        "id": "O5WohYoSbWqC"
      },
      "execution_count": 14,
      "outputs": []
    },
    {
      "cell_type": "code",
      "source": [
        "doc = nlp_ner(text)\n",
        "\n",
        "colors = {\n",
        "    \"CANCELLATION_TIME\": \"#F67DE3\",\n",
        "    \"CHARGE_CANCEL\": \"#7DF6D9\",\n",
        "    \"CHARGE_NOSHOW\": \"#FFFFFF\",\n",
        "}\n",
        "options = {\"colors\": colors} \n",
        "\n",
        "spacy.displacy.render(doc, style=\"ent\", options= options, jupyter=True)\n"
      ],
      "metadata": {
        "colab": {
          "base_uri": "https://localhost:8080/",
          "height": 787
        },
        "outputId": "8fc99d70-dc63-47c8-c286-d5711768d1b0",
        "id": "huxoInMUbWqC"
      },
      "execution_count": 15,
      "outputs": [
        {
          "output_type": "display_data",
          "data": {
            "text/plain": [
              "<IPython.core.display.HTML object>"
            ],
            "text/html": [
              "<span class=\"tex2jax_ignore\"><div class=\"entities\" style=\"line-height: 2.5; direction: ltr\"></br>CANCELLATIONS BEFORE DEPARTURE TICKET IS NON-REFUNDABLE IN CASE OF CANCEL/REFUND. AFTER DEPARTURE TICKET IS NON-REFUNDABLE IN CASE OF CANCEL/REFUND. CHANGES BEFORE DEPARTURE PER TICKET CHARGE EUR 150.00/USD 190.00 FOR REISSUE. CHILD/INFANT DISCOUNTS APPLY. AFTER DEPARTURE PER TICKET CHARGE EUR 150.00/\n",
              "<mark class=\"entity\" style=\"background: #7DF6D9; padding: 0.45em 0.6em; margin: 0 0.25em; line-height: 1; border-radius: 0.35em;\">\n",
              "    USD 190.00 FOR REISSUE.\n",
              "    <span style=\"font-size: 0.8em; font-weight: bold; line-height: 1; border-radius: 0.35em; vertical-align: middle; margin-left: 0.5rem\">CHARGE_CANCEL</span>\n",
              "</mark>\n",
              " CHILD/INFANT DISCOUNTS APPLY. NOTE - TEXT BELOW NOT VALIDATED FOR AUTOPRICING. INFORMATION RELATIVE IN BOTH CANCELATION AND CHANGES ------------------------------ WAIVED FOR DEATH OF A PASSENGER AND PASSENGERS TRAVELLING COMPANIONS. ------------------------------ IT WILL BE CONSIDERED NO SHOW WHEN A PASSENGER HAS NOT ADVISED THE AIRLINE THAT WILL NOT BE ABLE TO MAKE THE FLIGHT IN WHICH THEY ARE BOOKED ON. BEING NECESSARY THAT THE PASSENGER HAS CANCELED AND REFUNDED OR CHANGED THE TICKET AT THE SAME TIME. ------------------------------ REFUND FOR NO SHOW - NOT PERMITTED CHANGES FOR NO SHOW - NOT PERMITTED CHILD/INFANT DISCOUNTS APPLY. ------------------------------ IN CASE CHARGE FOR CHANGES APPLIES PER TRANSACTION/TICKET AND PERSON TO ALL PASSENGER TYPES. IN CASE \n",
              "<mark class=\"entity\" style=\"background: #FFFFFF; padding: 0.45em 0.6em; margin: 0 0.25em; line-height: 1; border-radius: 0.35em;\">\n",
              "    CHARGE FOR CANCELLATION APPLIES PER DIRECTION TO ALL PASSENGER TYPES. ------------------------------ A CHANGE IS A DATE/FLIGHT/ROUTING/BOOKING CODE CHANGE. ------------------------------ REISSUE MUST BE MADE AT THE SAME TIME AS CHANGE OF RESERVATION\n",
              "    <span style=\"font-size: 0.8em; font-weight: bold; line-height: 1; border-radius: 0.35em; vertical-align: middle; margin-left: 0.5rem\">CHARGE_NOSHOW</span>\n",
              "</mark>\n",
              " BUT NO LATER THAN SCHEDULED DEPARTURE TIME OF FLIGHT BEING CHANGED. ------------------------------ WHEN MORE THAN ONE FARE COMPONENT IS CHANGED THE HIGHEST PENALTY OF ALL CHANGED FARE COMPONENTS WITH THE JOURNEY APPLIES. ------------------------------ WHEN COMBINING NON-REFUNDABLE FARES WITH A REFUNDABLE FARES 1-THE AMOUNT PAID ON EACH REFUNDABLE FARE COMPONENT IS REFUNDED 2-THE AMOUNT PAID ON EACH NON-REFUNDABLE FARE COMPONENT WILL NOT BE REFUNDED 3-WHEN COMBINING FARES CHARGE THE SUM OF THE CANCELLATION FEES OF ALL CANCELLED FARE COMPONENTS ------------------------------ REFUND OF UNUSED TAXES PAID TO THIRD PARTIES PERMITTED. EXCEPT FOR TAXES THAT ARE LEGALLY NON-REFUNDABLE. YQ/YR WILL BE REFUNDED IF THE FARE IS REFUNDABLE OTHERWISE IT WOULD NOT BE ALLOWED ------------------------------ REFUND AND CHANGES ARE PERMITTED WITHIN TICKET VALIDITY UNDER FARE CONDITIONS. ------------------------------ ANY NON-REFUNDABLE AMOUNT AND/OR CANCELLATION PENALTY FROM A PREVIOUS TICKET REMAINS NON- REFUNDABLE FOLLOWING A CHANGE. ------------------------------ TICKET IS NOT TRANSFERABLE TO ANOTHER PERSON. ----------------------------------------------- ----REPRICING CONDITIONS ---- A.BEFORE DEPARTURE OF JOURNEY WHEN THE FISRT FARE COMPONENT IS CHANGED THE ITINERARY MUST BE RE-PRICED USING CURRENT FARES IN EFFECT ON THE DATE THE TICKET IS REISSUED. B.BEFORE DEPARTURE OF JOURNEY WHEN CHANGES ARE TO BOOKING CODE ONLY IN THE FIRST FARE COMPONENT AND RESULT IN A HIGHER FARE THE ITINERARY MUST BE RE- PRICED USING HISTORICAL FARES IN EFFECT ON THE PREVIOUS TICKETING DATE OR USING CURRENT FARE IN EFFECT ON THE DATE THE TICKET IS REISSUED - WICHEVER IS LOWER. C. BEFORE DEPARTURE OF JOURNEY WHEN THERE ARE NO CHANGES TO THE FIRST FARE COMPONENT BUT OTHER FARE COMPONENTS ARE CHANGED THE ITINERARY MUST BE RE-PRICED USING HISTORICAL FAERS IN EFFECT ON THE PREVIOUS TICKETING DATE OR USING CURRENT FARES IN EFFECT ON THE DATE THE TICKET IS REISSUED - WHICHEVER IS LOWER. D. AFTER DEPARTURE OF JOURNEY THE ITINERARY MUST BE RE-PRICED USING HISTORICAL FARES IN EFFECT ON THE PREVIOUS TICKETING DATE. ----------------------------------------------- WHEN THE ITINERARY RESULT IN A HIGHER FARE THE DIFFERENCE WILL BE COLLECTED ANY APPLICABLE CHANGE FEE APPLIES. ----------------------------------------------- WHEN THE NEW ITINERARY RESULTS IN A LOWER FARE THE CHANGE FEE APPLIES AND NO CREDIT OF THE RESIDUAL AMOUNT WILL BE MADE</div></span>"
            ]
          },
          "metadata": {}
        }
      ]
    },
    {
      "cell_type": "markdown",
      "source": [
        "## Ticket 4"
      ],
      "metadata": {
        "id": "iYI9q6LOfWRJ"
      }
    },
    {
      "cell_type": "code",
      "source": [
        "text = \"\"\"\n",
        "CANCELLATIONS ANY TIME TICKET IS NON-REFUNDABLE. WAIVED FOR DEATH OF PASSENGER OR FAMILY MEMBER. NOTE - TEXT BELOW NOT VALIDATED FOR AUTOPRICING. WAIVERS MUST BE EVIDENCED BY DEATH CERTIFICATE. ----------------------------------------------- REFUND PERMITTED BEFORE DEPARTURE IN CASE OF REJECTION OF VISA. EMBASSY STATEMENT REQUIRED. ----------------------------------------------- REFUND RULES APPLY PER FARE COMPONENT. ----------------------------------------------- WHEN COMBINING NON-REFUNDABLE FARES WITH REFUNDABLE FARES- 1. THE AMOUNT PAID ON EACH REFUNDABLE FARE COMPONENT IS REFUNDED. 2. THE AMOUNT PAID ON EACH NON-REFUNDABLE FARE COMPONENT WILL NOT BE REFUNDED. 3. WHEN COMBINING FARES CHARGE THE SUM OF THE CANCELLATION PENALTIES OF ALL CANCELLED FARE COMPONENTS. ----------------------------------------------- REFUND FOR PARTLY USED TICKET- IF A RETURN TICKET SHALL BE USED FOR ONE WAY TRAVEL- THE DIFFERENCE BETWEEN THE RETURN FARE AND THE APPLICABLE ONE WAY FARE WILL/SHALL BE CALCULATED. THE APPLICABLE ONE WAY IS THE ONE WAY FARE WITHIN THE SAME FARE FAMILY AND THE SAME OR HIGHER RBD. ANY CREDIT WILL BE REFUNDED LESS ANY APPLICABLE CANCELLATION PENALTY. ----------------------------------------------- CHILD DISCOUNT DOES NOT APPLY. INFANT WITHOUT SEAT FREE OF CHARGE. ----------------------------------------------- REFUND PERMITTED WITHIN TICKET VALIDITY. ----------------------------------------------- ANY ORIGINAL NON-REFUNDABLE AMOUNT FROM A PREVIOUS TICKET REMAINS NON REFUNDABLE AND WILL BE CARRIED FORWARD TO ANY REISSUED/EXCHANGED TICKET. ----------------------------------------------- REFUND OF UNUSED TAXES PAID TO THIRD PARTIES PERMITTED. EXCEPT FOR TAXES THAT ARE LEGALLY NON-REFUNDABLE. ----------------------------------------------- REFUND OF UNUSED YR NOT PERMITTED. THIS ALSO INCLUDES LH/LX/OS/SN/EN DCC - DISTRIBUTION COST CHARGE - SHOWN AS YR ON THE TICKET. ----------------------------------------------- REFUND OF UNUSED YQ NOT PERMITTED. ----------------------------------------------- GERMAN AVIATION SECURITY CHARGE IS POTENTIALLY REFUNDABLE FOR TRANSFER PASSENGERS ARRIVING FROM COUNTRIES US/ CA OR ME HAVING TRANSFER IN FRA TERMINAL 1 WITH NO ADDITIONAL SECURITY CHECK BY FEDERAL POLICE IN FRA. ----------------------------------------------- THE OPTIONAL PAYMENT CHARGE IS NON-REFUNDABLE. ----------------------------------------------- CHANGES ANY TIME CHANGES PERMITTED. NOTE - TEXT BELOW NOT VALIDATED FOR AUTOPRICING. REISSUE/REVALIDATION/EXCHANGE PERMITTED. ----------------------------------------------- REROUTING PERMITTED. ----------------------------------------------- WAIVERS MUST BE EVIDENCED BY DEATH CERTIFICATE. ----------------------------------------------- RULES FOR CHANGES APPLY BY FARE COMPONENT/DIRECTION. IN CASE OF FARE COMBINATION CHARGE THE HIGHEST FEE OF ALL CHANGED FARE COMPONENTS. ----------------------------------------------- A CHANGE IS A DATE/FLIGHT/ROUTING/BOOKING CODE CHANGE. ----------------------------------------------- CHANGE IS ALLOWED WITH- -LH/LX/OS/SN/EN/4Y CLASSIC FARE FAMILY FARES -LH/LX/OS/SN/EN/4Y CLS/J-BUZ/C-BUZ/NN/NC/NF/RC/RF/ RN/FF/-77 TYPE FARES -OTHER AIRLINE FARE WITHOUT FARE TYPE RESTRICTION ----------------------------------------------- CHANGE FEE APPLIES FOR EVERY SINGLE CLOSED REISSUE/REVALIDATION/REBOOKING TRANSACTION. ----------------------------------------------- CHILD DISCOUNT DOES NOT APPLY. INFANT WITHOUT SEAT FREE OF CHARGE. ----------------------------------------------- CHANGES NOT PERMITTED IN CASE OF NO SHOW. REFER TO REFUND SECTION. ----------------------------------------------- IF A RETURN FLIGHT CANNOT BE BOOKED DUE TO THE RETURN DATE OUTSIDE SYSTEM BOOKING RANGE- AN ALTERNATIVE FLIGHT MAY BE BOOKED FOR TICKET ISSUANCE. ONE LATER REBOOKING FOR THE DESIRED DATE/TIME IS PERMITTED WITHOUT REBOOKING FEE. ALL OTHER PROVISION MUST REMAIN THE SAME. ----------------------------------------------- IF CHANGES ARE MADE TO ANY OTHER THAN THE FIRST TICKETED FLIGHT COUPON / THE FARES IN EFFECT AT THE TIME OF ORIGINAL TICKET ISSUE WILL APPLY PROVIDED THE NEW ITINERARY QUALIFIES FOR ALL THE PROVISIONS OF THE ORIGINALLY TICKETED BOOKING CODE FARE IGNORING ADVANCE RESERVATION OR TICKETING REQUIREMENTS. ----------------------------------------------- IF CHANGES ARE MADE TO FIRST TICKETED FLIGHT COUPON OF A TOTALLY UNUSED TICKET - THE FARES IN EFFECT AT TIME OF REBOOKING/REISSUE WILL APPLY PROVIDED THE NEW ITINERARY QUALIFIES FOR ALL THE PROVISIONS OF THE ORIGINALLY TICKETED BOOKING CODE FARE INCLUDING ADVANCE RESERVATION OR TICKETING REQUIREMENTS. ----------------------------------------------- WHEN CHANGES ARE MADE AND THE ORIGINALLY TICKETED BOOKING CLASS ARE KEPT THE NEW FARE MAY BE LOWER/ EQUAL OR HIGHER. ANY RESIDUAL AMOUNT WILL BE IGNORED. ----------------------------------------------- WHEN CHANGES ARE MADE AND THE ORIGINALLY TICKETED BOOKING CLASS CHANGED THE NEW FARE MAY ONLY BE EQUAL OR HIGHER. ----------------------------------------------- IF APPLICABLE - COLLECT THE CHANGE FEE AND CHARGE THE FARE DIFFERENCE TO THE HIGHER FARE. ----------------------------------------------- REVALIDATION/REISSUE AND EMD ISSUANCE MUST BE MADE WITHIN 24 HOURS AFTER CHANGE OF RESERVATION BUT NOT LATER THAN DEPARTURE OF THE ORIGINAL FLIGHT BEING CHANGED. IF NOT DONE WITHIN 24 HOURS TICKET WILL ONLY BE VALID FOR REFUND OR NOT APPLICABLE AT ALL. ----------------------------------------------- IN CASE OF SUBSEQUENT REISSUE/EXCHANGE- THE ORIGINAL NON-REFUNDABLE FARE- OR REFUND PENALTY AMOUNT REMAINS NON-REFUNDABLE\n",
        "\"\"\""
      ],
      "metadata": {
        "id": "e5EfqE54fWRQ"
      },
      "execution_count": 16,
      "outputs": []
    },
    {
      "cell_type": "code",
      "source": [
        "doc = nlp_ner(text)\n",
        "\n",
        "colors = {\n",
        "    \"CANCELLATION_TIME\": \"#F67DE3\",\n",
        "    \"CHARGE_CANCEL\": \"#7DF6D9\",\n",
        "    \"CHARGE_NOSHOW\": \"#FFFFFF\",\n",
        "}\n",
        "options = {\"colors\": colors} \n",
        "\n",
        "spacy.displacy.render(doc, style=\"ent\", options= options, jupyter=True)\n"
      ],
      "metadata": {
        "colab": {
          "base_uri": "https://localhost:8080/",
          "height": 1000
        },
        "outputId": "0138038e-c408-4239-9e48-ac9938631702",
        "id": "MJVqsIH4fWRQ"
      },
      "execution_count": 17,
      "outputs": [
        {
          "output_type": "display_data",
          "data": {
            "text/plain": [
              "<IPython.core.display.HTML object>"
            ],
            "text/html": [
              "<span class=\"tex2jax_ignore\"><div class=\"entities\" style=\"line-height: 2.5; direction: ltr\"></br>CANCELLATIONS ANY TIME TICKET IS NON-REFUNDABLE. WAIVED FOR DEATH OF PASSENGER OR FAMILY MEMBER. NOTE - TEXT BELOW NOT VALIDATED FOR AUTOPRICING. WAIVERS MUST BE EVIDENCED BY DEATH CERTIFICATE. ----------------------------------------------- REFUND PERMITTED BEFORE DEPARTURE IN CASE OF REJECTION OF VISA. EMBASSY STATEMENT REQUIRED. ----------------------------------------------- REFUND RULES APPLY PER FARE COMPONENT. ----------------------------------------------- WHEN COMBINING NON-REFUNDABLE FARES WITH REFUNDABLE FARES- 1. THE AMOUNT PAID ON EACH REFUNDABLE FARE COMPONENT IS REFUNDED. 2. THE AMOUNT PAID ON EACH NON-REFUNDABLE FARE COMPONENT WILL NOT BE REFUNDED. 3. WHEN COMBINING FARES CHARGE THE SUM OF THE CANCELLATION PENALTIES OF ALL CANCELLED FARE COMPONENTS. ----------------------------------------------- REFUND FOR PARTLY USED TICKET- IF A RETURN TICKET SHALL BE USED FOR ONE WAY TRAVEL- THE DIFFERENCE BETWEEN THE RETURN FARE AND THE APPLICABLE ONE WAY FARE WILL/SHALL BE CALCULATED. THE APPLICABLE ONE WAY IS THE ONE WAY FARE WITHIN THE SAME FARE FAMILY AND THE SAME OR HIGHER RBD. ANY CREDIT WILL BE REFUNDED LESS ANY APPLICABLE CANCELLATION PENALTY. ----------------------------------------------- CHILD DISCOUNT DOES NOT APPLY. INFANT WITHOUT SEAT FREE OF \n",
              "<mark class=\"entity\" style=\"background: #FFFFFF; padding: 0.45em 0.6em; margin: 0 0.25em; line-height: 1; border-radius: 0.35em;\">\n",
              "    CHARGE. ----------------------------------------------- REFUND PERMITTED WITHIN TICKET VALIDITY. ----------------------------------------------- ANY ORIGINAL NON-REFUNDABLE AMOUNT FROM A PREVIOUS TICKET REMAINS NON REFUNDABLE AND WILL BE CARRIED FORWARD TO ANY REISSUED/EXCHANGED TICKET. ----------------------------------------------- REFUND OF UNUSED\n",
              "    <span style=\"font-size: 0.8em; font-weight: bold; line-height: 1; border-radius: 0.35em; vertical-align: middle; margin-left: 0.5rem\">CHARGE_NOSHOW</span>\n",
              "</mark>\n",
              " TAXES PAID TO THIRD PARTIES PERMITTED. EXCEPT FOR TAXES THAT ARE LEGALLY NON-REFUNDABLE. ----------------------------------------------- REFUND OF UNUSED YR NOT PERMITTED. THIS ALSO INCLUDES LH/LX/OS/SN/EN DCC - DISTRIBUTION COST \n",
              "<mark class=\"entity\" style=\"background: #FFFFFF; padding: 0.45em 0.6em; margin: 0 0.25em; line-height: 1; border-radius: 0.35em;\">\n",
              "    CHARGE - SHOWN AS YR ON THE TICKET. ----------------------------------------------- REFUND OF UNUSED\n",
              "    <span style=\"font-size: 0.8em; font-weight: bold; line-height: 1; border-radius: 0.35em; vertical-align: middle; margin-left: 0.5rem\">CHARGE_NOSHOW</span>\n",
              "</mark>\n",
              " YQ NOT PERMITTED. ----------------------------------------------- GERMAN AVIATION SECURITY CHARGE IS POTENTIALLY REFUNDABLE FOR TRANSFER PASSENGERS ARRIVING FROM COUNTRIES US/ CA OR ME HAVING TRANSFER IN FRA TERMINAL 1 WITH NO ADDITIONAL SECURITY CHECK BY FEDERAL POLICE IN FRA. ----------------------------------------------- THE OPTIONAL PAYMENT CHARGE IS NON-REFUNDABLE. ----------------------------------------------- CHANGES ANY TIME CHANGES PERMITTED. NOTE - TEXT BELOW NOT VALIDATED FOR AUTOPRICING. REISSUE/REVALIDATION/EXCHANGE PERMITTED. ----------------------------------------------- REROUTING PERMITTED. ----------------------------------------------- WAIVERS MUST BE EVIDENCED BY DEATH CERTIFICATE. ----------------------------------------------- RULES FOR CHANGES APPLY BY FARE COMPONENT/DIRECTION. IN CASE OF FARE COMBINATION CHARGE THE HIGHEST FEE OF ALL CHANGED FARE COMPONENTS. ----------------------------------------------- A CHANGE IS A DATE/FLIGHT/ROUTING/BOOKING CODE CHANGE. ----------------------------------------------- CHANGE IS ALLOWED WITH- -LH/LX/OS/SN/EN/4Y CLASSIC FARE FAMILY FARES -LH/LX/OS/SN/EN/4Y CLS/J-BUZ/C-BUZ/NN/NC/NF/RC/RF/ RN/FF/-77 TYPE FARES -OTHER AIRLINE FARE WITHOUT FARE TYPE RESTRICTION ----------------------------------------------- CHANGE FEE APPLIES FOR EVERY SINGLE CLOSED REISSUE/REVALIDATION/REBOOKING TRANSACTION. ----------------------------------------------- CHILD DISCOUNT DOES NOT APPLY. INFANT WITHOUT SEAT FREE OF CHARGE. ----------------------------------------------- CHANGES NOT PERMITTED IN CASE OF NO SHOW. REFER TO REFUND SECTION. ----------------------------------------------- IF A RETURN FLIGHT CANNOT BE BOOKED DUE TO THE RETURN DATE OUTSIDE SYSTEM BOOKING RANGE- AN ALTERNATIVE FLIGHT MAY BE BOOKED FOR TICKET ISSUANCE. ONE LATER REBOOKING FOR THE DESIRED DATE/TIME IS PERMITTED WITHOUT REBOOKING FEE. ALL OTHER PROVISION MUST REMAIN THE SAME. ----------------------------------------------- IF CHANGES ARE MADE TO ANY OTHER THAN THE FIRST TICKETED FLIGHT COUPON / THE FARES IN EFFECT AT THE TIME OF ORIGINAL TICKET ISSUE WILL APPLY PROVIDED THE NEW ITINERARY QUALIFIES FOR ALL THE PROVISIONS OF THE ORIGINALLY TICKETED BOOKING CODE FARE IGNORING ADVANCE RESERVATION OR TICKETING REQUIREMENTS. ----------------------------------------------- IF CHANGES ARE MADE TO FIRST TICKETED FLIGHT COUPON OF A TOTALLY UNUSED TICKET - THE FARES IN EFFECT AT TIME OF REBOOKING/REISSUE WILL APPLY PROVIDED THE NEW ITINERARY QUALIFIES FOR ALL THE PROVISIONS OF THE ORIGINALLY TICKETED BOOKING CODE FARE INCLUDING ADVANCE RESERVATION OR TICKETING REQUIREMENTS. ----------------------------------------------- WHEN CHANGES ARE MADE AND THE ORIGINALLY TICKETED BOOKING CLASS ARE KEPT THE NEW FARE MAY BE LOWER/ EQUAL OR HIGHER. ANY RESIDUAL AMOUNT WILL BE IGNORED. ----------------------------------------------- WHEN CHANGES ARE MADE AND THE ORIGINALLY TICKETED BOOKING CLASS CHANGED THE NEW FARE MAY ONLY BE EQUAL OR HIGHER. ----------------------------------------------- IF APPLICABLE - COLLECT THE CHANGE FEE AND CHARGE THE FARE DIFFERENCE TO THE HIGHER FARE. ----------------------------------------------- REVALIDATION/REISSUE AND EMD ISSUANCE MUST BE MADE WITHIN 24 HOURS AFTER CHANGE OF RESERVATION BUT NOT LATER THAN DEPARTURE OF THE ORIGINAL FLIGHT BEING CHANGED. IF NOT DONE WITHIN 24 HOURS TICKET WILL ONLY BE VALID FOR REFUND OR NOT APPLICABLE AT ALL. ----------------------------------------------- IN CASE OF SUBSEQUENT REISSUE/EXCHANGE- THE ORIGINAL NON-REFUNDABLE FARE- OR REFUND PENALTY AMOUNT REMAINS NON-REFUNDABLE</br></div></span>"
            ]
          },
          "metadata": {}
        }
      ]
    },
    {
      "cell_type": "markdown",
      "source": [
        "## Ticket 5"
      ],
      "metadata": {
        "id": "YpZg5KIBgA13"
      }
    },
    {
      "cell_type": "code",
      "source": [
        "text = \"\"\"\n",
        "*SPECIAL EMERGENCY RULES *SUBJECT TO CHANGE AT ANYTIME CANCELLATIONS ANY TIME CANCELLATIONS PERMITTED. NOTE - TEXT BELOW NOT VALIDATED FOR AUTOPRICING. FOR AIRPORT USE AIRPORT STANDBY PERMITTED. CHANGES ANY TIME CHANGES PERMITTED. NOTE - TEXT BELOW NOT VALIDATED FOR AUTOPRICING. REISSUE MUST BE COMPLETED BEFORE DEPARTURE TIME OF ORIGINAL FLIGTH. -OTHERWISE IT WILL BE CONSIDERED NO SHOW AND 250.00USD/ 250.00CAD PENALTY WILL APPLY. SAME DAY CHANGE WILL APPLY. IT WILL BE HANDLED ONLY AT AIRPORTS. NOTE - TEXT BELOW NOT VALIDATED FOR AUTOPRICING. WAIVED FOR ILLNESS OF PASSENGER OR FAMILY OR DEATH OF PASSENGER OR FAMILY MEMBER. FAMILY MEMBER MUST BE FIRST DEGREE RELATIVE PARENTS/CHILDREN/SPOUSES. WAIVER ALSO APPLIES FOR TRAVELING COMPANION IN THE SAME RESERVATION. WAIVER ALSO APPLIES FOR FAMILY MEMBER FIRST DEGREE IN OTHER RESERVATION. ILLNESS/DEATH WAIVERS MUST BE SUBSTANTIATED BY A VALID MEDICAL/DEATH CERTIFICATE. ------- EXONERACION POR ENFERMEDAD O MUERTE DEL PASAJERO O DE UN MIEMBRO DE LA FAMILIA MIEMBRO DE LA FAMILIA DEBE SER DE PRIMER GRADO DE CONSANGUINIDAD PADRES/HIJOS/HIJAS/CONYUGUE EXONERACION APLICABLE A LOS PASAJEROS EN LA MISMA RESERVACION EXONERACION APLICABLE PARA MIEMBROS DE FAMILIA DE PRIMER GRADO DE CONSANGUINIDAD EN OTRA RESERVA ENFERMEDAD/MUERTE DEBE SER SUSTENTADO CON UN CERTIFICADO MEDICO/MUERTE VALIDO GENERAL RULE - APPLY UNLESS OTHERWISE SPECIFIED CANCELLATIONS ANY TIME CANCELLATIONS PERMITTED. NOTE - TEXT BELOW NOT VALIDATED FOR AUTOPRICING. FOR AIRPORT USE AIRPORT STANDBY PERMITTED. CHANGES ANY TIME CHANGES PERMITTED. NOTE - TEXT BELOW NOT VALIDATED FOR AUTOPRICING. REISSUE MUST BE COMPLETED BEFORE DEPARTURE TIME OF ORIGINAL FLIGTH. -OTHERWISE IT WILL BE CONSIDERED NO SHOW AND 250.00USD/ 250.00CAD PENALTY WILL APPLY. SAME DAY CHANGE WILL APPLY. IT WILL BE HANDLED ONLY AT AIRPORTS. NOTE - TEXT BELOW NOT VALIDATED FOR AUTOPRICING. WAIVED FOR ILLNESS OF PASSENGER OR FAMILY OR DEATH OF PASSENGER OR FAMILY MEMBER. FAMILY MEMBER MUST BE FIRST DEGREE RELATIVE PARENTS/CHILDREN/SPOUSES. WAIVER ALSO APPLIES FOR TRAVELING COMPANION IN THE SAME RESERVATION. WAIVER ALSO APPLIES FOR FAMILY MEMBER FIRST DEGREE IN OTHER RESERVATION. ILLNESS/DEATH WAIVERS MUST BE SUBSTANTIATED BY A VALID MEDICAL/DEATH CERTIFICATE. ------- EXONERACION POR ENFERMEDAD O MUERTE DEL PASAJERO O DE UN MIEMBRO DE LA FAMILIA MIEMBRO DE LA FAMILIA DEBE SER DE PRIMER GRADO DE CONSANGUINIDAD PADRES/HIJOS/HIJAS/CONYUGUE EXONERACION APLICABLE A LOS PASAJEROS EN LA MISMA RESERVACION EXONERACION APLICABLE PARA MIEMBROS DE FAMILIA DE PRIMER GRADO DE CONSANGUINIDAD EN OTRA RESERVA ENFERMEDAD/MUERTE DEBE SER SUSTENTADO CON UN CERTIFICADO MEDICO/MUERTE VALIDO\n",
        "\"\"\""
      ],
      "metadata": {
        "id": "tuYjW82sgA14"
      },
      "execution_count": 18,
      "outputs": []
    },
    {
      "cell_type": "code",
      "source": [
        "doc = nlp_ner(text)\n",
        "\n",
        "colors = {\n",
        "    \"CANCELLATION_TIME\": \"#F67DE3\",\n",
        "    \"CHARGE_CANCEL\": \"#7DF6D9\",\n",
        "    \"CHARGE_NOSHOW\": \"#FFFFFF\",\n",
        "}\n",
        "options = {\"colors\": colors} \n",
        "\n",
        "spacy.displacy.render(doc, style=\"ent\", options= options, jupyter=True)\n"
      ],
      "metadata": {
        "colab": {
          "base_uri": "https://localhost:8080/",
          "height": 612
        },
        "outputId": "830be804-c8cb-4c02-9db0-766983bb4dc8",
        "id": "-ho3EfDKgA14"
      },
      "execution_count": 19,
      "outputs": [
        {
          "output_type": "display_data",
          "data": {
            "text/plain": [
              "<IPython.core.display.HTML object>"
            ],
            "text/html": [
              "<span class=\"tex2jax_ignore\"><div class=\"entities\" style=\"line-height: 2.5; direction: ltr\"></br>*SPECIAL EMERGENCY RULES *SUBJECT TO CHANGE AT ANYTIME CANCELLATIONS ANY TIME CANCELLATIONS PERMITTED. NOTE - TEXT BELOW NOT VALIDATED FOR AUTOPRICING. FOR AIRPORT USE AIRPORT STANDBY PERMITTED. CHANGES ANY TIME CHANGES PERMITTED. NOTE - TEXT BELOW NOT VALIDATED FOR AUTOPRICING. REISSUE MUST BE COMPLETED BEFORE DEPARTURE TIME OF ORIGINAL FLIGTH. -OTHERWISE IT WILL BE CONSIDERED NO SHOW AND 250.00USD/ 250.00CAD PENALTY WILL APPLY. SAME DAY CHANGE WILL APPLY. IT WILL BE HANDLED ONLY AT AIRPORTS. NOTE - TEXT BELOW NOT VALIDATED FOR AUTOPRICING. WAIVED FOR ILLNESS OF PASSENGER OR FAMILY OR DEATH OF PASSENGER OR FAMILY MEMBER. FAMILY MEMBER MUST BE FIRST DEGREE RELATIVE PARENTS/CHILDREN/SPOUSES. WAIVER ALSO APPLIES FOR TRAVELING COMPANION IN THE SAME RESERVATION. WAIVER ALSO APPLIES FOR FAMILY MEMBER FIRST DEGREE IN OTHER RESERVATION. ILLNESS/DEATH WAIVERS MUST BE SUBSTANTIATED BY A VALID MEDICAL/DEATH CERTIFICATE. ------- EXONERACION POR ENFERMEDAD O MUERTE DEL PASAJERO O DE UN MIEMBRO DE LA FAMILIA MIEMBRO DE LA FAMILIA DEBE SER DE PRIMER GRADO DE CONSANGUINIDAD PADRES/HIJOS/HIJAS/CONYUGUE EXONERACION APLICABLE A LOS PASAJEROS EN LA MISMA RESERVACION EXONERACION APLICABLE PARA MIEMBROS DE FAMILIA DE PRIMER GRADO DE CONSANGUINIDAD EN OTRA RESERVA ENFERMEDAD/MUERTE DEBE SER SUSTENTADO CON UN CERTIFICADO MEDICO/MUERTE VALIDO GENERAL RULE - APPLY UNLESS OTHERWISE SPECIFIED CANCELLATIONS \n",
              "<mark class=\"entity\" style=\"background: #F67DE3; padding: 0.45em 0.6em; margin: 0 0.25em; line-height: 1; border-radius: 0.35em;\">\n",
              "    ANY TIME CANCELLATIONS\n",
              "    <span style=\"font-size: 0.8em; font-weight: bold; line-height: 1; border-radius: 0.35em; vertical-align: middle; margin-left: 0.5rem\">CANCELLATION_TIME</span>\n",
              "</mark>\n",
              " PERMITTED. NOTE - TEXT BELOW NOT VALIDATED FOR AUTOPRICING. FOR AIRPORT USE AIRPORT STANDBY PERMITTED. CHANGES ANY TIME CHANGES PERMITTED. NOTE - TEXT BELOW NOT VALIDATED FOR AUTOPRICING. REISSUE MUST BE COMPLETED BEFORE DEPARTURE TIME OF ORIGINAL FLIGTH. -OTHERWISE IT WILL BE CONSIDERED NO SHOW AND 250.00USD/ 250.00CAD PENALTY WILL APPLY. SAME DAY CHANGE WILL APPLY. IT WILL BE HANDLED ONLY AT AIRPORTS. NOTE - TEXT BELOW NOT VALIDATED FOR AUTOPRICING. WAIVED FOR ILLNESS OF PASSENGER OR FAMILY OR DEATH OF PASSENGER OR FAMILY MEMBER. FAMILY MEMBER MUST BE FIRST DEGREE RELATIVE PARENTS/CHILDREN/SPOUSES. WAIVER ALSO APPLIES FOR TRAVELING COMPANION IN THE SAME RESERVATION. WAIVER ALSO APPLIES FOR FAMILY MEMBER FIRST DEGREE IN OTHER RESERVATION. ILLNESS/DEATH WAIVERS MUST BE SUBSTANTIATED BY A VALID MEDICAL/DEATH CERTIFICATE. ------- EXONERACION POR ENFERMEDAD O MUERTE DEL PASAJERO O DE UN MIEMBRO DE LA FAMILIA MIEMBRO DE LA FAMILIA DEBE SER DE PRIMER GRADO DE CONSANGUINIDAD PADRES/HIJOS/HIJAS/CONYUGUE EXONERACION APLICABLE A LOS PASAJEROS EN LA MISMA RESERVACION EXONERACION APLICABLE PARA MIEMBROS DE FAMILIA DE PRIMER GRADO DE CONSANGUINIDAD EN OTRA RESERVA ENFERMEDAD/MUERTE DEBE SER SUSTENTADO CON UN CERTIFICADO MEDICO/MUERTE VALIDO</br></div></span>"
            ]
          },
          "metadata": {}
        }
      ]
    },
    {
      "cell_type": "markdown",
      "source": [
        "## Ticket 6"
      ],
      "metadata": {
        "id": "XUM4Nji7he19"
      }
    },
    {
      "cell_type": "code",
      "source": [
        "text = \"\"\"\n",
        "*SPECIAL EMERGENCY RULES *SUBJECT TO CHANGE AT ANYTIME FOR TICKETING ON/BEFORE 01APR20/FOR TRAVEL ON/BEFORE 31MAY20 IF TRAVEL ON THIS FARE COMPONENT MUST COMMENCE BY MIDNIGHT ON 29DEC22. CHANGES ANY TIME CHANGES PERMITTED FOR REISSUE. NOTE - TEXT BELOW NOT VALIDATED FOR AUTOPRICING. -IF PASSENGER CANCELS TICKETED FLIGHT RESERVATION PRIOR TO TICKETED DEPARTURE TIME/ TRAVEL THAT IS REBOOKED IS VALID AS FOLLOWS. 1/WHOLLY UNUSED TICKETS ARE VALID PROVIDED TRAVEL COMMENCES WITHIN 18MONTHS OR BY 31DEC21 WHICHEVER COMES FIRST FROM THE ORIGINAL TICKET ISSUE DATE OR 2/PARTIALLY USED TICKETS ARE VALID PROVIDED TRAVEL IS COMPLETED WITHIN 18MONTHS OR BY 31DEC21 WHICHEVER COMES FIRST FROM THE OUTBOUND TRAVEL DATE ON THE ORIGINAL TICKET. -IF TICKETED FLIGHT RESERVATION. IS NOT CANCELLED PRIOR TO TICKETED DEPARTURE TIME/ REBOOKING IS NOT PERMITTED AND THE TICKET HAS NO VALUE. --- FARE DIFFERENCE MUST BE PAID AND TICKET MUST BE REISSUED WHEN ITINERARY IS REBOOKED. --- IF MULTIPLE CHANGES ARE MADE AT THE SAME TIME/ ONLY ONE SERVICE CHARGE WILL APPLY PER TICKET. IF FARES WITH DIFFERENT SERVICE CHARGES ARE COMBINED ON THE SAME TICKET/ THE HIGHEST CHARGE OF ALL CHANGED FARE COMPONENTS WILL APPLY. --- WHENEVER A NONREFUNDABLE FARE TICKET IS REISSUED TO A REFUNDABLE FARE/ A NONREFUNDABLE NOTATION MUST BE MADE IN THE ENDORSEMENT BOX OF THE NEW TICKET. THE ORIGINAL NONREFUNDABLE VALUE REMAINS NONREFUNDABLE FOR ANY SUBSEQUENT REISSUES. --- CERTAIN DOMESTIC REISSUE PROVISIONS MAY BE OVERRIDDEN BY THOSE OF AA INTERNATIONAL FARES. --- GUARANTEED AIRFARE RULE- TRANSPORTATION IS SUBJECT TO THE RULES/ FARES AND CHARGES IN EFFECT ON THE DATE/ TIME OF TICKET ISSUANCE OR PREPAID TICKET ADVICE PURCHASE. SHOULD FARES INCREASE AFTER TICKET PURCHASE/ NO INCREASE IN FARE WILL BE COLLECTED PROVIDED THE ORIGINATING FLIGHT COUPON OF THE TICKET REFLECTING A CONFIRMED RESERVATION HAS NOT BEEN VOLUNTARILY CHANGED/ AND PROVIDED THAT VOLUNTARY CHANGES FOR FLIGHT COUPONS OTHER THAN THE ORGINATING FLIGHT DO NOT REFLECT A CHANGE IN CARRIER/ FARE BASIS/ ORIGIN/ DESTINATION OR STOPOVER POINTS FROM THOSE FOUND ON THE TICKET. --- I. PRIOR TO DEPARTURE OF THE JOURNEY - CHANGES TO THE ORIGINATING FLIGHT ON THE TICKET - CANCEL AND START OVER. 1. THE ENTIRE TICKET MUST BE REPRICED WITH FARES IN EFFECT ON THE DATE OF NEW TICKET ISSUANCE. 2. USE ANY AA FARE ALLOWED BY COMBINATION AND REISSUE RULES 3. ALL PROVISIONS OF THE NEW FARE I.E. ADV RSVN/MIN/MAX STAY/INVENTORY ETC MUST BE MET 4. ADVANCE RESERVATION REQUIREMENTS ARE MEASURED FROM THE REISSUE DATE TO THE DEPARTURE OF THE PRICING UNIT. 5. ANY DIFFERENCE IN FARES PLUS THE SERVICE CHARGE MUST BE COLLECTED. IF THE REPRICE RESULTS IN A LOWER FARE/ THE DIFFERENCE IN FARES LESS THE SERVICE CHARGE MAY BE RETURNED IN THE FORM OF A NONREFUNDABLE TRAVEL VOUCHER VALID FOR TRAVEL VIA AA ONLY. --- II. AFTER DEPARTURE OF THE JOURNEY - REPRICE THE ITINERARY USING THE SAME FARE BASIS CODES AND RULES AS THOSE IN EFFECT ON THE DATE OF ORIGINAL TICKET ISSUANCE FOR UNCHANGED FARE COMPONENTS AND USING FARES IN EFFECT ON THE DATE OF NEW TICKET ISSUANCE FOR ALL CHANGED FARE COMPONENTS. 1.NO CHANGE IS PERMITTED TO STOPOVER/ THE FIRST FARE COMPONENT OR FARE BREAKS. 2.THE TICKETED SAME FARE MUST BE USED ON THE FIRST FARE COMPONENT. 3.USE ANY AA ONE-WAY FARE ALLOWED BY COMBINATION AND REISSUE RULES 4.ALL RULE AND BOOKING CODE PROVISIONS MUST BE MET. 5.ADVANCE RESERVATION REQUIREMENTS ARE MEASURED FROM REISSUE DATE TO DEPARTURE OF THE PRICING UNIT. 6.ANY DIFFERENCE IN FARES PLUS THE SERVICE CHARGE MUST BE COLLECTED. IF THE REPRICE RESULTS IN A LOWER FARE/ THE DIFFERENCE IN FARES LESS THE SERVICE CHARGE MAY BE RETURNED IN THE FORM OF A NONREFUNDABLE TRAVEL VOUCHER VALID FOR TRAVEL VIA AA ONLY. --- III. AFTER DEPARTURE OF THE JOURNEY - REPRICE THE ITINERARY USING HISTORICAL ONE WAY FARES FROM THE PREVIOUS TICKET ISSUE DATE FOR FLOWN FARE COMPONENTS. USE FARES IN EFFECT ON THE DATE OF NEW TICKET ISSUANCE FOR ALL UNFLOWN COMPONENTS. 1.FARE BREAKS FOR THE FLOWN FARE COMPONENTS MAY BE CHANGED. 2.USE ANY AA ONE WAY FARE ALLOWED BY COMBINATION AND REISSUE RULES 3.ALL RULE AND BOOKING CODE PROVISIONS OF THE NEW FARES MUST BE MET. 4.ADVANCE RESERVATION REQUIREMENTS ARE MEASURED FROM THE REISSUE DATE TO DEPARTURE DATE OF THE PRICING UNIT. 5.COMPARE THE TOTAL FROM THE ORIGNAL TICKET TO THE NEW TOTAL OF THE FLOWN AND UNFLOWN FARE COMPONENTS. 6.ANY DIFFERENCE IN FARES PLUS THE SERVICE CHARGE MUST BE COLLECTED. IF THE REPRICE RESULTS IN A LOWER FARE/ THE DIFFERENCE IN FARES LESS THE SERVICE CHARGE MAY BE RETURNED IN THE FORM OF A NONREFUNDABLE TRAVEL VOUCHER VALID FOR TRAVEL VIA AA ONLY. --- IV. AFTER EACH TICKETED DEPARTURE TIME 1. NO CHANGES PERMITTED IF PASSENGER HAS NOT CANCELLED THE TICKETED FLIGHT RESERVATION. 2. TICKET HAS NO VALUE IF PASSENGER HAS NOT CANCELLED THE TICKETED FLIGHT RESERVATION. --- V. IN THE CASE OF THE DEATH OF THE PASSENGER/ TRAVELING COMPANION/ THE SERVICE CHARGE MAY BE WAIVED OR THE TICKET REFUNDED. VISIT AA.COM FOR DETAILS. CANCELLATIONS TICKET IS NON-REFUNDABLE. NOTE - TEXT BELOW NOT VALIDATED FOR AUTOPRICING. TICKET HAS NO VALUE UNLESS PASSENGER CANCELS TICKETED FLIGHT RESERVATIONS PRIOR TO TICKETED DEPARTURE TIME.. GENERAL RULE - APPLY UNLESS OTHERWISE SPECIFIED CANCELLATIONS TICKET IS NON-REFUNDABLE. NOTE - TEXT BELOW NOT VALIDATED FOR AUTOPRICING. TICKET HAS NO VALUE UNLESS PASSENGER CANCELS TICKETED FLIGHT RESERVATIONS PRIOR TO TICKETED DEPARTURE TIME. CHANGES CHANGES PERMITTED FOR REISSUE. NOTE - TEXT BELOW NOT VALIDATED FOR AUTOPRICING. IF PASSENGER CANCELS TICKETED FLIGHT RESERVATION PRIOR TO TICKETED DEPARTURE TIME/ TRAVEL THAT IS REBOOKED IS VALID AS FOLLOWS. 1/WHOLLY UNUSED TICKETS ARE VALID PROVIDED TRAVEL COMMENCES WITHIN ONE YEAR FROM THE ORIGINAL TICKET ISSUE DATE OR 2/ PARTIALLY USED TICKETS ARE VALID PROVIDED TRAVEL IS COMPLETED WITHIN ONE YEAR FROM THE OUTBOUND TRAVEL DATE ON THE ORIGINAL TICKET. IF TICKETED FLIGHT RESERVATION IS NOT CANCELLED PRIOR TO TICKETED DEPARTURE TIME/ REBOOKING IS NOT PERMITTED AND THE TICKET HAS NO VALUE. --- FARE DIFFERENCE MUST BE PAID AND TICKET MUST BE REISSUED WHEN ITINERARY IS REBOOKED. --- IF FARES WITH DIFFERENT SERVICE CHARGES ARE COMBINED ON THE SAME TICKET/ THE HIGHEST CHARGE OF ALL CHANGED FARE COMPONENTS WILL APPLY. --- WHENEVER A NONREFUNDABLE FARE TICKET IS REISSUED TO A REFUNDABLE FARE/ A NONREFUNDABLE NOTATION MUST BE MADE IN THE ENDORSEMENT BOX OF THE NEW TICKET. THE ORIGINAL NONREFUNDABLE VALUE REMAINS NONREFUNDABLE FOR ANY SUBSEQUENT REISSUES. --- CERTAIN DOMESTIC REISSUE PROVISIONS MAY BE OVERRIDDEN BY THOSE OF AA INTERNATIONAL FARES. --- GUARANTEED AIRFARE RULE- TRANSPORTATION IS SUBJECT TO THE RULES/ FARES AND CHARGES IN EFFECT ON THE DATE/ TIME OF TICKET ISSUANCE. SHOULD FARES INCREASE AFTER TICKET PURCHASE/ NO INCREASE IN FARE WILL BE COLLECTED PROVIDED THE ORIGINATING FLIGHT COUPON OF THE TICKET REFLECTING A CONFIRMED RESERVATION HAS NOT BEEN VOLUNTARILY CHANGED/ AND PROVIDED THAT VOLUNTARY CHANGES FOR FLIGHT COUPONS OTHER THAN THE ORGINATING FLIGHT DO NOT REFLECT A CHANGE IN CARRIER/ FARE BASIS/ ORIGIN/ DESTINATION OR STOPOVER POINTS FROM THOSE FOUND ON THE TICKET. --- I. PRIOR TO DEPARTURE OF THE JOURNEY - CHANGES TO THE ORIGINATING FLIGHT ON THE TICKET - CANCEL AND START OVER. 1. THE ENTIRE TICKET MUST BE REPRICED WITH FARES IN EFFECT ON THE DATE OF NEW TICKET ISSUANCE. 2. USE ANY AA FARE ALLOWED BY COMBINATION AND REISSUE RULES WHICH DOES NOT USE FARE TYPE EOU/ERU. 3. ALL PROVISIONS OF THE NEW FARE I.E. ADV RSVN/MIN/MAX STAY/INVENTORY ETC MUST BE MET 4. ADVANCE RESERVATION REQUIREMENTS ARE MEASURED FROM THE REISSUE DATE TO THE DEPARTURE OF THE PRICING UNIT. 5. ANY DIFFERENCE IN FARES MUST BE COLLECTED. IF THE REPRICE RESULTS IN A LOWER FARE/ THE DIFFERENCE IN FARES MAY BE RETURNED IN THE FORM OF A NONREFUNDABLE TRAVEL VOUCHER VALID FOR TRAVEL VIA AA ONLY. --- II. PRIOR TO DEPARTURE OF THE JOURNEY - CHANGES TO CONTINUING/RETURN FLIGHTS WHEN THERE IS NO CHANGE TO ORIGIN/DESTINATION OR STOPOVERS. THE FOLLOWING OPTIONS ARE AVAILABLE AND THE LOWEST SOLUTION WILL APPLY. --- A. ATTEMPT TO KEEP THE SAME FARES AS TICKETED. REPRICE THE ITINERARY USING THE SAME FARE BASIS CODE/ SAME FARE LEVEL/ SAME RULES AS TICKETED/ THAT IS/ THOSE IN EFFECT AT THE TIME THE ORIGINAL TICKET WAS SOLD. 1.NO CHANGE IS PERMITTED TO STOPOVER/ THE FIRST FARE COMPONENT OR FARE BREAKS. 2.THE TICKETED FARE BASIS CODE/ SAME RULE MUST BE USED AS THE REPLACEMENT FARE FOR THE REVISED FARE COMPONENT ON THE NEW TICKET. 3.FULLY FLOWN ONE-WAY FARE MUST NOT BE REPRICED AS A HALF ROUND-TRIP FARE. 4.NEW FARE MUST BE EQUAL TO THE PREVIOUS FARE. COMPARE BASE FARE VALUES FOR THE REVISED FARE COMPONENT TO THAT OF THE TICKETED FARE COMPONENT. 5.ALL RULE/BOOKING CODE PROVISIONS MUST BE MET. 6.FLIGHT SPECIFIC FARES MUST REMAIN WITHIN THE TIMES SPECIFIED FOR THAT FARE. 7.ADVANCE RESERVATION REQUIREMENTS ARE MEASURED FROM THE REISSUE DATE TO DEPARTURE OF PRICING UNIT. --- B. CANCEL AND START OVER. REPRICE THE ITINEARY USING FARES IN EFFECT ON THE DATE OF NEW TICKET ISSUANCE. 1.USE ANY AA FARE ALLOWED BY COMBINATION AND REISSUE RULES WHICH DOES NOT USE FARE TYPE EOU/ERU. 2.ALL RULE/BOOKING CODE PROVISIONS OF THE NEW FARE MUST BE MET. 3.ADVANCE RESERVATION REQUIREMENTS ARE MEASURED FROM REISSUE DATE TO DEPARTURE OF THE PRICING UNIT. 4.ANY DIFFERENCE IN FARES MUST BE COLLECTED. IF THE REPRICE RESULTS IN A LOWER FARE/ THE DIFFERENCE IN FARES MAY BE RETURNED IN THE FORM OF A NONREFUNDABLE TRAVEL VOUCHER VALID FOR TRAVEL VIA AA ONLY --- C. REPRICE THE ITINERARY USING THE SAME FARE BASIS CODES AND RULES AS THOSE IN EFFECT ON THE DATE OF ORIGINAL TICKET ISSUANCE FOR UNCHANGED FARE COMPONENTS AND USING FARES IN EFFECT ON THE DATE OF NEW TICKET ISSUANCE FOR ALL CHANGED FARE COMPONENTS. 1.NO CHANGE IS PERMITTED TO STOPOVER/ THE FIRST FARE COMPONENT OR FARE BREAKS. 2.THE TICKETED SAME FARE MUST BE USED ON THE FIRST FARE COMPONENT. 3.USE ANY AA FARES ALLOWED BY COMBINATION AND REISSUE RULES WHICH DOES NOT USE FARE TYPE EOU/ERU. 4.ALL RULE AND BOOKING CODE PROVISIONS MUST BE MET. 5.ADVANCE RESERVATION REQUIREMENTS ARE MEASURED FROM ORIGINAL TICKET DATE TO DEPARTURE OF PRICING UNIT. 6.ANY DIFFERENCE IN FARES MUST BE COLLECTED. IF THE REPRICE RESULTS IN A LOWER FARE/ THE DIFFERENCE IN FARES MAY BE RETURNED IN THE FORM OF A NONREFUNDABLE TRAVEL VOUCHER VALID FOR TRAVEL VIA AA ONLY. --- III. PRIOR TO DEPARTURE OF THE JOURNEY- CHANGES TO THE CONTINUING/RETURN FLIGHTS WHEN THERE IS A CHANGE TO ORIGIN/DESTINATION OR STOPOVERS. --- A. CANCEL AND START OVER. REPRICE THE ITINEARY USING FARES IN EFFECT ON THE DATE OF NEW TICKET ISSUANCE. 1.USE ANY AA FARE ALLOWED BY COMBINATION AND REISSUE RULES WHICH DOES NOT USE FARE TYPE EOU/ERU. 2.ALL RULE/BOOKING CODE PROVISIONS OF THE NEW FARE MUST BE MET. 3.ADVANCE RESERVATION REQUIREMENTS ARE MEASURED FROM REISSUE DATE TO DEPARTURE OF THE PRICING UNIT. 4.ANY DIFFERENCE IN FARES MUST BE COLLECTED. IF THE REPRICE RESULTS IN A LOWER FARE/ THE DIFFERENCE IN FARES MAY BE RETURNED IN THE FORM OF A NONREFUNDABLE TRAVEL VOUCHER VALID FOR TRAVEL VIA AA ONLY --- IV. AFTER DEPARTURE OF THE JOURNEY - WHEN THERE IS NO CHANGE TO ORIGIN/DESTINATION OR STOPOVERS. THE FOLLOWING OPTIONS ARE AVAILABLE AND THE LOWEST SOLUTION WILL APPLY. --- A. ATTEMPT TO KEEP THE SAME FARES AS TICKETED. REPRICE THE ITINERARY USING THE SAME FARE BASIS CODE/ SAME FARE LEVEL/ SAME RULES AS TICKETED/ THAT IS/ THOSE IN EFFECT AT THE TIME THE ORIGINAL TICKET WAS SOLD. 1.NO CHANGE IS PERMITTED TO STOPOVER/THE FIRST FARE COMPONENT OR FARE BREAKS. 2.THE TICKETED FARE BASIS CODE/ SAME RULE MUST BE USED AS THE REPLACEMENT FARE FOR THE REVISED FARE COMPONENT ON THE NEW TICKET. 3.FULLY FLOWN ONE-WAY FARE MUST NOT BE PRICED AS A HALF ROUND-TRIP FARE. 4.NEW FARE MUST BE EQUAL TO THE PREVIOUS FARE. COMPARE BASE FARE VALUES FOR THE REVISED FARE COMPONENT TO THAT OF THE TICKETED FARE COMPONENT. 4.ALL RULE/BOOKING CODE PROVISIONS MUST BE MET. 5.FLIGHT SPECIFIC FARES MUST REMAIN WITHIN THE TIMES SPECIFIED FOR THAT FARE. 6.ADVANCE RESERVATION REQUIREMENTS ARE MEASURED FROM THE REISSUE DATE TO DEPARTURE OF PRICING UNIT. --- B. REPRICE THE ITINERARY USING THE SAME FARE BASIS CODES AND RULES AS THOSE IN EFFECT ON THE DATE OF ORIGINAL TICKET ISSUANCE FOR UNCHANGED FARE COMPONENTS AND USING FARES IN EFFECT ON THE DATE OF NEW TICKET ISSUANCE FOR ALL CHANGED FARE COMPONENTS. 1.NO CHANGE IS PERMITTED TO STOPOVER/ THE FIRST FARE COMPONENT OR FARE BREAKS. 2.THE TICKETED SAME FARE MUST BE USED ON THE FIRST FARE COMPONENT. 3.USE ANY AA ONE-WAY FARE ALLOWED BY COMBINATION AND REISSUE RULES WHICH DOES NOT USE FARE TYPE EOU/ERU. 4.ALL RULE AND BOOKING CODE PROVISIONS MUST BE MET. 5.ADVANCE RESERVATION REQUIREMENTS ARE MEASURED FROM REISSUE DATE TO DEPARTURE OF THE PRICING UNIT. 6.ANY DIFFERENCE IN FARES MUST BE COLLECTED. IF THE REPRICE RESULTS IN A LOWER FARE/ THE DIFFERENCE IN FARES MAY BE RETURNED IN THE FORM OF A NONREFUNDABLE TRAVEL VOUCHER VALID FOR TRAVEL VIA AA ONLY. --- C. REPRICE THE ITINERARY USING HISTORICAL ONE WAY FARES FROM THE PREVIOUS TICKET ISSUE DATE FOR FLOWN FARE COMPONENTS/ IN AN EQUAL OR HIGHER BOOKING CLASS. USE FARES IN EFFECT ON THE DATE OF NEW TICKET ISSUANCE FOR ALL UNFLOWN COMPONENTS. 1.FARE BREAKS FOR THE FLOWN FARE COMPONENTS MAY NOT BE CHANGED. 2.USE BOOKING CLASS HIERARCHY WHEN REPLACING FARES FOR FLOWN FARE COMPONENTS. THE HIERARCHY IS ECONOMY CLASS - Y B H K M L V G S N Q O PREMIUM ECONOMY CLASS - W P FIRST/BUSINESS CLASS - F A C J R D I 3.USE ANY AA ONE WAY FARE ALLOWED BY COMBINATION AND REISSUE RULES WHICH DOES NOT USE FARE TYPE EOU/ERU. 4.ALL RULE AND BOOKING CODE PROVISIONS OF THE NEW FARES MUST BE MET. 5.ADVANCE RESERVATION REQUIREMENTS ARE MEASURED FROM THE REISSUE DATE TO DEPARTURE DATE OF THE PRICING UNIT. 6.COMPARE THE TOTAL FROM THE ORIGINAL TICKET TO THE NEW TOTAL OF THE FLOWN AND UNFLOWN FARE COMPONENTS. 7.ANY DIFFERENCE IN FARES MUST BE COLLECTED. IF THE REPRICE RESULTS IN A LOWER FARE/ THE DIFFERENCE IN FARES MAY BE RETURNED IN THE FORM OF A NONREFUNDABLE TRAVEL VOUCHER VALID FOR TRAVEL VIA AA ONLY. --- V. AFTER DEPARTURE OF THE JOURNEY - CHANGES TO CONTINUING/RETURN FLIGHTS WHEN THERE IS A CHANGE TO ORIGIN/DESTINATION OR STOPOVERS. --- A. REPRICE THE ITINERARY USING HISTORICAL ONE WAY FARES FROM THE PREVIOUS TICKET ISSUE DATE FOR FLOWN FARE COMPONENTS/ IN AN EQUAL OR HIGHER BOOKING CLASS. USE FARES IN EFFECT ON THE DATE OF NEW TICKET ISSUANCE FOR ALL UNFLOWN COMPONENTS. 1.FARE BREAKS FOR THE FLOWN FARE COMPONENTS MAY NOT BE CHANGED. 2.USE BOOKING CLASS HIERARCHY WHEN REPLACING FARES FOR FLOWN FARE COMPONENTS. THE HIERARCHY IS ECONOMY CLASS - Y B H K M L V G S N Q O PREMIUM ECONOMY CLASS - W P FIRST/BUSINESS CLASS - F A C J R D I 3.USE ANY AA ONE WAY FARE ALLOWED BY COMBINATION AND REISSUE RULES WHICH DOES NOT USE FARE TYPE EOU/ERU. 4.ALL RULE AND BOOKING CODE PROVISIONS OF THE NEW FARES MUST BE MET. 5.ADVANCE RESERVATION REQUIREMENTS ARE MEASURED FROM THE REISSUE DATE TO DEPARTURE DATE OF THE PRICING UNIT. 6.COMPARE THE TOTAL FROM THE ORIGNAL TICKET TO THE NEW TOTAL OF THE FLOWN AND UNFLOWN FARE COMPONENTS. 7.ANY DIFFERENCE IN FARES MUST BE COLLECTED. IF THE REPRICE RESULTS IN A LOWER FARE/ THE DIFFERENCE IN FARES MAY BE RETURNED IN THE FORM OF A NONREFUNDABLE TRAVEL VOUCHER VALID FOR TRAVEL VIA AA ONLY. --- VI. AFTER EACH TICKETED DEPARTURE TIME 1. NO CHANGES PERMITTED IF PASSENGER HAS NOT CANCELLED THE TICKETED FLIGHT RESERVATION. 2. TICKET HAS NO VALUE IF PASSENGER HAS NOT CANCELLED THE TICKETED FLIGHT RESERVATION. --- VII. IN THE CASE OF THE DEATH OF THE PASSENGER/ TRAVELING COMPANION/ THE SERVICE CHARGE MAY BE WAIVED OR THE TICKET REFUNDED. VISIT AA.COM FOR DETAILS\n",
        "\"\"\""
      ],
      "metadata": {
        "id": "mTuUMNB-he2E"
      },
      "execution_count": 20,
      "outputs": []
    },
    {
      "cell_type": "code",
      "source": [
        "doc = nlp_ner(text)\n",
        "\n",
        "colors = {\n",
        "    \"CANCELLATION_TIME\": \"#F67DE3\",\n",
        "    \"CHARGE_CANCEL\": \"#7DF6D9\",\n",
        "    \"CHARGE_NOSHOW\": \"#FFFFFF\",\n",
        "}\n",
        "options = {\"colors\": colors} \n",
        "\n",
        "spacy.displacy.render(doc, style=\"ent\", options= options, jupyter=True)\n"
      ],
      "metadata": {
        "colab": {
          "base_uri": "https://localhost:8080/",
          "height": 1000
        },
        "outputId": "9b140764-d35d-4368-c511-6f01b346e144",
        "id": "Qf5z-GRFhe2E"
      },
      "execution_count": 21,
      "outputs": [
        {
          "output_type": "display_data",
          "data": {
            "text/plain": [
              "<IPython.core.display.HTML object>"
            ],
            "text/html": [
              "<span class=\"tex2jax_ignore\"><div class=\"entities\" style=\"line-height: 2.5; direction: ltr\"></br>*SPECIAL EMERGENCY RULES *SUBJECT TO CHANGE AT ANYTIME FOR TICKETING ON/BEFORE 01APR20/FOR TRAVEL ON/BEFORE 31MAY20 IF TRAVEL ON THIS FARE COMPONENT MUST COMMENCE BY MIDNIGHT ON 29DEC22. CHANGES ANY TIME CHANGES PERMITTED FOR REISSUE. NOTE - TEXT BELOW NOT VALIDATED FOR AUTOPRICING. -IF PASSENGER CANCELS TICKETED FLIGHT RESERVATION PRIOR TO TICKETED DEPARTURE TIME/ TRAVEL THAT IS REBOOKED IS VALID AS FOLLOWS. 1/WHOLLY UNUSED TICKETS ARE VALID PROVIDED TRAVEL COMMENCES WITHIN 18MONTHS OR BY 31DEC21 WHICHEVER COMES FIRST FROM THE ORIGINAL TICKET ISSUE DATE OR 2/PARTIALLY USED TICKETS ARE VALID PROVIDED TRAVEL IS COMPLETED WITHIN 18MONTHS OR BY 31DEC21 WHICHEVER COMES FIRST FROM THE OUTBOUND TRAVEL DATE ON THE ORIGINAL TICKET. -IF TICKETED FLIGHT RESERVATION. IS NOT CANCELLED PRIOR TO TICKETED DEPARTURE TIME/ REBOOKING IS NOT PERMITTED AND THE TICKET HAS NO VALUE. --- FARE DIFFERENCE MUST BE PAID AND TICKET MUST BE REISSUED WHEN ITINERARY IS REBOOKED. --- IF MULTIPLE CHANGES ARE MADE AT THE SAME TIME/ ONLY ONE SERVICE \n",
              "<mark class=\"entity\" style=\"background: #FFFFFF; padding: 0.45em 0.6em; margin: 0 0.25em; line-height: 1; border-radius: 0.35em;\">\n",
              "    CHARGE WILL APPLY PER TICKET. IF FARES WITH DIFFERENT SERVICE CHARGES ARE COMBINED ON THE SAME TICKET/ THE HIGHEST CHARGE OF ALL\n",
              "    <span style=\"font-size: 0.8em; font-weight: bold; line-height: 1; border-radius: 0.35em; vertical-align: middle; margin-left: 0.5rem\">CHARGE_NOSHOW</span>\n",
              "</mark>\n",
              " CHANGED FARE COMPONENTS WILL APPLY. --- WHENEVER A NONREFUNDABLE FARE TICKET IS REISSUED TO A REFUNDABLE FARE/ A NONREFUNDABLE NOTATION MUST BE MADE IN THE ENDORSEMENT BOX OF THE NEW TICKET. THE ORIGINAL NONREFUNDABLE VALUE REMAINS NONREFUNDABLE FOR ANY SUBSEQUENT REISSUES. --- CERTAIN DOMESTIC REISSUE PROVISIONS MAY BE OVERRIDDEN BY THOSE OF AA INTERNATIONAL FARES. --- GUARANTEED AIRFARE RULE- TRANSPORTATION IS SUBJECT TO THE RULES/ FARES AND \n",
              "<mark class=\"entity\" style=\"background: #FFFFFF; padding: 0.45em 0.6em; margin: 0 0.25em; line-height: 1; border-radius: 0.35em;\">\n",
              "    CHARGES IN EFFECT ON THE DATE/ TIME OF TICKET\n",
              "    <span style=\"font-size: 0.8em; font-weight: bold; line-height: 1; border-radius: 0.35em; vertical-align: middle; margin-left: 0.5rem\">CHARGE_NOSHOW</span>\n",
              "</mark>\n",
              " ISSUANCE OR PREPAID TICKET ADVICE PURCHASE. SHOULD FARES INCREASE AFTER TICKET PURCHASE/ NO INCREASE IN FARE WILL BE COLLECTED PROVIDED THE ORIGINATING FLIGHT COUPON OF THE TICKET REFLECTING A CONFIRMED RESERVATION HAS NOT BEEN VOLUNTARILY CHANGED/ AND PROVIDED THAT VOLUNTARY CHANGES FOR FLIGHT COUPONS OTHER THAN THE ORGINATING FLIGHT DO NOT REFLECT A CHANGE IN CARRIER/ FARE BASIS/ ORIGIN/ DESTINATION OR STOPOVER POINTS FROM THOSE FOUND ON THE TICKET. --- I. PRIOR TO DEPARTURE OF THE JOURNEY - CHANGES TO THE ORIGINATING FLIGHT ON THE TICKET - CANCEL AND START OVER. 1. THE ENTIRE TICKET MUST BE REPRICED WITH FARES IN EFFECT ON THE DATE OF NEW TICKET ISSUANCE. 2. USE ANY AA FARE ALLOWED BY COMBINATION AND REISSUE RULES 3. ALL PROVISIONS OF THE NEW FARE I.E. ADV RSVN/MIN/MAX STAY/INVENTORY ETC MUST BE MET 4. ADVANCE RESERVATION REQUIREMENTS ARE MEASURED FROM THE REISSUE DATE TO THE DEPARTURE OF THE PRICING UNIT. 5. ANY DIFFERENCE IN FARES PLUS THE SERVICE \n",
              "<mark class=\"entity\" style=\"background: #FFFFFF; padding: 0.45em 0.6em; margin: 0 0.25em; line-height: 1; border-radius: 0.35em;\">\n",
              "    CHARGE MUST BE COLLECTED. IF THE REPRICE RESULTS IN A LOWER FARE/ THE DIFFERENCE IN FARES LESS THE SERVICE CHARGE MAY BE RETURNED IN THE FORM OF A\n",
              "    <span style=\"font-size: 0.8em; font-weight: bold; line-height: 1; border-radius: 0.35em; vertical-align: middle; margin-left: 0.5rem\">CHARGE_NOSHOW</span>\n",
              "</mark>\n",
              " NONREFUNDABLE TRAVEL VOUCHER VALID FOR TRAVEL VIA AA ONLY. --- II. AFTER DEPARTURE OF THE JOURNEY - REPRICE THE ITINERARY USING THE SAME FARE BASIS CODES AND RULES AS THOSE IN EFFECT ON THE DATE OF ORIGINAL TICKET ISSUANCE FOR UNCHANGED FARE COMPONENTS AND USING FARES IN EFFECT ON THE DATE OF NEW TICKET ISSUANCE FOR ALL CHANGED FARE COMPONENTS. 1.NO CHANGE IS PERMITTED TO STOPOVER/ THE FIRST FARE COMPONENT OR FARE BREAKS. 2.THE TICKETED SAME FARE MUST BE USED ON THE FIRST FARE COMPONENT. 3.USE ANY AA ONE-WAY FARE ALLOWED BY COMBINATION AND REISSUE RULES 4.ALL RULE AND BOOKING CODE PROVISIONS MUST BE MET. 5.ADVANCE RESERVATION REQUIREMENTS ARE MEASURED FROM REISSUE DATE TO DEPARTURE OF THE PRICING UNIT. 6.ANY DIFFERENCE IN FARES PLUS THE SERVICE \n",
              "<mark class=\"entity\" style=\"background: #FFFFFF; padding: 0.45em 0.6em; margin: 0 0.25em; line-height: 1; border-radius: 0.35em;\">\n",
              "    CHARGE MUST BE COLLECTED. IF THE REPRICE RESULTS IN A LOWER FARE/ THE DIFFERENCE IN FARES LESS THE SERVICE CHARGE MAY BE RETURNED IN THE FORM OF A\n",
              "    <span style=\"font-size: 0.8em; font-weight: bold; line-height: 1; border-radius: 0.35em; vertical-align: middle; margin-left: 0.5rem\">CHARGE_NOSHOW</span>\n",
              "</mark>\n",
              " NONREFUNDABLE TRAVEL VOUCHER VALID FOR TRAVEL VIA AA ONLY. --- III. AFTER DEPARTURE OF THE JOURNEY - REPRICE THE ITINERARY USING HISTORICAL ONE WAY FARES FROM THE PREVIOUS TICKET ISSUE DATE FOR FLOWN FARE COMPONENTS. USE FARES IN EFFECT ON THE DATE OF NEW TICKET ISSUANCE FOR ALL UNFLOWN COMPONENTS. 1.FARE BREAKS FOR THE FLOWN FARE COMPONENTS MAY BE CHANGED. 2.USE ANY AA ONE WAY FARE ALLOWED BY COMBINATION AND REISSUE RULES 3.ALL RULE AND BOOKING CODE PROVISIONS OF THE NEW FARES MUST BE MET. 4.ADVANCE RESERVATION REQUIREMENTS ARE MEASURED FROM THE REISSUE DATE TO DEPARTURE DATE OF THE PRICING UNIT. 5.COMPARE THE TOTAL FROM THE ORIGNAL TICKET TO THE NEW TOTAL OF THE FLOWN AND UNFLOWN FARE COMPONENTS. 6.ANY DIFFERENCE IN FARES PLUS THE SERVICE CHARGE MUST BE COLLECTED. IF THE REPRICE RESULTS IN A LOWER FARE/ THE DIFFERENCE IN FARES LESS THE SERVICE \n",
              "<mark class=\"entity\" style=\"background: #FFFFFF; padding: 0.45em 0.6em; margin: 0 0.25em; line-height: 1; border-radius: 0.35em;\">\n",
              "    CHARGE MAY BE RETURNED IN THE FORM OF A\n",
              "    <span style=\"font-size: 0.8em; font-weight: bold; line-height: 1; border-radius: 0.35em; vertical-align: middle; margin-left: 0.5rem\">CHARGE_NOSHOW</span>\n",
              "</mark>\n",
              " NONREFUNDABLE TRAVEL VOUCHER VALID FOR TRAVEL VIA AA ONLY. --- IV. AFTER EACH TICKETED DEPARTURE TIME 1. NO CHANGES PERMITTED IF PASSENGER HAS NOT CANCELLED THE TICKETED FLIGHT RESERVATION. 2. TICKET HAS NO VALUE IF PASSENGER HAS NOT CANCELLED THE TICKETED FLIGHT RESERVATION. --- V. IN THE CASE OF THE DEATH OF THE PASSENGER/ TRAVELING COMPANION/ THE SERVICE \n",
              "<mark class=\"entity\" style=\"background: #FFFFFF; padding: 0.45em 0.6em; margin: 0 0.25em; line-height: 1; border-radius: 0.35em;\">\n",
              "    CHARGE MAY BE WAIVED OR THE TICKET REFUNDED. VISIT AA.COM FOR DETAILS. CANCELLATIONS TICKET IS NON-REFUNDABLE. NOTE - TEXT BELOW NOT VALIDATED FOR AUTOPRICING. TICKET HAS NO VALUE UNLESS PASSENGER CANCELS TICKETED FLIGHT RESERVATIONS PRIOR TO TICKETED DEPARTURE TIME.. GENERAL RULE - APPLY UNLESS OTHERWISE SPECIFIED CANCELLATIONS TICKET IS NON-REFUNDABLE. NOTE - TEXT BELOW NOT VALIDATED FOR AUTOPRICING. TICKET HAS NO VALUE UNLESS PASSENGER CANCELS TICKETED FLIGHT RESERVATIONS PRIOR TO TICKETED DEPARTURE TIME. CHANGES CHANGES PERMITTED FOR REISSUE. NOTE - TEXT BELOW NOT VALIDATED FOR AUTOPRICING. IF PASSENGER CANCELS TICKETED FLIGHT RESERVATION PRIOR TO TICKETED DEPARTURE TIME/ TRAVEL THAT IS REBOOKED IS VALID AS FOLLOWS. 1/WHOLLY UNUSED TICKETS ARE VALID PROVIDED TRAVEL COMMENCES WITHIN ONE YEAR FROM THE ORIGINAL TICKET ISSUE DATE OR 2/ PARTIALLY USED TICKETS ARE VALID PROVIDED TRAVEL IS COMPLETED WITHIN ONE YEAR FROM THE OUTBOUND TRAVEL DATE ON THE ORIGINAL TICKET. IF TICKETED FLIGHT RESERVATION IS NOT CANCELLED PRIOR TO TICKETED DEPARTURE TIME/ REBOOKING IS NOT PERMITTED AND THE TICKET HAS NO VALUE. --- FARE DIFFERENCE MUST BE PAID AND TICKET MUST BE REISSUED WHEN ITINERARY IS REBOOKED. --- IF FARES WITH DIFFERENT SERVICE CHARGES ARE COMBINED ON THE SAME TICKET/ THE HIGHEST CHARGE OF ALL\n",
              "    <span style=\"font-size: 0.8em; font-weight: bold; line-height: 1; border-radius: 0.35em; vertical-align: middle; margin-left: 0.5rem\">CHARGE_NOSHOW</span>\n",
              "</mark>\n",
              " CHANGED FARE COMPONENTS WILL APPLY. --- WHENEVER A NONREFUNDABLE FARE TICKET IS REISSUED TO A REFUNDABLE FARE/ A NONREFUNDABLE NOTATION MUST BE MADE IN THE ENDORSEMENT BOX OF THE NEW TICKET. THE ORIGINAL NONREFUNDABLE VALUE REMAINS NONREFUNDABLE FOR ANY SUBSEQUENT REISSUES. --- CERTAIN DOMESTIC REISSUE PROVISIONS MAY BE OVERRIDDEN BY THOSE OF AA INTERNATIONAL FARES. --- GUARANTEED AIRFARE RULE- TRANSPORTATION IS SUBJECT TO THE RULES/ FARES AND CHARGES IN EFFECT ON THE DATE/ TIME OF TICKET ISSUANCE. SHOULD FARES INCREASE AFTER TICKET PURCHASE/ NO INCREASE IN FARE WILL BE COLLECTED PROVIDED THE ORIGINATING FLIGHT COUPON OF THE TICKET REFLECTING A CONFIRMED RESERVATION HAS NOT BEEN VOLUNTARILY CHANGED/ AND PROVIDED THAT VOLUNTARY CHANGES FOR FLIGHT COUPONS OTHER THAN THE ORGINATING FLIGHT DO NOT REFLECT A CHANGE IN CARRIER/ FARE BASIS/ ORIGIN/ DESTINATION OR STOPOVER POINTS FROM THOSE FOUND ON THE TICKET. --- I. PRIOR TO DEPARTURE OF THE JOURNEY - CHANGES TO THE ORIGINATING FLIGHT ON THE TICKET - CANCEL AND START OVER. 1. THE ENTIRE TICKET MUST BE REPRICED WITH FARES IN EFFECT ON THE DATE OF NEW TICKET ISSUANCE. 2. USE ANY AA FARE ALLOWED BY COMBINATION AND REISSUE RULES WHICH DOES NOT USE FARE TYPE EOU/ERU. 3. ALL PROVISIONS OF THE NEW FARE I.E. ADV RSVN/MIN/MAX STAY/INVENTORY ETC MUST BE MET 4. ADVANCE RESERVATION REQUIREMENTS ARE MEASURED FROM THE REISSUE DATE TO THE DEPARTURE OF THE PRICING UNIT. 5. ANY DIFFERENCE IN FARES MUST BE COLLECTED. IF THE REPRICE RESULTS IN A LOWER FARE/ THE DIFFERENCE IN FARES MAY BE RETURNED IN THE FORM OF A NONREFUNDABLE TRAVEL VOUCHER VALID FOR TRAVEL VIA AA ONLY. --- II. PRIOR TO DEPARTURE OF THE JOURNEY - CHANGES TO CONTINUING/RETURN FLIGHTS WHEN THERE IS NO CHANGE TO ORIGIN/DESTINATION OR STOPOVERS. THE FOLLOWING OPTIONS ARE AVAILABLE AND THE LOWEST SOLUTION WILL APPLY. --- A. ATTEMPT TO KEEP THE SAME FARES AS TICKETED. REPRICE THE ITINERARY USING THE SAME FARE BASIS CODE/ SAME FARE LEVEL/ SAME RULES AS TICKETED/ THAT IS/ THOSE IN EFFECT AT THE TIME THE ORIGINAL TICKET WAS SOLD. 1.NO CHANGE IS PERMITTED TO STOPOVER/ THE FIRST FARE COMPONENT OR FARE BREAKS. 2.THE TICKETED FARE BASIS CODE/ SAME RULE MUST BE USED AS THE REPLACEMENT FARE FOR THE REVISED FARE COMPONENT ON THE NEW TICKET. 3.FULLY FLOWN ONE-WAY FARE MUST NOT BE REPRICED AS A HALF ROUND-TRIP FARE. 4.NEW FARE MUST BE EQUAL TO THE PREVIOUS FARE. COMPARE BASE FARE VALUES FOR THE REVISED FARE COMPONENT TO THAT OF THE TICKETED FARE COMPONENT. 5.ALL RULE/BOOKING CODE PROVISIONS MUST BE MET. 6.FLIGHT SPECIFIC FARES MUST REMAIN WITHIN THE TIMES SPECIFIED FOR THAT FARE. 7.ADVANCE RESERVATION REQUIREMENTS ARE MEASURED FROM THE REISSUE DATE TO DEPARTURE OF PRICING UNIT. --- B. CANCEL AND START OVER. REPRICE THE ITINEARY USING FARES IN EFFECT ON THE DATE OF NEW TICKET ISSUANCE. 1.USE ANY AA FARE ALLOWED BY COMBINATION AND REISSUE RULES WHICH DOES NOT USE FARE TYPE EOU/ERU. 2.ALL RULE/BOOKING CODE PROVISIONS OF THE NEW FARE MUST BE MET. 3.ADVANCE RESERVATION REQUIREMENTS ARE MEASURED FROM REISSUE DATE TO DEPARTURE OF THE PRICING UNIT. 4.ANY DIFFERENCE IN FARES MUST BE COLLECTED. IF THE REPRICE RESULTS IN A LOWER FARE/ THE DIFFERENCE IN FARES MAY BE RETURNED IN THE FORM OF A NONREFUNDABLE TRAVEL VOUCHER VALID FOR TRAVEL VIA AA ONLY --- C. REPRICE THE ITINERARY USING THE SAME FARE BASIS CODES AND RULES AS THOSE IN EFFECT ON THE DATE OF ORIGINAL TICKET ISSUANCE FOR UNCHANGED FARE COMPONENTS AND USING FARES IN EFFECT ON THE DATE OF NEW TICKET ISSUANCE FOR ALL CHANGED FARE COMPONENTS. 1.NO CHANGE IS PERMITTED TO STOPOVER/ THE FIRST FARE COMPONENT OR FARE BREAKS. 2.THE TICKETED SAME FARE MUST BE USED ON THE FIRST FARE COMPONENT. 3.USE ANY AA FARES ALLOWED BY COMBINATION AND REISSUE RULES WHICH DOES NOT USE FARE TYPE EOU/ERU. 4.ALL RULE AND BOOKING CODE PROVISIONS MUST BE MET. 5.ADVANCE RESERVATION REQUIREMENTS ARE MEASURED FROM ORIGINAL TICKET DATE TO DEPARTURE OF PRICING UNIT. 6.ANY DIFFERENCE IN FARES MUST BE COLLECTED. IF THE REPRICE RESULTS IN A LOWER FARE/ THE DIFFERENCE IN FARES MAY BE RETURNED IN THE FORM OF A NONREFUNDABLE TRAVEL VOUCHER VALID FOR TRAVEL VIA AA ONLY. --- III. PRIOR TO DEPARTURE OF THE JOURNEY- CHANGES TO THE CONTINUING/RETURN FLIGHTS WHEN THERE IS A CHANGE TO ORIGIN/DESTINATION OR STOPOVERS. --- A. CANCEL AND START OVER. REPRICE THE ITINEARY USING FARES IN EFFECT ON THE DATE OF NEW TICKET ISSUANCE. 1.USE ANY AA FARE ALLOWED BY COMBINATION AND REISSUE RULES WHICH DOES NOT USE FARE TYPE EOU/ERU. 2.ALL RULE/BOOKING CODE PROVISIONS OF THE NEW FARE MUST BE MET. 3.ADVANCE RESERVATION REQUIREMENTS ARE MEASURED FROM REISSUE DATE TO DEPARTURE OF THE PRICING UNIT. 4.ANY DIFFERENCE IN FARES MUST BE COLLECTED. IF THE REPRICE RESULTS IN A LOWER FARE/ THE DIFFERENCE IN FARES MAY BE RETURNED IN THE FORM OF A NONREFUNDABLE TRAVEL VOUCHER VALID FOR TRAVEL VIA AA ONLY --- IV. AFTER DEPARTURE OF THE JOURNEY - WHEN THERE IS NO CHANGE TO ORIGIN/DESTINATION OR STOPOVERS. THE FOLLOWING OPTIONS ARE AVAILABLE AND THE LOWEST SOLUTION WILL APPLY. --- A. ATTEMPT TO KEEP THE SAME FARES AS TICKETED. REPRICE THE ITINERARY USING THE SAME FARE BASIS CODE/ SAME FARE LEVEL/ SAME RULES AS TICKETED/ THAT IS/ THOSE IN EFFECT AT THE TIME THE ORIGINAL TICKET WAS SOLD. 1.NO CHANGE IS PERMITTED TO STOPOVER/THE FIRST FARE COMPONENT OR FARE BREAKS. 2.THE TICKETED FARE BASIS CODE/ SAME RULE MUST BE USED AS THE REPLACEMENT FARE FOR THE REVISED FARE COMPONENT ON THE NEW TICKET. 3.FULLY FLOWN ONE-WAY FARE MUST NOT BE PRICED AS A HALF ROUND-TRIP FARE. 4.NEW FARE MUST BE EQUAL TO THE PREVIOUS FARE. COMPARE BASE FARE VALUES FOR THE REVISED FARE COMPONENT TO THAT OF THE TICKETED FARE COMPONENT. 4.ALL RULE/BOOKING CODE PROVISIONS MUST BE MET. 5.FLIGHT SPECIFIC FARES MUST REMAIN WITHIN THE TIMES SPECIFIED FOR THAT FARE. 6.ADVANCE RESERVATION REQUIREMENTS ARE MEASURED FROM THE REISSUE DATE TO DEPARTURE OF PRICING UNIT. --- B. REPRICE THE ITINERARY USING THE SAME FARE BASIS CODES AND RULES AS THOSE IN EFFECT ON THE DATE OF ORIGINAL TICKET ISSUANCE FOR UNCHANGED FARE COMPONENTS AND USING FARES IN EFFECT ON THE DATE OF NEW TICKET ISSUANCE FOR ALL CHANGED FARE COMPONENTS. 1.NO CHANGE IS PERMITTED TO STOPOVER/ THE FIRST FARE COMPONENT OR FARE BREAKS. 2.THE TICKETED SAME FARE MUST BE USED ON THE FIRST FARE COMPONENT. 3.USE ANY AA ONE-WAY FARE ALLOWED BY COMBINATION AND REISSUE RULES WHICH DOES NOT USE FARE TYPE EOU/ERU. 4.ALL RULE AND BOOKING CODE PROVISIONS MUST BE MET. 5.ADVANCE RESERVATION REQUIREMENTS ARE MEASURED FROM REISSUE DATE TO DEPARTURE OF THE PRICING UNIT. 6.ANY DIFFERENCE IN FARES MUST BE COLLECTED. IF THE REPRICE RESULTS IN A LOWER FARE/ THE DIFFERENCE IN FARES MAY BE RETURNED IN THE FORM OF A NONREFUNDABLE TRAVEL VOUCHER VALID FOR TRAVEL VIA AA ONLY. --- C. REPRICE THE ITINERARY USING HISTORICAL ONE WAY FARES FROM THE PREVIOUS TICKET ISSUE DATE FOR FLOWN FARE COMPONENTS/ IN AN EQUAL OR HIGHER BOOKING CLASS. USE FARES IN EFFECT ON THE DATE OF NEW TICKET ISSUANCE FOR ALL UNFLOWN COMPONENTS. 1.FARE BREAKS FOR THE FLOWN FARE COMPONENTS MAY NOT BE CHANGED. 2.USE BOOKING CLASS HIERARCHY WHEN REPLACING FARES FOR FLOWN FARE COMPONENTS. THE HIERARCHY IS ECONOMY CLASS - Y B H K M L V G S N Q O PREMIUM ECONOMY CLASS - W P FIRST/BUSINESS CLASS - F A C J R D I 3.USE ANY AA ONE WAY FARE ALLOWED BY COMBINATION AND REISSUE RULES WHICH DOES NOT USE FARE TYPE EOU/ERU. 4.ALL RULE AND BOOKING CODE PROVISIONS OF THE NEW FARES MUST BE MET. 5.ADVANCE RESERVATION REQUIREMENTS ARE MEASURED FROM THE REISSUE DATE TO DEPARTURE DATE OF THE PRICING UNIT. 6.COMPARE THE TOTAL FROM THE ORIGINAL TICKET TO THE NEW TOTAL OF THE FLOWN AND UNFLOWN FARE COMPONENTS. 7.ANY DIFFERENCE IN FARES MUST BE COLLECTED. IF THE REPRICE RESULTS IN A LOWER FARE/ THE DIFFERENCE IN FARES MAY BE RETURNED IN THE FORM OF A NONREFUNDABLE TRAVEL VOUCHER VALID FOR TRAVEL VIA AA ONLY. --- V. AFTER DEPARTURE OF THE JOURNEY - CHANGES TO CONTINUING/RETURN FLIGHTS WHEN THERE IS A CHANGE TO ORIGIN/DESTINATION OR STOPOVERS. --- A. REPRICE THE ITINERARY USING HISTORICAL ONE WAY FARES FROM THE PREVIOUS TICKET ISSUE DATE FOR FLOWN FARE COMPONENTS/ IN AN EQUAL OR HIGHER BOOKING CLASS. USE FARES IN EFFECT ON THE DATE OF NEW TICKET ISSUANCE FOR ALL UNFLOWN COMPONENTS. 1.FARE BREAKS FOR THE FLOWN FARE COMPONENTS MAY NOT BE CHANGED. 2.USE BOOKING CLASS HIERARCHY WHEN REPLACING FARES FOR FLOWN FARE COMPONENTS. THE HIERARCHY IS ECONOMY CLASS - Y B H K M L V G S N Q O PREMIUM ECONOMY CLASS - W P FIRST/BUSINESS CLASS - F A C J R D I 3.USE ANY AA ONE WAY FARE ALLOWED BY COMBINATION AND REISSUE RULES WHICH DOES NOT USE FARE TYPE EOU/ERU. 4.ALL RULE AND BOOKING CODE PROVISIONS OF THE NEW FARES MUST BE MET. 5.ADVANCE RESERVATION REQUIREMENTS ARE MEASURED FROM THE REISSUE DATE TO DEPARTURE DATE OF THE PRICING UNIT. 6.COMPARE THE TOTAL FROM THE ORIGNAL TICKET TO THE NEW TOTAL OF THE FLOWN AND UNFLOWN FARE COMPONENTS. 7.ANY DIFFERENCE IN FARES MUST BE COLLECTED. IF THE REPRICE RESULTS IN A LOWER FARE/ THE DIFFERENCE IN FARES MAY BE RETURNED IN THE FORM OF A NONREFUNDABLE TRAVEL VOUCHER VALID FOR TRAVEL VIA AA ONLY. --- VI. AFTER EACH TICKETED DEPARTURE TIME 1. NO CHANGES PERMITTED IF PASSENGER HAS NOT CANCELLED THE TICKETED FLIGHT RESERVATION. 2. TICKET HAS NO VALUE IF PASSENGER HAS NOT CANCELLED THE TICKETED FLIGHT RESERVATION. --- VII. IN THE CASE OF THE DEATH OF THE PASSENGER/ TRAVELING COMPANION/ THE SERVICE CHARGE MAY BE WAIVED OR THE TICKET REFUNDED. VISIT AA.COM FOR DETAILS</br></div></span>"
            ]
          },
          "metadata": {}
        }
      ]
    },
    {
      "cell_type": "markdown",
      "source": [
        "## Ticket 7"
      ],
      "metadata": {
        "id": "B4F7Jq4ailtT"
      }
    },
    {
      "cell_type": "code",
      "source": [
        "text = \"\"\"\n",
        "*SPECIAL EMERGENCY RULES *SUBJECT TO CHANGE AT ANYTIME FOR TICKETING ON/BEFORE 30JUN22/FOR TRAVEL ON/AFTER 01MAR20 AND ON/BEFORE 31DEC23 IF TRAVEL ON THIS FARE COMPONENT MUST COMMENCE BY MIDNIGHT ON 31DEC23. CANCELLATIONS TICKET IS NON-REFUNDABLE IN CASE OF CANCEL/ NO-SHOW. CHANGES CHANGES PERMITTED. NOTE - TEXT BELOW NOT VALIDATED FOR AUTOPRICING. -FOR INFORMATION ON TICKET REISSUE PROCEDURES SEE DELTA/S INTERNATIONAL CONTRACT OF CARRIAGE RULE 22 REROUTING GENERAL RULE - APPLY UNLESS OTHERWISE SPECIFIED CANCELLATIONS ANY TIME TICKET IS NON-REFUNDABLE IN CASE OF CANCEL. WAIVED FOR DEATH OF PASSENGER OR FAMILY MEMBER. ANY TIME TICKET IS NON-REFUNDABLE IN CASE OF NO-SHOW. WAIVED FOR DEATH OF PASSENGER OR FAMILY MEMBER. NOTE - TEXT BELOW NOT VALIDATED FOR AUTOPRICING. TICKET IS NON-REFUNDABLE AND HAS NO REMAINING VALUE IN CASE OF NO-SHOW CHANGES ANY TIME CHANGES PERMITTED. NOTE - TEXT BELOW NOT VALIDATED FOR AUTOPRICING. ----TICKET VALIDITY---- TICKET IS VALID FOR 1 YEAR FROM THE ORIGINAL DATE OF ISSUANCE AND TRAVEL MUST COMMENCE WITHIN THIS VALIDITY PERIOD. ONCE TRAVEL HAS COMMENCED THEN ALL TRAVEL MUST BE COMPLETED WITHIN 1 YEAR FROM THE DATE ON WHICH TRAVEL COMMENCED. IF A TICKET IS EXCHANGED OR REISSUED - 1. A WHOLLY UNUSED TICKET MUST BE EXCHANGED WITHIN THE ORIGINAL VALIDITY PERIOD OF 1 YEAR AND WILL BE GIVEN A NEW TICKET ISSUE DATE BASED ON THE DATE OF EXCHANGE. 2. IF TRAVEL HAS COMMENCED THEN THE TICKET MUST BE REISSUED AND ALL TRAVEL COMPLETED WITHIN 1 YEAR FROM THE DATE ON WHICH TRAVEL COMMENCED. . -FOR INFORMATION ON TICKET REISSUE PROCEDURES SEE DELTA/S INTERNATIONAL CONTRACT OF CARRIAGE RULE 22 REROUTING\n",
        "\"\"\""
      ],
      "metadata": {
        "id": "_ZSNJa-zilta"
      },
      "execution_count": 22,
      "outputs": []
    },
    {
      "cell_type": "code",
      "source": [
        "doc = nlp_ner(text)\n",
        "\n",
        "colors = {\n",
        "    \"CANCELLATION_TIME\": \"#F67DE3\",\n",
        "    \"CHARGE_CANCEL\": \"#7DF6D9\",\n",
        "    \"CHARGE_NOSHOW\": \"#FFFFFF\",\n",
        "}\n",
        "options = {\"colors\": colors} \n",
        "\n",
        "spacy.displacy.render(doc, style=\"ent\", options= options, jupyter=True)\n"
      ],
      "metadata": {
        "colab": {
          "base_uri": "https://localhost:8080/",
          "height": 402
        },
        "outputId": "973dc84a-a3b1-4c2f-de70-d1b5205860c0",
        "id": "l46PFRJGiltb"
      },
      "execution_count": 23,
      "outputs": [
        {
          "output_type": "display_data",
          "data": {
            "text/plain": [
              "<IPython.core.display.HTML object>"
            ],
            "text/html": [
              "<span class=\"tex2jax_ignore\"><div class=\"entities\" style=\"line-height: 2.5; direction: ltr\"></br>*SPECIAL EMERGENCY RULES *SUBJECT TO CHANGE AT ANYTIME FOR TICKETING ON/BEFORE 30JUN22/FOR TRAVEL ON/AFTER 01MAR20 AND ON/BEFORE 31DEC23 IF TRAVEL ON THIS FARE COMPONENT MUST COMMENCE BY MIDNIGHT ON 31DEC23. CANCELLATIONS TICKET IS NON-REFUNDABLE IN CASE OF CANCEL/ NO-SHOW. CHANGES CHANGES PERMITTED. NOTE - TEXT BELOW NOT VALIDATED FOR AUTOPRICING. -FOR INFORMATION ON TICKET REISSUE PROCEDURES SEE DELTA/S INTERNATIONAL CONTRACT OF CARRIAGE RULE 22 REROUTING GENERAL RULE - APPLY UNLESS OTHERWISE SPECIFIED CANCELLATIONS ANY TIME TICKET IS NON-REFUNDABLE IN CASE OF CANCEL. WAIVED FOR DEATH OF PASSENGER OR FAMILY MEMBER. ANY TIME TICKET IS NON-REFUNDABLE IN CASE OF NO-SHOW. WAIVED FOR DEATH OF PASSENGER OR FAMILY MEMBER. NOTE - TEXT BELOW NOT VALIDATED FOR AUTOPRICING. TICKET IS NON-REFUNDABLE AND HAS NO REMAINING VALUE IN CASE OF NO-SHOW CHANGES ANY TIME CHANGES PERMITTED. NOTE - TEXT BELOW NOT VALIDATED FOR AUTOPRICING. ----TICKET VALIDITY---- TICKET IS VALID FOR 1 YEAR FROM THE ORIGINAL DATE OF ISSUANCE AND TRAVEL MUST COMMENCE WITHIN THIS VALIDITY PERIOD. ONCE TRAVEL HAS COMMENCED THEN ALL TRAVEL MUST BE COMPLETED WITHIN 1 YEAR FROM THE DATE ON WHICH TRAVEL COMMENCED. IF A TICKET IS EXCHANGED OR REISSUED - 1. A WHOLLY UNUSED TICKET MUST BE EXCHANGED WITHIN THE ORIGINAL VALIDITY PERIOD OF 1 YEAR AND WILL BE GIVEN A NEW TICKET ISSUE DATE BASED ON THE DATE OF EXCHANGE. 2. IF TRAVEL HAS COMMENCED THEN THE TICKET MUST BE REISSUED AND ALL TRAVEL COMPLETED WITHIN 1 YEAR FROM THE DATE ON WHICH TRAVEL COMMENCED. . -FOR INFORMATION ON TICKET REISSUE PROCEDURES SEE DELTA/S INTERNATIONAL CONTRACT OF CARRIAGE RULE 22 REROUTING</br></div></span>"
            ]
          },
          "metadata": {}
        }
      ]
    },
    {
      "cell_type": "markdown",
      "source": [
        "## Ticket 8"
      ],
      "metadata": {
        "id": "q5QeZFmtjIVP"
      }
    },
    {
      "cell_type": "code",
      "source": [
        "text = \"\"\"\n",
        "CHANGES ANY TIME CHANGES NOT PERMITTED IN CASE OF REISSUE/ REVALIDATION. ANY TIME CHANGES NOT PERMITTED IN CASE OF NO-SHOW. NOTE - TEXT BELOW NOT VALIDATED FOR AUTOPRICING. PENALTIES FOR TICKET CHANGES MUST BE COLLECTED WITHIN THE TICKET USING THE TAX CODE OD. THE NON-USE OF OD TAX CODE WILL BE PENALIZED WITH 5.00USD PLUS THE ADMINISTRATIVE FEE ASSOCIATED TO THE ADM. EXCEPT TICKETS REISSUED IN USA CANADA ARGENTINA OR PARAGUAY. // REISSUE MUST BE COMPLETED BEFORE DEPARTURE TIME OF THE ORIGINAL FLIGHT -OTHERWISE IT WILL BE CONSIDERED NO-SHOW AND SUCH PENALTY/RESTRICTION WILL APPLY. -CHANGES TO UNUSED TICKET- 1.WHEN THE FIRST FLIGHT COUPON IS CHANGED THE ITINERARY MUST BE RE-PRICED USING CURRENT FARES IN EFFECT ON THE DATE THE TICKET IS REISSUED THE ITINERARY MUST MEET ALL RULE PROVISIONS OF THE NEWLY TICKETED FARE. 2.WHEN THERE ARE NO CHANGES TO THE FIRST FLIGHT COUPON BUT OTHER FARE COMPONENTS ARE CHANGED THE ITINERARY MUST BE RE-PRICED USING HISTORICAL FARES IN EFFECT ON THE PREVIOUS TICKETING DATE. THE NEW ITINERARY MUST MEET ALL THE PROVISIONS OF THE NEWLY TICKETED FARES // WHEN MORE THAN ONE FARE COMPONENT IS CHANGED THE HIGHEST PENALTY/RESTRICTIVE CONDITION OF ANY OF THE CHANGED FARE COMPONENTS WILL APPLY. // CHANGES TO NON REFUNDABLE FARE COMPONENTS SHOULD BE DONE TO AN EQUAL OR A HIGHER FARE COMPONENT. // THE CHANGE FEE AND ANY DIFFERENCE IN FARE MUST BE COLLECTED AT THE TIME OF CHANGE/REISSUE AND APPLIES PER TRANSACTION-PER PASSENGER. CHILD/INFANT DISCOUNTS APPLY. // -CHANGES TO PARTIALY USED TICKETS- THE ITINERARY MUST BE RE-PRICED USING HISTORICAL FARES IN EFFECT ON THE PREVIOUS TICKETING DATE. THE NEW ITINERARY MUST MEET ALL RULE PROVISIONS OF THE NEWLY TICKETED FARE. THE RECALCULATED FARE MUST BE THE FARE THAT COULD HAVE BEEN USED IF PURCHASED ON THE ORIGINAL TICKETING DATE. // WHEN MORE THAN ONE FARE COMPONENT IS CHANGED THE HIGHEST PENALTY/RESTRICTIVE CONDITION OF ANY OF THE CHANGED FARE COMPONENTS WILL APPLY. // CHANGES TO NON REFUNDABLE FARE COMPONENTS SHOULD BE DONE TO AN EQUAL OR A HIGHER FARE COMPONENT. // THE CHANGE FEE AND ANY DIFFERENCE IN FARE MUST BE COLLECTED AT THE TIME OF CHANGE/REISSUE AND APPLIES PER TRANSACTION-PER PASSENGER. CHILD/ INFANT DISCOUNTS APPLY. // TICKET VALIDITY FOR WHOLLY UNUSED TICKETS IS ONE YEAR FROM TICKET ISSUE DATE. PARTIALLY USED TICKETS ARE VALID PROVIDED TRAVEL IS COMPLETED WITHIN ONE YEAR OR MAXIMUN STAY - WHICHEVER IS EARLIER- FROM THE OUTBOUND TRAVEL OF THE ORIGINAL TICKET. CANCELLATIONS ANY TIME TICKET IS NON-REFUNDABLE. NOTE - TEXT BELOW NOT VALIDATED FOR AUTOPRICING. // REFUND RULES APPLY PER FARE COMPONENT. WHEN COMBINING REFUNDABLE FARES WITH NON REFUNDABLE FARES PROVISIONS WILL APPLY AS FOLLOWS - THE AMOUNT PAID ON THE REFUNDABLE FARE COMPONENT WILL BE REFUNDED UPON PAYMENT OF THE PENALTY AMOUNT IF APPLICABLE. - THE AMOUNT PAID ON THE NON REFUNDABLE FARE COMPONENT WILL NOT BE REFUNDED. - WHEN COMBINING FARES CHARGE THE SUM OF THE CANCELLATION FEES OF ALL CANCELLED FARE COMPONENTS. \n",
        "\"\"\""
      ],
      "metadata": {
        "id": "MZ_waCD-jIVW"
      },
      "execution_count": 24,
      "outputs": []
    },
    {
      "cell_type": "code",
      "source": [
        "doc = nlp_ner(text)\n",
        "\n",
        "colors = {\n",
        "    \"CANCELLATION_TIME\": \"#F67DE3\",\n",
        "    \"CHARGE_CANCEL\": \"#7DF6D9\",\n",
        "    \"CHARGE_NOSHOW\": \"#FFFFFF\",\n",
        "}\n",
        "options = {\"colors\": colors} \n",
        "\n",
        "spacy.displacy.render(doc, style=\"ent\", options= options, jupyter=True)\n"
      ],
      "metadata": {
        "colab": {
          "base_uri": "https://localhost:8080/",
          "height": 647
        },
        "outputId": "f8974e6d-a04a-41f7-df75-1f4d2ed56f23",
        "id": "gC6WrPYXjIVW"
      },
      "execution_count": 25,
      "outputs": [
        {
          "output_type": "display_data",
          "data": {
            "text/plain": [
              "<IPython.core.display.HTML object>"
            ],
            "text/html": [
              "<span class=\"tex2jax_ignore\"><div class=\"entities\" style=\"line-height: 2.5; direction: ltr\"></br>CHANGES ANY TIME CHANGES NOT PERMITTED IN CASE OF REISSUE/ REVALIDATION. ANY TIME CHANGES NOT PERMITTED IN CASE OF NO-SHOW. NOTE - TEXT BELOW NOT VALIDATED FOR AUTOPRICING. PENALTIES FOR TICKET CHANGES MUST BE COLLECTED WITHIN THE TICKET USING THE TAX CODE OD. THE NON-USE OF OD TAX CODE WILL BE PENALIZED WITH 5.00USD PLUS THE ADMINISTRATIVE FEE ASSOCIATED TO THE ADM. EXCEPT TICKETS REISSUED IN USA CANADA ARGENTINA OR PARAGUAY. // REISSUE MUST BE COMPLETED BEFORE DEPARTURE TIME OF THE ORIGINAL FLIGHT -OTHERWISE IT WILL BE CONSIDERED NO-SHOW AND SUCH PENALTY/RESTRICTION WILL APPLY. -CHANGES TO UNUSED TICKET- 1.WHEN THE FIRST FLIGHT COUPON IS CHANGED THE ITINERARY MUST BE RE-PRICED USING CURRENT FARES IN EFFECT ON THE DATE THE TICKET IS REISSUED THE ITINERARY MUST MEET ALL RULE PROVISIONS OF THE NEWLY TICKETED FARE. 2.WHEN THERE ARE NO CHANGES TO THE FIRST FLIGHT COUPON BUT OTHER FARE COMPONENTS ARE CHANGED THE ITINERARY MUST BE RE-PRICED USING HISTORICAL FARES IN EFFECT ON THE PREVIOUS TICKETING DATE. THE NEW ITINERARY MUST MEET ALL THE PROVISIONS OF THE NEWLY TICKETED FARES // WHEN MORE THAN ONE FARE COMPONENT IS CHANGED THE HIGHEST PENALTY/RESTRICTIVE CONDITION OF ANY OF THE CHANGED FARE COMPONENTS WILL APPLY. // CHANGES TO NON REFUNDABLE FARE COMPONENTS SHOULD BE DONE TO AN EQUAL OR A HIGHER FARE COMPONENT. // THE CHANGE FEE AND ANY DIFFERENCE IN FARE MUST BE COLLECTED AT THE TIME OF CHANGE/REISSUE AND APPLIES PER TRANSACTION-PER PASSENGER. CHILD/INFANT DISCOUNTS APPLY. // -CHANGES TO PARTIALY USED TICKETS- THE ITINERARY MUST BE RE-PRICED USING HISTORICAL FARES IN EFFECT ON THE PREVIOUS TICKETING DATE. THE NEW ITINERARY MUST MEET ALL RULE PROVISIONS OF THE NEWLY TICKETED FARE. THE RECALCULATED FARE MUST BE THE FARE THAT COULD HAVE BEEN USED IF PURCHASED ON THE ORIGINAL TICKETING DATE. // WHEN MORE THAN ONE FARE COMPONENT IS CHANGED THE HIGHEST PENALTY/RESTRICTIVE CONDITION OF ANY OF THE CHANGED FARE COMPONENTS WILL APPLY. // CHANGES TO NON REFUNDABLE FARE COMPONENTS SHOULD BE DONE TO AN EQUAL OR A HIGHER FARE COMPONENT. // THE CHANGE FEE AND ANY DIFFERENCE IN FARE MUST BE COLLECTED AT THE TIME OF CHANGE/REISSUE AND APPLIES PER TRANSACTION-PER PASSENGER. CHILD/ INFANT DISCOUNTS APPLY. // TICKET VALIDITY FOR WHOLLY UNUSED TICKETS IS ONE YEAR FROM TICKET ISSUE DATE. PARTIALLY USED TICKETS ARE VALID PROVIDED TRAVEL IS COMPLETED WITHIN ONE YEAR OR MAXIMUN STAY - WHICHEVER IS EARLIER- FROM THE OUTBOUND TRAVEL OF THE ORIGINAL TICKET. CANCELLATIONS ANY TIME TICKET IS NON-REFUNDABLE. NOTE - TEXT BELOW NOT VALIDATED FOR AUTOPRICING. // REFUND RULES APPLY PER FARE COMPONENT. WHEN COMBINING REFUNDABLE FARES WITH NON REFUNDABLE FARES PROVISIONS WILL APPLY AS FOLLOWS - THE AMOUNT PAID ON THE REFUNDABLE FARE COMPONENT WILL BE REFUNDED UPON PAYMENT OF THE PENALTY AMOUNT IF APPLICABLE. - THE AMOUNT PAID ON THE NON REFUNDABLE FARE COMPONENT WILL NOT BE REFUNDED. - WHEN COMBINING FARES CHARGE THE SUM OF THE CANCELLATION FEES OF ALL CANCELLED FARE COMPONENTS. </br></div></span>"
            ]
          },
          "metadata": {}
        }
      ]
    },
    {
      "cell_type": "markdown",
      "source": [
        "## Ticket 9"
      ],
      "metadata": {
        "id": "Z_vvyKFWkYi8"
      }
    },
    {
      "cell_type": "code",
      "source": [
        "text = \"\"\"\n",
        "SPECIAL EMERGENCY RULES *SUBJECT TO CHANGE AT ANYTIME CANCELLATIONS ANY TIME CANCELLATIONS PERMITTED FOR CANCEL/NO-SHOW. NOTE - TEXT BELOW NOT VALIDATED FOR AUTOPRICING. CANCELLATIONS ARE PERMITTED WITHIN TICKET VALIDITY OF ORIGINAL TICKET. FOR CANCELLATION AFTER DEPARTURE THE REFUND WILL BE THE DIFFERENCE BETWEEN FARE PAID AND FARE FOR JOURNEY TRAVELLED. ----- FOR TRAVEL AGENCY BOOKINGS MADE IN MEXICO / THE CARIBBEAN / CENTRAL AND SOUTH AMERICA - AA WILL ASSESS A USD 50.00 FEE ON ANY UNTICKETED RESERVATION NOT CANCELLED BEFORE DEPARTURE. CHANGES ANY TIME CHANGES PERMITTED FOR NO-SHOW/REISSUE/REVALIDATION. NOTE - TEXT BELOW NOT VALIDATED FOR AUTOPRICING. A CHANGE IS A ROUTING / OR DATE / OR FLIGHT MODIFICATION. CHANGE IS PERMITTED WITHIN TICKET VALIDITY OF ORIGINAL TICKET. TICKETS MUST BE REISSUED FOR ALL VOLUNTARY CHANGES. -------------------------------------------------- WHERE THIS FARE IS COMBINED WITH ANOTHER FARE THE PENALTY CONDITIONS OF THE CHANGED FARE COMPONENT WILL APPLY. -------------------------------------------------- CALCULATION OF REISSUES //CHANGES BEFORE OUTBOUND DEPARTURE// WHEN THE FIRST FARE COMPONENT IS CHANGED THE ITINERARY MUST BE REPRICED USING CURRENT FARES IN EFFECT ON THE DATE THE TICKET IS REISSUED. ----- WHEN THERE ARE NO CHANGES TO THE FIRST FARE COMPONENT BUT OTHER FARE COMPONENTS ARE CHANGED THE ITINERARY MUST BE REPRICED USING HISTORICAL FARES IN EFFECT ON THE PREVIOUS TICKETING DATE OR CURRENT FARES IN EFFECT ON THE DATE OF TICKET REISSUE WHICHEVER IS LOWER. -------------------------------------------------- //CHANGES AFTER DEPARTURE// THE ITINERARY MUST BE REPRICED USING HISTORICAL FARES IN EFFECT ON THE PREVIOUS TICKETING DATE. ----- WHEN THE NEW ITINERARY RESULTS IN A HIGHER FARE THE DIFFERENCE WILL BE COLLECTED. ----- WHEN THE NEW ITINERARY RESULTS IN A LOWER FARE A REFUND OF THE RESIDUAL AMOUNT LESS THE APPLICABLE PENALTY WILL BE MADE. ----- REISSUES/EXCHANGES NOT ALLOWED TO EOU/ERU FARE TYPES. FARE RULE NOTE - TEXT BELOW NOT VALIDATED FOR AUTOPRICING. IN THE CASE OF THE DEATH OF THE PASSENGER/ OR A TRAVELING COMPANION/THE SERVICE CHARGE MAY BE WAIVED OR THE TICKET REFUNDED. VISIT AA.COM FOR DETAIL. EXCEPTION - 1. FOR ALL TICKETS SOLD IN ARGENTINA / VENEZUELA - ANY FULL OR PARTIAL REFUND MUST BE PROCESSED THROUGH AA REFUND DEPARTMENT OR AT THE ORIGINAL ISSUING LOCATION IN ARGENTINA / VENEZUELA 2. FOR TRAVEL AGENCY BOOKINGS MADE IN MEXICO THE CARIBBEAN / CENTRAL AND SOUTH AMERICA - AA WILL ASSESS A USD 25.00 FEE ON ANY UNTICKETED RESERVATION NOT CANCELED BEFORE DEPARTURE --- REISSUES/EXCHANGES NOT ALLOWED TO EOU/ERU FARE TYPES. GENERAL RULE - APPLY UNLESS OTHERWISE SPECIFIED CANCELLATIONS ANY TIME CANCELLATIONS PERMITTED FOR CANCEL/NO-SHOW. NOTE - TEXT BELOW NOT VALIDATED FOR AUTOPRICING. CANCELLATIONS ARE PERMITTED WITHIN TICKET VALIDITY OF ORIGINAL TICKET. FOR CANCELLATION AFTER DEPARTURE THE REFUND WILL BE THE DIFFERENCE BETWEEN FARE PAID AND FARE FOR JOURNEY TRAVELLED. ----- FOR TRAVEL AGENCY BOOKINGS MADE IN MEXICO / THE CARIBBEAN / CENTRAL AND SOUTH AMERICA - AA WILL ASSESS A USD 50.00 FEE ON ANY UNTICKETED RESERVATION NOT CANCELLED BEFORE DEPARTURE. CHANGES ANY TIME CHANGES PERMITTED FOR NO-SHOW/REISSUE/REVALIDATION. NOTE - TEXT BELOW NOT VALIDATED FOR AUTOPRICING. A CHANGE IS A ROUTING / OR DATE / OR FLIGHT MODIFICATION. CHANGE IS PERMITTED WITHIN TICKET VALIDITY OF ORIGINAL TICKET. TICKETS MUST BE REISSUED FOR ALL VOLUNTARY CHANGES. -------------------------------------------------- WHERE THIS FARE IS COMBINED WITH ANOTHER FARE THE PENALTY CONDITIONS OF THE CHANGED FARE COMPONENT WILL APPLY. -------------------------------------------------- CALCULATION OF REISSUES //CHANGES BEFORE OUTBOUND DEPARTURE// WHEN THE FIRST FARE COMPONENT IS CHANGED THE ITINERARY MUST BE REPRICED USING CURRENT FARES IN EFFECT ON THE DATE THE TICKET IS REISSUED. ----- WHEN THERE ARE NO CHANGES TO THE FIRST FARE COMPONENT BUT OTHER FARE COMPONENTS ARE CHANGED THE ITINERARY MUST BE REPRICED USING HISTORICAL FARES IN EFFECT ON THE PREVIOUS TICKETING DATE OR CURRENT FARES IN EFFECT ON THE DATE OF TICKET REISSUE WHICHEVER IS LOWER. -------------------------------------------------- //CHANGES AFTER DEPARTURE// THE ITINERARY MUST BE REPRICED USING HISTORICAL FARES IN EFFECT ON THE PREVIOUS TICKETING DATE. ----- WHEN THE NEW ITINERARY RESULTS IN A HIGHER FARE THE DIFFERENCE WILL BE COLLECTED. ----- WHEN THE NEW ITINERARY RESULTS IN A LOWER FARE A REFUND OF THE RESIDUAL AMOUNT LESS THE APPLICABLE PENALTY WILL BE MADE. ----- REISSUES/EXCHANGES NOT ALLOWED TO EOU/ERU FARE TYPES.\n",
        "\"\"\""
      ],
      "metadata": {
        "id": "eZahZBGLkYi9"
      },
      "execution_count": 26,
      "outputs": []
    },
    {
      "cell_type": "code",
      "source": [
        "doc = nlp_ner(text)\n",
        "\n",
        "colors = {\n",
        "    \"CANCELLATION_TIME\": \"#F67DE3\",\n",
        "    \"CHARGE_CANCEL\": \"#7DF6D9\",\n",
        "    \"CHARGE_NOSHOW\": \"#FFFFFF\",\n",
        "}\n",
        "options = {\"colors\": colors} \n",
        "\n",
        "spacy.displacy.render(doc, style=\"ent\", options= options, jupyter=True)\n"
      ],
      "metadata": {
        "colab": {
          "base_uri": "https://localhost:8080/",
          "height": 927
        },
        "outputId": "d205cb2c-221f-47fc-9c12-be294576d1e0",
        "id": "NPeSzb9hkYi9"
      },
      "execution_count": 27,
      "outputs": [
        {
          "output_type": "display_data",
          "data": {
            "text/plain": [
              "<IPython.core.display.HTML object>"
            ],
            "text/html": [
              "<span class=\"tex2jax_ignore\"><div class=\"entities\" style=\"line-height: 2.5; direction: ltr\"></br>SPECIAL EMERGENCY RULES *SUBJECT TO CHANGE AT ANYTIME CANCELLATIONS ANY TIME CANCELLATIONS PERMITTED FOR CANCEL/NO-SHOW. NOTE - TEXT BELOW NOT VALIDATED FOR AUTOPRICING. CANCELLATIONS ARE PERMITTED WITHIN TICKET VALIDITY OF ORIGINAL TICKET. FOR CANCELLATION AFTER DEPARTURE THE REFUND WILL BE THE DIFFERENCE BETWEEN FARE PAID AND FARE FOR JOURNEY TRAVELLED. ----- FOR TRAVEL AGENCY BOOKINGS MADE IN MEXICO / THE CARIBBEAN / CENTRAL AND SOUTH AMERICA - AA WILL ASSESS A \n",
              "<mark class=\"entity\" style=\"background: #7DF6D9; padding: 0.45em 0.6em; margin: 0 0.25em; line-height: 1; border-radius: 0.35em;\">\n",
              "    USD 50.00 FEE ON ANY UNTICKETED RESERVATION\n",
              "    <span style=\"font-size: 0.8em; font-weight: bold; line-height: 1; border-radius: 0.35em; vertical-align: middle; margin-left: 0.5rem\">CHARGE_CANCEL</span>\n",
              "</mark>\n",
              " NOT CANCELLED BEFORE DEPARTURE. CHANGES ANY TIME CHANGES PERMITTED FOR NO-SHOW/REISSUE/REVALIDATION. NOTE - TEXT BELOW NOT VALIDATED FOR AUTOPRICING. A CHANGE IS A ROUTING / OR DATE / OR FLIGHT MODIFICATION. CHANGE IS PERMITTED WITHIN TICKET VALIDITY OF ORIGINAL TICKET. TICKETS MUST BE REISSUED FOR ALL VOLUNTARY CHANGES. -------------------------------------------------- WHERE THIS FARE IS COMBINED WITH ANOTHER FARE THE PENALTY CONDITIONS OF THE CHANGED FARE COMPONENT WILL APPLY. -------------------------------------------------- CALCULATION OF REISSUES //CHANGES BEFORE OUTBOUND DEPARTURE// WHEN THE FIRST FARE COMPONENT IS CHANGED THE ITINERARY MUST BE REPRICED USING CURRENT FARES IN EFFECT ON THE DATE THE TICKET IS REISSUED. ----- WHEN THERE ARE NO CHANGES TO THE FIRST FARE COMPONENT BUT OTHER FARE COMPONENTS ARE CHANGED THE ITINERARY MUST BE REPRICED USING HISTORICAL FARES IN EFFECT ON THE PREVIOUS TICKETING DATE OR CURRENT FARES IN EFFECT ON THE DATE OF TICKET REISSUE WHICHEVER IS LOWER. -------------------------------------------------- //CHANGES AFTER DEPARTURE// THE ITINERARY MUST BE REPRICED USING HISTORICAL FARES IN EFFECT ON THE PREVIOUS TICKETING DATE. ----- WHEN THE NEW ITINERARY RESULTS IN A HIGHER FARE THE DIFFERENCE WILL BE COLLECTED. ----- WHEN THE NEW ITINERARY RESULTS IN A LOWER FARE A REFUND OF THE RESIDUAL AMOUNT LESS THE APPLICABLE PENALTY WILL BE MADE. ----- REISSUES/EXCHANGES NOT ALLOWED TO EOU/ERU FARE TYPES. FARE RULE NOTE - TEXT BELOW NOT VALIDATED FOR AUTOPRICING. IN THE CASE OF THE DEATH OF THE PASSENGER/ OR A TRAVELING COMPANION/THE SERVICE \n",
              "<mark class=\"entity\" style=\"background: #FFFFFF; padding: 0.45em 0.6em; margin: 0 0.25em; line-height: 1; border-radius: 0.35em;\">\n",
              "    CHARGE MAY BE WAIVED OR THE TICKET REFUNDED. VISIT AA.COM FOR DETAIL. EXCEPTION - 1. FOR ALL TICKETS SOLD IN ARGENTINA / VENEZUELA - ANY FULL OR PARTIAL REFUND MUST BE PROCESSED THROUGH AA REFUND DEPARTMENT OR AT THE ORIGINAL ISSUING LOCATION IN ARGENTINA / VENEZUELA 2. FOR TRAVEL AGENCY BOOKINGS MADE IN MEXICO THE CARIBBEAN / CENTRAL AND SOUTH AMERICA - AA WILL ASSESS A USD 25.00 FEE ON ANY UNTICKETED RESERVATION NOT CANCELED BEFORE DEPARTURE --- REISSUES/EXCHANGES NOT ALLOWED TO EOU/ERU FARE TYPES. GENERAL RULE - APPLY UNLESS OTHERWISE SPECIFIED CANCELLATIONS ANY TIME CANCELLATIONS PERMITTED FOR CANCEL/NO-SHOW. NOTE - TEXT BELOW NOT VALIDATED FOR AUTOPRICING. CANCELLATIONS ARE PERMITTED WITHIN TICKET VALIDITY OF ORIGINAL\n",
              "    <span style=\"font-size: 0.8em; font-weight: bold; line-height: 1; border-radius: 0.35em; vertical-align: middle; margin-left: 0.5rem\">CHARGE_NOSHOW</span>\n",
              "</mark>\n",
              " TICKET. FOR CANCELLATION AFTER DEPARTURE THE REFUND WILL BE THE DIFFERENCE BETWEEN FARE PAID AND FARE FOR JOURNEY TRAVELLED. ----- FOR TRAVEL AGENCY BOOKINGS MADE IN MEXICO / THE CARIBBEAN / CENTRAL AND SOUTH AMERICA - AA WILL ASSESS A USD 50.00 FEE ON ANY UNTICKETED RESERVATION NOT CANCELLED BEFORE DEPARTURE. CHANGES ANY TIME CHANGES PERMITTED FOR NO-SHOW/REISSUE/REVALIDATION. NOTE - TEXT BELOW NOT VALIDATED FOR AUTOPRICING. A CHANGE IS A ROUTING / OR DATE / OR FLIGHT MODIFICATION. CHANGE IS PERMITTED WITHIN TICKET VALIDITY OF ORIGINAL TICKET. TICKETS MUST BE REISSUED FOR ALL VOLUNTARY CHANGES. -------------------------------------------------- WHERE THIS FARE IS COMBINED WITH ANOTHER FARE THE PENALTY CONDITIONS OF THE CHANGED FARE COMPONENT WILL APPLY. -------------------------------------------------- CALCULATION OF REISSUES //CHANGES BEFORE OUTBOUND DEPARTURE// WHEN THE FIRST FARE COMPONENT IS CHANGED THE ITINERARY MUST BE REPRICED USING CURRENT FARES IN EFFECT ON THE DATE THE TICKET IS REISSUED. ----- WHEN THERE ARE NO CHANGES TO THE FIRST FARE COMPONENT BUT OTHER FARE COMPONENTS ARE CHANGED THE ITINERARY MUST BE REPRICED USING HISTORICAL FARES IN EFFECT ON THE PREVIOUS TICKETING DATE OR CURRENT FARES IN EFFECT ON THE DATE OF TICKET REISSUE WHICHEVER IS LOWER. -------------------------------------------------- //CHANGES AFTER DEPARTURE// THE ITINERARY MUST BE REPRICED USING HISTORICAL FARES IN EFFECT ON THE PREVIOUS TICKETING DATE. ----- WHEN THE NEW ITINERARY RESULTS IN A HIGHER FARE THE DIFFERENCE WILL BE COLLECTED. ----- WHEN THE NEW ITINERARY RESULTS IN A LOWER FARE A REFUND OF THE RESIDUAL AMOUNT LESS THE APPLICABLE PENALTY WILL BE MADE. ----- REISSUES/EXCHANGES NOT ALLOWED TO EOU/ERU FARE TYPES.</br></div></span>"
            ]
          },
          "metadata": {}
        }
      ]
    },
    {
      "cell_type": "markdown",
      "source": [
        "## Ticket 10"
      ],
      "metadata": {
        "id": "lFckMrWbk-IY"
      }
    },
    {
      "cell_type": "code",
      "source": [
        "text = \"\"\"\n",
        "CHANGES ANY TIME CHANGES NOT PERMITTED IN CASE OF REISSUE/ REVALIDATION. ANY TIME CHANGES NOT PERMITTED IN CASE OF NO-SHOW. NOTE - TEXT BELOW NOT VALIDATED FOR AUTOPRICING. PENALTIES FOR TICKET CHANGES MUST BE COLLECTED WITHIN THE TICKET USING THE TAX CODE OD. THE NON-USE OF OD TAX CODE WILL BE PENALIZED WITH 5.00USD PLUS THE ADMINISTRATIVE FEE ASSOCIATED TO THE ADM. EXCEPT TICKETS REISSUED IN USA CANADA ARGENTINA OR PARAGUAY. // REISSUE MUST BE COMPLETED BEFORE DEPARTURE TIME OF THE ORIGINAL FLIGHT -OTHERWISE IT WILL BE CONSIDERED NO-SHOW AND SUCH PENALTY/RESTRICTION WILL APPLY. -CHANGES TO UNUSED TICKET- 1.WHEN THE FIRST FLIGHT COUPON IS CHANGED THE ITINERARY MUST BE RE-PRICED USING CURRENT FARES IN EFFECT ON THE DATE THE TICKET IS REISSUED THE ITINERARY MUST MEET ALL RULE PROVISIONS OF THE NEWLY TICKETED FARE. 2.WHEN THERE ARE NO CHANGES TO THE FIRST FLIGHT COUPON BUT OTHER FARE COMPONENTS ARE CHANGED THE ITINERARY MUST BE RE-PRICED USING HISTORICAL FARES IN EFFECT ON THE PREVIOUS TICKETING DATE. THE NEW ITINERARY MUST MEET ALL THE PROVISIONS OF THE NEWLY TICKETED FARES // WHEN MORE THAN ONE FARE COMPONENT IS CHANGED THE HIGHEST PENALTY/RESTRICTIVE CONDITION OF ANY OF THE CHANGED FARE COMPONENTS WILL APPLY. // CHANGES TO NON REFUNDABLE FARE COMPONENTS SHOULD BE DONE TO AN EQUAL OR A HIGHER FARE COMPONENT. // THE CHANGE FEE AND ANY DIFFERENCE IN FARE MUST BE COLLECTED AT THE TIME OF CHANGE/REISSUE AND APPLIES PER TRANSACTION-PER PASSENGER. CHILD/INFANT DISCOUNTS APPLY. // -CHANGES TO PARTIALY USED TICKETS- THE ITINERARY MUST BE RE-PRICED USING HISTORICAL FARES IN EFFECT ON THE PREVIOUS TICKETING DATE. THE NEW ITINERARY MUST MEET ALL RULE PROVISIONS OF THE NEWLY TICKETED FARE. THE RECALCULATED FARE MUST BE THE FARE THAT COULD HAVE BEEN USED IF PURCHASED ON THE ORIGINAL TICKETING DATE. // WHEN MORE THAN ONE FARE COMPONENT IS CHANGED THE HIGHEST PENALTY/RESTRICTIVE CONDITION OF ANY OF THE CHANGED FARE COMPONENTS WILL APPLY. // CHANGES TO NON REFUNDABLE FARE COMPONENTS SHOULD BE DONE TO AN EQUAL OR A HIGHER FARE COMPONENT. // THE CHANGE FEE AND ANY DIFFERENCE IN FARE MUST BE COLLECTED AT THE TIME OF CHANGE/REISSUE AND APPLIES PER TRANSACTION-PER PASSENGER. CHILD/ INFANT DISCOUNTS APPLY. // TICKET VALIDITY FOR WHOLLY UNUSED TICKETS IS ONE YEAR FROM TICKET ISSUE DATE. PARTIALLY USED TICKETS ARE VALID PROVIDED TRAVEL IS COMPLETED WITHIN ONE YEAR OR MAXIMUN STAY - WHICHEVER IS EARLIER- FROM THE OUTBOUND TRAVEL OF THE ORIGINAL TICKET. CANCELLATIONS ANY TIME TICKET IS NON-REFUNDABLE. NOTE - TEXT BELOW NOT VALIDATED FOR AUTOPRICING. // REFUND RULES APPLY PER FARE COMPONENT. WHEN COMBINING REFUNDABLE FARES WITH NON REFUNDABLE FARES PROVISIONS WILL APPLY AS FOLLOWS - THE AMOUNT PAID ON THE REFUNDABLE FARE COMPONENT WILL BE REFUNDED UPON PAYMENT OF THE PENALTY AMOUNT IF APPLICABLE. - THE AMOUNT PAID ON THE NON REFUNDABLE FARE COMPONENT WILL NOT BE REFUNDED. - WHEN COMBINING FARES CHARGE THE SUM OF THE CANCELLATION FEES OF ALL CANCELLED FARE COMPONENTS.\n",
        "\"\"\""
      ],
      "metadata": {
        "id": "SSL77JwWk-IZ"
      },
      "execution_count": 28,
      "outputs": []
    },
    {
      "cell_type": "code",
      "source": [
        "doc = nlp_ner(text)\n",
        "\n",
        "colors = {\n",
        "    \"CANCELLATION_TIME\": \"#F67DE3\",\n",
        "    \"CHARGE_CANCEL\": \"#7DF6D9\",\n",
        "    \"CHARGE_NOSHOW\": \"#FFFFFF\",\n",
        "}\n",
        "options = {\"colors\": colors} \n",
        "\n",
        "spacy.displacy.render(doc, style=\"ent\", options= options, jupyter=True)\n"
      ],
      "metadata": {
        "colab": {
          "base_uri": "https://localhost:8080/",
          "height": 647
        },
        "outputId": "597c7792-d9be-48cd-a866-f480c75726e8",
        "id": "41Cr0KRWk-Ia"
      },
      "execution_count": 29,
      "outputs": [
        {
          "output_type": "display_data",
          "data": {
            "text/plain": [
              "<IPython.core.display.HTML object>"
            ],
            "text/html": [
              "<span class=\"tex2jax_ignore\"><div class=\"entities\" style=\"line-height: 2.5; direction: ltr\"></br>CHANGES ANY TIME CHANGES NOT PERMITTED IN CASE OF REISSUE/ REVALIDATION. ANY TIME CHANGES NOT PERMITTED IN CASE OF NO-SHOW. NOTE - TEXT BELOW NOT VALIDATED FOR AUTOPRICING. PENALTIES FOR TICKET CHANGES MUST BE COLLECTED WITHIN THE TICKET USING THE TAX CODE OD. THE NON-USE OF OD TAX CODE WILL BE PENALIZED WITH 5.00USD PLUS THE ADMINISTRATIVE FEE ASSOCIATED TO THE ADM. EXCEPT TICKETS REISSUED IN USA CANADA ARGENTINA OR PARAGUAY. // REISSUE MUST BE COMPLETED BEFORE DEPARTURE TIME OF THE ORIGINAL FLIGHT -OTHERWISE IT WILL BE CONSIDERED NO-SHOW AND SUCH PENALTY/RESTRICTION WILL APPLY. -CHANGES TO UNUSED TICKET- 1.WHEN THE FIRST FLIGHT COUPON IS CHANGED THE ITINERARY MUST BE RE-PRICED USING CURRENT FARES IN EFFECT ON THE DATE THE TICKET IS REISSUED THE ITINERARY MUST MEET ALL RULE PROVISIONS OF THE NEWLY TICKETED FARE. 2.WHEN THERE ARE NO CHANGES TO THE FIRST FLIGHT COUPON BUT OTHER FARE COMPONENTS ARE CHANGED THE ITINERARY MUST BE RE-PRICED USING HISTORICAL FARES IN EFFECT ON THE PREVIOUS TICKETING DATE. THE NEW ITINERARY MUST MEET ALL THE PROVISIONS OF THE NEWLY TICKETED FARES // WHEN MORE THAN ONE FARE COMPONENT IS CHANGED THE HIGHEST PENALTY/RESTRICTIVE CONDITION OF ANY OF THE CHANGED FARE COMPONENTS WILL APPLY. // CHANGES TO NON REFUNDABLE FARE COMPONENTS SHOULD BE DONE TO AN EQUAL OR A HIGHER FARE COMPONENT. // THE CHANGE FEE AND ANY DIFFERENCE IN FARE MUST BE COLLECTED AT THE TIME OF CHANGE/REISSUE AND APPLIES PER TRANSACTION-PER PASSENGER. CHILD/INFANT DISCOUNTS APPLY. // -CHANGES TO PARTIALY USED TICKETS- THE ITINERARY MUST BE RE-PRICED USING HISTORICAL FARES IN EFFECT ON THE PREVIOUS TICKETING DATE. THE NEW ITINERARY MUST MEET ALL RULE PROVISIONS OF THE NEWLY TICKETED FARE. THE RECALCULATED FARE MUST BE THE FARE THAT COULD HAVE BEEN USED IF PURCHASED ON THE ORIGINAL TICKETING DATE. // WHEN MORE THAN ONE FARE COMPONENT IS CHANGED THE HIGHEST PENALTY/RESTRICTIVE CONDITION OF ANY OF THE CHANGED FARE COMPONENTS WILL APPLY. // CHANGES TO NON REFUNDABLE FARE COMPONENTS SHOULD BE DONE TO AN EQUAL OR A HIGHER FARE COMPONENT. // THE CHANGE FEE AND ANY DIFFERENCE IN FARE MUST BE COLLECTED AT THE TIME OF CHANGE/REISSUE AND APPLIES PER TRANSACTION-PER PASSENGER. CHILD/ INFANT DISCOUNTS APPLY. // TICKET VALIDITY FOR WHOLLY UNUSED TICKETS IS ONE YEAR FROM TICKET ISSUE DATE. PARTIALLY USED TICKETS ARE VALID PROVIDED TRAVEL IS COMPLETED WITHIN ONE YEAR OR MAXIMUN STAY - WHICHEVER IS EARLIER- FROM THE OUTBOUND TRAVEL OF THE ORIGINAL TICKET. CANCELLATIONS ANY TIME TICKET IS NON-REFUNDABLE. NOTE - TEXT BELOW NOT VALIDATED FOR AUTOPRICING. // REFUND RULES APPLY PER FARE COMPONENT. WHEN COMBINING REFUNDABLE FARES WITH NON REFUNDABLE FARES PROVISIONS WILL APPLY AS FOLLOWS - THE AMOUNT PAID ON THE REFUNDABLE FARE COMPONENT WILL BE REFUNDED UPON PAYMENT OF THE PENALTY AMOUNT IF APPLICABLE. - THE AMOUNT PAID ON THE NON REFUNDABLE FARE COMPONENT WILL NOT BE REFUNDED. - WHEN COMBINING FARES CHARGE THE SUM OF THE CANCELLATION FEES OF ALL CANCELLED FARE COMPONENTS.</br></div></span>"
            ]
          },
          "metadata": {}
        }
      ]
    }
  ]
}