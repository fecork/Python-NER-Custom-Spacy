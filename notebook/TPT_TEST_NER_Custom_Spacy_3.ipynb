{
  "nbformat": 4,
  "nbformat_minor": 0,
  "metadata": {
    "colab": {
      "provenance": [],
      "collapsed_sections": []
    },
    "kernelspec": {
      "name": "python3",
      "display_name": "Python 3"
    },
    "language_info": {
      "name": "python"
    },
    "accelerator": "GPU",
    "gpuClass": "standard"
  },
  "cells": [
    {
      "cell_type": "markdown",
      "source": [
        "# TEST NER Custom con Spacy"
      ],
      "metadata": {
        "id": "DLUo7B0r4jWs"
      }
    },
    {
      "cell_type": "markdown",
      "source": [
        "Instalamos librerías necesarias"
      ],
      "metadata": {
        "id": "fyk0UX7e4iwZ"
      }
    },
    {
      "cell_type": "code",
      "execution_count": 39,
      "metadata": {
        "colab": {
          "base_uri": "https://localhost:8080/",
          "height": 1000
        },
        "id": "SCqZHSgupnFt",
        "outputId": "874a995a-2c67-467d-acfd-9d6da49ff344"
      },
      "outputs": [
        {
          "output_type": "stream",
          "name": "stdout",
          "text": [
            "Looking in indexes: https://pypi.org/simple, https://us-python.pkg.dev/colab-wheels/public/simple/\n",
            "Requirement already satisfied: pip in /usr/local/lib/python3.7/dist-packages (21.1.3)\n",
            "Collecting pip\n",
            "  Downloading pip-22.2.2-py3-none-any.whl (2.0 MB)\n",
            "\u001b[K     |████████████████████████████████| 2.0 MB 9.0 MB/s \n",
            "\u001b[?25hRequirement already satisfied: setuptools in /usr/local/lib/python3.7/dist-packages (57.4.0)\n",
            "Collecting setuptools\n",
            "  Downloading setuptools-65.3.0-py3-none-any.whl (1.2 MB)\n",
            "\u001b[K     |████████████████████████████████| 1.2 MB 61.4 MB/s \n",
            "\u001b[?25hRequirement already satisfied: wheel in /usr/local/lib/python3.7/dist-packages (0.37.1)\n",
            "Installing collected packages: setuptools, pip\n",
            "  Attempting uninstall: setuptools\n",
            "    Found existing installation: setuptools 57.4.0\n",
            "    Uninstalling setuptools-57.4.0:\n",
            "      Successfully uninstalled setuptools-57.4.0\n",
            "  Attempting uninstall: pip\n",
            "    Found existing installation: pip 21.1.3\n",
            "    Uninstalling pip-21.1.3:\n",
            "      Successfully uninstalled pip-21.1.3\n",
            "\u001b[31mERROR: pip's dependency resolver does not currently take into account all the packages that are installed. This behaviour is the source of the following dependency conflicts.\n",
            "ipython 7.9.0 requires jedi>=0.10, which is not installed.\n",
            "numba 0.56.2 requires setuptools<60, but you have setuptools 65.3.0 which is incompatible.\u001b[0m\n",
            "Successfully installed pip-22.2.2 setuptools-65.3.0\n"
          ]
        },
        {
          "output_type": "display_data",
          "data": {
            "application/vnd.colab-display-data+json": {
              "pip_warning": {
                "packages": [
                  "pkg_resources"
                ]
              }
            }
          },
          "metadata": {}
        },
        {
          "output_type": "stream",
          "name": "stdout",
          "text": [
            "Looking in indexes: https://pypi.org/simple, https://us-python.pkg.dev/colab-wheels/public/simple/\n",
            "Requirement already satisfied: spacy in /usr/local/lib/python3.7/dist-packages (3.4.1)\n",
            "Requirement already satisfied: spacy-loggers<2.0.0,>=1.0.0 in /usr/local/lib/python3.7/dist-packages (from spacy) (1.0.3)\n",
            "Requirement already satisfied: catalogue<2.1.0,>=2.0.6 in /usr/local/lib/python3.7/dist-packages (from spacy) (2.0.8)\n",
            "Requirement already satisfied: cymem<2.1.0,>=2.0.2 in /usr/local/lib/python3.7/dist-packages (from spacy) (2.0.6)\n",
            "Requirement already satisfied: jinja2 in /usr/local/lib/python3.7/dist-packages (from spacy) (2.11.3)\n",
            "Requirement already satisfied: typing-extensions<4.2.0,>=3.7.4 in /usr/local/lib/python3.7/dist-packages (from spacy) (4.1.1)\n",
            "Requirement already satisfied: setuptools in /usr/local/lib/python3.7/dist-packages (from spacy) (65.3.0)\n",
            "Requirement already satisfied: typer<0.5.0,>=0.3.0 in /usr/local/lib/python3.7/dist-packages (from spacy) (0.4.2)\n",
            "Requirement already satisfied: murmurhash<1.1.0,>=0.28.0 in /usr/local/lib/python3.7/dist-packages (from spacy) (1.0.8)\n",
            "Requirement already satisfied: wasabi<1.1.0,>=0.9.1 in /usr/local/lib/python3.7/dist-packages (from spacy) (0.10.1)\n",
            "Requirement already satisfied: srsly<3.0.0,>=2.4.3 in /usr/local/lib/python3.7/dist-packages (from spacy) (2.4.4)\n",
            "Requirement already satisfied: requests<3.0.0,>=2.13.0 in /usr/local/lib/python3.7/dist-packages (from spacy) (2.23.0)\n",
            "Requirement already satisfied: preshed<3.1.0,>=3.0.2 in /usr/local/lib/python3.7/dist-packages (from spacy) (3.0.7)\n",
            "Requirement already satisfied: thinc<8.2.0,>=8.1.0 in /usr/local/lib/python3.7/dist-packages (from spacy) (8.1.0)\n",
            "Requirement already satisfied: pydantic!=1.8,!=1.8.1,<1.10.0,>=1.7.4 in /usr/local/lib/python3.7/dist-packages (from spacy) (1.9.2)\n",
            "Requirement already satisfied: numpy>=1.15.0 in /usr/local/lib/python3.7/dist-packages (from spacy) (1.21.6)\n",
            "Requirement already satisfied: packaging>=20.0 in /usr/local/lib/python3.7/dist-packages (from spacy) (21.3)\n",
            "Requirement already satisfied: pathy>=0.3.5 in /usr/local/lib/python3.7/dist-packages (from spacy) (0.6.2)\n",
            "Requirement already satisfied: langcodes<4.0.0,>=3.2.0 in /usr/local/lib/python3.7/dist-packages (from spacy) (3.3.0)\n",
            "Requirement already satisfied: tqdm<5.0.0,>=4.38.0 in /usr/local/lib/python3.7/dist-packages (from spacy) (4.64.1)\n",
            "Requirement already satisfied: spacy-legacy<3.1.0,>=3.0.9 in /usr/local/lib/python3.7/dist-packages (from spacy) (3.0.10)\n",
            "Requirement already satisfied: zipp>=0.5 in /usr/local/lib/python3.7/dist-packages (from catalogue<2.1.0,>=2.0.6->spacy) (3.8.1)\n",
            "Requirement already satisfied: pyparsing!=3.0.5,>=2.0.2 in /usr/local/lib/python3.7/dist-packages (from packaging>=20.0->spacy) (3.0.9)\n",
            "Requirement already satisfied: smart-open<6.0.0,>=5.2.1 in /usr/local/lib/python3.7/dist-packages (from pathy>=0.3.5->spacy) (5.2.1)\n",
            "Requirement already satisfied: urllib3!=1.25.0,!=1.25.1,<1.26,>=1.21.1 in /usr/local/lib/python3.7/dist-packages (from requests<3.0.0,>=2.13.0->spacy) (1.24.3)\n",
            "Requirement already satisfied: certifi>=2017.4.17 in /usr/local/lib/python3.7/dist-packages (from requests<3.0.0,>=2.13.0->spacy) (2022.6.15)\n",
            "Requirement already satisfied: chardet<4,>=3.0.2 in /usr/local/lib/python3.7/dist-packages (from requests<3.0.0,>=2.13.0->spacy) (3.0.4)\n",
            "Requirement already satisfied: idna<3,>=2.5 in /usr/local/lib/python3.7/dist-packages (from requests<3.0.0,>=2.13.0->spacy) (2.10)\n",
            "Requirement already satisfied: blis<0.8.0,>=0.7.8 in /usr/local/lib/python3.7/dist-packages (from thinc<8.2.0,>=8.1.0->spacy) (0.7.8)\n",
            "Requirement already satisfied: click<9.0.0,>=7.1.1 in /usr/local/lib/python3.7/dist-packages (from typer<0.5.0,>=0.3.0->spacy) (7.1.2)\n",
            "Requirement already satisfied: MarkupSafe>=0.23 in /usr/local/lib/python3.7/dist-packages (from jinja2->spacy) (2.0.1)\n",
            "\u001b[33mWARNING: Running pip as the 'root' user can result in broken permissions and conflicting behaviour with the system package manager. It is recommended to use a virtual environment instead: https://pip.pypa.io/warnings/venv\u001b[0m\u001b[33m\n",
            "\u001b[0mLooking in indexes: https://pypi.org/simple, https://us-python.pkg.dev/colab-wheels/public/simple/\n",
            "Collecting en-core-web-sm==3.4.0\n",
            "  Downloading https://github.com/explosion/spacy-models/releases/download/en_core_web_sm-3.4.0/en_core_web_sm-3.4.0-py3-none-any.whl (12.8 MB)\n",
            "\u001b[2K     \u001b[90m━━━━━━━━━━━━━━━━━━━━━━━━━━━━━━━━━━━━━━━━\u001b[0m \u001b[32m12.8/12.8 MB\u001b[0m \u001b[31m76.3 MB/s\u001b[0m eta \u001b[36m0:00:00\u001b[0m\n",
            "\u001b[?25hRequirement already satisfied: spacy<3.5.0,>=3.4.0 in /usr/local/lib/python3.7/dist-packages (from en-core-web-sm==3.4.0) (3.4.1)\n",
            "Requirement already satisfied: spacy-loggers<2.0.0,>=1.0.0 in /usr/local/lib/python3.7/dist-packages (from spacy<3.5.0,>=3.4.0->en-core-web-sm==3.4.0) (1.0.3)\n",
            "Requirement already satisfied: catalogue<2.1.0,>=2.0.6 in /usr/local/lib/python3.7/dist-packages (from spacy<3.5.0,>=3.4.0->en-core-web-sm==3.4.0) (2.0.8)\n",
            "Requirement already satisfied: cymem<2.1.0,>=2.0.2 in /usr/local/lib/python3.7/dist-packages (from spacy<3.5.0,>=3.4.0->en-core-web-sm==3.4.0) (2.0.6)\n",
            "Requirement already satisfied: jinja2 in /usr/local/lib/python3.7/dist-packages (from spacy<3.5.0,>=3.4.0->en-core-web-sm==3.4.0) (2.11.3)\n",
            "Requirement already satisfied: pydantic!=1.8,!=1.8.1,<1.10.0,>=1.7.4 in /usr/local/lib/python3.7/dist-packages (from spacy<3.5.0,>=3.4.0->en-core-web-sm==3.4.0) (1.9.2)\n",
            "Requirement already satisfied: murmurhash<1.1.0,>=0.28.0 in /usr/local/lib/python3.7/dist-packages (from spacy<3.5.0,>=3.4.0->en-core-web-sm==3.4.0) (1.0.8)\n",
            "Requirement already satisfied: preshed<3.1.0,>=3.0.2 in /usr/local/lib/python3.7/dist-packages (from spacy<3.5.0,>=3.4.0->en-core-web-sm==3.4.0) (3.0.7)\n",
            "Requirement already satisfied: tqdm<5.0.0,>=4.38.0 in /usr/local/lib/python3.7/dist-packages (from spacy<3.5.0,>=3.4.0->en-core-web-sm==3.4.0) (4.64.1)\n",
            "Requirement already satisfied: setuptools in /usr/local/lib/python3.7/dist-packages (from spacy<3.5.0,>=3.4.0->en-core-web-sm==3.4.0) (65.3.0)\n",
            "Requirement already satisfied: thinc<8.2.0,>=8.1.0 in /usr/local/lib/python3.7/dist-packages (from spacy<3.5.0,>=3.4.0->en-core-web-sm==3.4.0) (8.1.0)\n",
            "Requirement already satisfied: typing-extensions<4.2.0,>=3.7.4 in /usr/local/lib/python3.7/dist-packages (from spacy<3.5.0,>=3.4.0->en-core-web-sm==3.4.0) (4.1.1)\n",
            "Requirement already satisfied: requests<3.0.0,>=2.13.0 in /usr/local/lib/python3.7/dist-packages (from spacy<3.5.0,>=3.4.0->en-core-web-sm==3.4.0) (2.23.0)\n",
            "Requirement already satisfied: pathy>=0.3.5 in /usr/local/lib/python3.7/dist-packages (from spacy<3.5.0,>=3.4.0->en-core-web-sm==3.4.0) (0.6.2)\n",
            "Requirement already satisfied: numpy>=1.15.0 in /usr/local/lib/python3.7/dist-packages (from spacy<3.5.0,>=3.4.0->en-core-web-sm==3.4.0) (1.21.6)\n",
            "Requirement already satisfied: packaging>=20.0 in /usr/local/lib/python3.7/dist-packages (from spacy<3.5.0,>=3.4.0->en-core-web-sm==3.4.0) (21.3)\n",
            "Requirement already satisfied: typer<0.5.0,>=0.3.0 in /usr/local/lib/python3.7/dist-packages (from spacy<3.5.0,>=3.4.0->en-core-web-sm==3.4.0) (0.4.2)\n",
            "Requirement already satisfied: srsly<3.0.0,>=2.4.3 in /usr/local/lib/python3.7/dist-packages (from spacy<3.5.0,>=3.4.0->en-core-web-sm==3.4.0) (2.4.4)\n",
            "Requirement already satisfied: wasabi<1.1.0,>=0.9.1 in /usr/local/lib/python3.7/dist-packages (from spacy<3.5.0,>=3.4.0->en-core-web-sm==3.4.0) (0.10.1)\n",
            "Requirement already satisfied: spacy-legacy<3.1.0,>=3.0.9 in /usr/local/lib/python3.7/dist-packages (from spacy<3.5.0,>=3.4.0->en-core-web-sm==3.4.0) (3.0.10)\n",
            "Requirement already satisfied: langcodes<4.0.0,>=3.2.0 in /usr/local/lib/python3.7/dist-packages (from spacy<3.5.0,>=3.4.0->en-core-web-sm==3.4.0) (3.3.0)\n",
            "Requirement already satisfied: zipp>=0.5 in /usr/local/lib/python3.7/dist-packages (from catalogue<2.1.0,>=2.0.6->spacy<3.5.0,>=3.4.0->en-core-web-sm==3.4.0) (3.8.1)\n",
            "Requirement already satisfied: pyparsing!=3.0.5,>=2.0.2 in /usr/local/lib/python3.7/dist-packages (from packaging>=20.0->spacy<3.5.0,>=3.4.0->en-core-web-sm==3.4.0) (3.0.9)\n",
            "Requirement already satisfied: smart-open<6.0.0,>=5.2.1 in /usr/local/lib/python3.7/dist-packages (from pathy>=0.3.5->spacy<3.5.0,>=3.4.0->en-core-web-sm==3.4.0) (5.2.1)\n",
            "Requirement already satisfied: chardet<4,>=3.0.2 in /usr/local/lib/python3.7/dist-packages (from requests<3.0.0,>=2.13.0->spacy<3.5.0,>=3.4.0->en-core-web-sm==3.4.0) (3.0.4)\n",
            "Requirement already satisfied: certifi>=2017.4.17 in /usr/local/lib/python3.7/dist-packages (from requests<3.0.0,>=2.13.0->spacy<3.5.0,>=3.4.0->en-core-web-sm==3.4.0) (2022.6.15)\n",
            "Requirement already satisfied: idna<3,>=2.5 in /usr/local/lib/python3.7/dist-packages (from requests<3.0.0,>=2.13.0->spacy<3.5.0,>=3.4.0->en-core-web-sm==3.4.0) (2.10)\n",
            "Requirement already satisfied: urllib3!=1.25.0,!=1.25.1,<1.26,>=1.21.1 in /usr/local/lib/python3.7/dist-packages (from requests<3.0.0,>=2.13.0->spacy<3.5.0,>=3.4.0->en-core-web-sm==3.4.0) (1.24.3)\n",
            "Requirement already satisfied: blis<0.8.0,>=0.7.8 in /usr/local/lib/python3.7/dist-packages (from thinc<8.2.0,>=8.1.0->spacy<3.5.0,>=3.4.0->en-core-web-sm==3.4.0) (0.7.8)\n",
            "Requirement already satisfied: click<9.0.0,>=7.1.1 in /usr/local/lib/python3.7/dist-packages (from typer<0.5.0,>=0.3.0->spacy<3.5.0,>=3.4.0->en-core-web-sm==3.4.0) (7.1.2)\n",
            "Requirement already satisfied: MarkupSafe>=0.23 in /usr/local/lib/python3.7/dist-packages (from jinja2->spacy<3.5.0,>=3.4.0->en-core-web-sm==3.4.0) (2.0.1)\n",
            "\u001b[33mWARNING: Running pip as the 'root' user can result in broken permissions and conflicting behaviour with the system package manager. It is recommended to use a virtual environment instead: https://pip.pypa.io/warnings/venv\u001b[0m\u001b[33m\n",
            "\u001b[0m\u001b[38;5;2m✔ Download and installation successful\u001b[0m\n",
            "You can now load the package via spacy.load('en_core_web_sm')\n",
            "Looking in indexes: https://pypi.org/simple, https://us-python.pkg.dev/colab-wheels/public/simple/\n",
            "Requirement already satisfied: spacy[transformers] in /usr/local/lib/python3.7/dist-packages (3.4.1)\n",
            "Requirement already satisfied: catalogue<2.1.0,>=2.0.6 in /usr/local/lib/python3.7/dist-packages (from spacy[transformers]) (2.0.8)\n",
            "Requirement already satisfied: typing-extensions<4.2.0,>=3.7.4 in /usr/local/lib/python3.7/dist-packages (from spacy[transformers]) (4.1.1)\n",
            "Requirement already satisfied: preshed<3.1.0,>=3.0.2 in /usr/local/lib/python3.7/dist-packages (from spacy[transformers]) (3.0.7)\n",
            "Requirement already satisfied: spacy-loggers<2.0.0,>=1.0.0 in /usr/local/lib/python3.7/dist-packages (from spacy[transformers]) (1.0.3)\n",
            "Requirement already satisfied: thinc<8.2.0,>=8.1.0 in /usr/local/lib/python3.7/dist-packages (from spacy[transformers]) (8.1.0)\n",
            "Requirement already satisfied: packaging>=20.0 in /usr/local/lib/python3.7/dist-packages (from spacy[transformers]) (21.3)\n",
            "Requirement already satisfied: requests<3.0.0,>=2.13.0 in /usr/local/lib/python3.7/dist-packages (from spacy[transformers]) (2.23.0)\n",
            "Requirement already satisfied: wasabi<1.1.0,>=0.9.1 in /usr/local/lib/python3.7/dist-packages (from spacy[transformers]) (0.10.1)\n",
            "Requirement already satisfied: spacy-legacy<3.1.0,>=3.0.9 in /usr/local/lib/python3.7/dist-packages (from spacy[transformers]) (3.0.10)\n",
            "Requirement already satisfied: murmurhash<1.1.0,>=0.28.0 in /usr/local/lib/python3.7/dist-packages (from spacy[transformers]) (1.0.8)\n",
            "Requirement already satisfied: typer<0.5.0,>=0.3.0 in /usr/local/lib/python3.7/dist-packages (from spacy[transformers]) (0.4.2)\n",
            "Requirement already satisfied: numpy>=1.15.0 in /usr/local/lib/python3.7/dist-packages (from spacy[transformers]) (1.21.6)\n",
            "Requirement already satisfied: tqdm<5.0.0,>=4.38.0 in /usr/local/lib/python3.7/dist-packages (from spacy[transformers]) (4.64.1)\n",
            "Requirement already satisfied: jinja2 in /usr/local/lib/python3.7/dist-packages (from spacy[transformers]) (2.11.3)\n",
            "Requirement already satisfied: pydantic!=1.8,!=1.8.1,<1.10.0,>=1.7.4 in /usr/local/lib/python3.7/dist-packages (from spacy[transformers]) (1.9.2)\n",
            "Requirement already satisfied: cymem<2.1.0,>=2.0.2 in /usr/local/lib/python3.7/dist-packages (from spacy[transformers]) (2.0.6)\n",
            "Requirement already satisfied: srsly<3.0.0,>=2.4.3 in /usr/local/lib/python3.7/dist-packages (from spacy[transformers]) (2.4.4)\n",
            "Requirement already satisfied: langcodes<4.0.0,>=3.2.0 in /usr/local/lib/python3.7/dist-packages (from spacy[transformers]) (3.3.0)\n",
            "Requirement already satisfied: pathy>=0.3.5 in /usr/local/lib/python3.7/dist-packages (from spacy[transformers]) (0.6.2)\n",
            "Requirement already satisfied: setuptools in /usr/local/lib/python3.7/dist-packages (from spacy[transformers]) (65.3.0)\n",
            "Requirement already satisfied: spacy-transformers<1.2.0,>=1.1.2 in /usr/local/lib/python3.7/dist-packages (from spacy[transformers]) (1.1.8)\n",
            "Requirement already satisfied: zipp>=0.5 in /usr/local/lib/python3.7/dist-packages (from catalogue<2.1.0,>=2.0.6->spacy[transformers]) (3.8.1)\n",
            "Requirement already satisfied: pyparsing!=3.0.5,>=2.0.2 in /usr/local/lib/python3.7/dist-packages (from packaging>=20.0->spacy[transformers]) (3.0.9)\n",
            "Requirement already satisfied: smart-open<6.0.0,>=5.2.1 in /usr/local/lib/python3.7/dist-packages (from pathy>=0.3.5->spacy[transformers]) (5.2.1)\n",
            "Requirement already satisfied: idna<3,>=2.5 in /usr/local/lib/python3.7/dist-packages (from requests<3.0.0,>=2.13.0->spacy[transformers]) (2.10)\n",
            "Requirement already satisfied: urllib3!=1.25.0,!=1.25.1,<1.26,>=1.21.1 in /usr/local/lib/python3.7/dist-packages (from requests<3.0.0,>=2.13.0->spacy[transformers]) (1.24.3)\n",
            "Requirement already satisfied: chardet<4,>=3.0.2 in /usr/local/lib/python3.7/dist-packages (from requests<3.0.0,>=2.13.0->spacy[transformers]) (3.0.4)\n",
            "Requirement already satisfied: certifi>=2017.4.17 in /usr/local/lib/python3.7/dist-packages (from requests<3.0.0,>=2.13.0->spacy[transformers]) (2022.6.15)\n",
            "Requirement already satisfied: spacy-alignments<1.0.0,>=0.7.2 in /usr/local/lib/python3.7/dist-packages (from spacy-transformers<1.2.0,>=1.1.2->spacy[transformers]) (0.8.5)\n",
            "Requirement already satisfied: transformers<4.22.0,>=3.4.0 in /usr/local/lib/python3.7/dist-packages (from spacy-transformers<1.2.0,>=1.1.2->spacy[transformers]) (4.21.3)\n",
            "Requirement already satisfied: torch>=1.6.0 in /usr/local/lib/python3.7/dist-packages (from spacy-transformers<1.2.0,>=1.1.2->spacy[transformers]) (1.12.1+cu113)\n",
            "Requirement already satisfied: blis<0.8.0,>=0.7.8 in /usr/local/lib/python3.7/dist-packages (from thinc<8.2.0,>=8.1.0->spacy[transformers]) (0.7.8)\n",
            "Requirement already satisfied: click<9.0.0,>=7.1.1 in /usr/local/lib/python3.7/dist-packages (from typer<0.5.0,>=0.3.0->spacy[transformers]) (7.1.2)\n",
            "Requirement already satisfied: MarkupSafe>=0.23 in /usr/local/lib/python3.7/dist-packages (from jinja2->spacy[transformers]) (2.0.1)\n",
            "Requirement already satisfied: tokenizers!=0.11.3,<0.13,>=0.11.1 in /usr/local/lib/python3.7/dist-packages (from transformers<4.22.0,>=3.4.0->spacy-transformers<1.2.0,>=1.1.2->spacy[transformers]) (0.12.1)\n",
            "Requirement already satisfied: huggingface-hub<1.0,>=0.1.0 in /usr/local/lib/python3.7/dist-packages (from transformers<4.22.0,>=3.4.0->spacy-transformers<1.2.0,>=1.1.2->spacy[transformers]) (0.9.1)\n",
            "Requirement already satisfied: filelock in /usr/local/lib/python3.7/dist-packages (from transformers<4.22.0,>=3.4.0->spacy-transformers<1.2.0,>=1.1.2->spacy[transformers]) (3.8.0)\n",
            "Requirement already satisfied: regex!=2019.12.17 in /usr/local/lib/python3.7/dist-packages (from transformers<4.22.0,>=3.4.0->spacy-transformers<1.2.0,>=1.1.2->spacy[transformers]) (2022.6.2)\n",
            "Requirement already satisfied: pyyaml>=5.1 in /usr/local/lib/python3.7/dist-packages (from transformers<4.22.0,>=3.4.0->spacy-transformers<1.2.0,>=1.1.2->spacy[transformers]) (6.0)\n",
            "Requirement already satisfied: importlib-metadata in /usr/local/lib/python3.7/dist-packages (from transformers<4.22.0,>=3.4.0->spacy-transformers<1.2.0,>=1.1.2->spacy[transformers]) (4.12.0)\n",
            "\u001b[33mWARNING: Running pip as the 'root' user can result in broken permissions and conflicting behaviour with the system package manager. It is recommended to use a virtual environment instead: https://pip.pypa.io/warnings/venv\u001b[0m\u001b[33m\n",
            "\u001b[0m"
          ]
        }
      ],
      "source": [
        "!pip install -U pip setuptools wheel\n",
        "!pip install -U spacy\n",
        "!python -m spacy download en_core_web_sm\n",
        "!pip install spacy[transformers]"
      ]
    },
    {
      "cell_type": "markdown",
      "source": [
        "cargamos los datos de entrenamiento"
      ],
      "metadata": {
        "id": "by0GRkcF4td4"
      }
    },
    {
      "cell_type": "code",
      "source": [
        "import json\n",
        " \n",
        "with open('/content/data.json', 'r') as f:\n",
        "    data = json.load(f)\n",
        "    \n",
        "print(data['annotations'][0])"
      ],
      "metadata": {
        "id": "mYdoMcPfZVzG",
        "colab": {
          "base_uri": "https://localhost:8080/"
        },
        "outputId": "f8a359a0-b76f-4336-ff01-b6682cad530a"
      },
      "execution_count": 20,
      "outputs": [
        {
          "output_type": "stream",
          "name": "stdout",
          "text": [
            "['CANCELLATIONS\\r\\nANY TIME\\r\\nCHARGE USD 300.00 FOR CANCEL.\\r\\nNOTE  TEXT BELOW NOT VALIDATED FOR AUTOPRICING.\\r\\n\\r\\nFOR ALL JOURNEYS BEFORE AFTER FIRST FLIGHT\\r\\nDEPARTURE  USD300\\r\\n\\r\\nAPPLICABLE FEES ARE TO BE CONVERTED INTO\\r\\nLOCAL CURRENCY AT THE BANKERS SELLING RATE.\\r\\n\\r\\nFEES ARE NOT APPLICABLE FOR INFANT WITHOUT A SEAT\\r\\n\\r\\nIN CASE OF TICKET UPGRADE THE ORIGINAL\\r\\nNONREFUNDABLE AMOUNT REMAINS NONREFUNDABLE.\\r\\n\\r\\nYR IS NONREFUNDABLE FOR ALL FARES.\\r\\n\\r\\nIN CASES OF NOSHOW CHARGE NO SHOW FEE OF USD300\\r\\nAND CANCELLATION FEE OF USD300 FOR CANCEL.\\r\\n\\r\\nFOR ANY CANCELLATIONS THE STRICTER FARE\\r\\nCONDITIONS WILL APPLY TO THE ENTIRE JOURNEY.\\r\\n\\r\\n\\r\\n\\r\\n', {'entities': [[0, 23, 'CANCELLATION_TIME'], [25, 54, 'CHARGE_CANCEL'], [458, 486, 'CHARGE_NOSHOW']]}]\n"
          ]
        }
      ]
    },
    {
      "cell_type": "markdown",
      "source": [
        "organizamos los datos para que sean input del modelo"
      ],
      "metadata": {
        "id": "u6gKzON94zK1"
      }
    },
    {
      "cell_type": "code",
      "source": [
        "\n",
        "dict_temp = {}\n",
        "training_data = []\n",
        "for line in data[\"annotations\"]:\n",
        "    dict_temp[\"text\"] = line[0]\n",
        "    dict_temp[\"entities\"]= line[1][\"entities\"]\n",
        "    training_data.append(dict_temp)\n",
        "    dict_temp={}\n",
        "\n",
        "\n",
        "print(training_data)"
      ],
      "metadata": {
        "colab": {
          "base_uri": "https://localhost:8080/"
        },
        "id": "2aF0lPfZZwtb",
        "outputId": "b5167bc3-ab1e-4888-e66d-04d34ccaa716"
      },
      "execution_count": 21,
      "outputs": [
        {
          "output_type": "stream",
          "name": "stdout",
          "text": [
            "[{'text': 'CANCELLATIONS\\r\\nANY TIME\\r\\nCHARGE USD 300.00 FOR CANCEL.\\r\\nNOTE  TEXT BELOW NOT VALIDATED FOR AUTOPRICING.\\r\\n\\r\\nFOR ALL JOURNEYS BEFORE AFTER FIRST FLIGHT\\r\\nDEPARTURE  USD300\\r\\n\\r\\nAPPLICABLE FEES ARE TO BE CONVERTED INTO\\r\\nLOCAL CURRENCY AT THE BANKERS SELLING RATE.\\r\\n\\r\\nFEES ARE NOT APPLICABLE FOR INFANT WITHOUT A SEAT\\r\\n\\r\\nIN CASE OF TICKET UPGRADE THE ORIGINAL\\r\\nNONREFUNDABLE AMOUNT REMAINS NONREFUNDABLE.\\r\\n\\r\\nYR IS NONREFUNDABLE FOR ALL FARES.\\r\\n\\r\\nIN CASES OF NOSHOW CHARGE NO SHOW FEE OF USD300\\r\\nAND CANCELLATION FEE OF USD300 FOR CANCEL.\\r\\n\\r\\nFOR ANY CANCELLATIONS THE STRICTER FARE\\r\\nCONDITIONS WILL APPLY TO THE ENTIRE JOURNEY.\\r\\n\\r\\n\\r\\n\\r\\n', 'entities': [[0, 23, 'CANCELLATION_TIME'], [25, 54, 'CHARGE_CANCEL'], [458, 486, 'CHARGE_NOSHOW']]}, {'text': '\\r\\nCANCELLATIONS\\r\\nANY TIME\\r\\nCHARGE USD 200.00 FOR CANCEL.\\r\\nNOTE  TEXT BELOW NOT VALIDATED FOR AUTOPRICING.\\r\\n\\r\\nFOR ALL JOURNEYS BEFORE or AFTER FIRST FLIGHT\\r\\nDEPARTURE  USD200\\r\\n\\r\\nAPPLICABLE FEES ARE TO BE CONVERTED INTO\\r\\nLOCAL CURRENCY AT THE BANKERS SELLING RATE.\\r\\n\\r\\nFEES ARE NOT APPLICABLE FOR INFANT WITHOUT A SEAT\\r\\n\\r\\nIN CASE OF TICKET UPGRADE THE ORIGINAL\\r\\nNONREFUNDABLE AMOUNT REMAINS NONREFUNDABLE.\\r\\n\\r\\nYR IS NONREFUNDABLE FOR ALL FARES.\\r\\n\\r\\nIN CASES OF NOSHOW CHARGE NO SHOW FEE OF USD100\\r\\nAND CANCELLATION FEE OF USD200 FOR CANCEL.\\r\\n\\r\\nFOR ANY CANCELLATIONS THE STRICTER FARE\\r\\nCONDITIONS WILL APPLY TO THE ENTIRE JOURNEY.\\r\\n', 'entities': [[2, 25, 'CANCELLATION_TIME'], [27, 56, 'CHARGE_CANCEL'], [463, 491, 'CHARGE_NOSHOW']]}, {'text': '\\r\\nCANCELLATIONS\\r\\nANY TIME\\r\\nCHARGE USD 200.00 FOR CANCEL.\\r\\nNOTE  TEXT BELOW NOT VALIDATED FOR AUTOPRICING.\\r\\n\\r\\nFOR ALL JOURNEYS BEFORE or AFTER FIRST FLIGHT\\r\\nDEPARTURE  USD200\\r\\n\\r\\nAPPLICABLE FEES ARE TO BE CONVERTED INTO\\r\\nLOCAL CURRENCY AT THE BANKERS SELLING RATE.\\r\\n\\r\\nFEES ARE NOT APPLICABLE FOR INFANT WITHOUT A SEAT\\r\\n\\r\\nIN CASE OF TICKET UPGRADE THE ORIGINAL\\r\\nNONREFUNDABLE AMOUNT REMAINS NONREFUNDABLE.\\r\\n\\r\\nYR IS NONREFUNDABLE FOR ALL FARES.\\r\\n\\r\\nIN CASES OF NOSHOW CHARGE NO SHOW FEE OF USD100\\r\\nAND CANCELLATION FEE OF USD200 FOR CANCEL.\\r\\n\\r\\nFOR ANY CANCELLATIONS THE STRICTER FARE\\r\\nCONDITIONS WILL APPLY TO THE ENTIRE JOURNEY.\\r\\n', 'entities': [[2, 25, 'CANCELLATION_TIME'], [27, 56, 'CHARGE_CANCEL'], [463, 491, 'CHARGE_NOSHOW']]}, {'text': '\\r\\nCANCELLATIONS\\r\\nTICKET IS NONREFUNDABLE IN CASE OF NOSHOW.\\r\\nBEFORE DEPARTURE\\r\\nTICKET IS NONREFUNDABLE IN CASE OF CANCEL or REFUND.\\r\\nAFTER DEPARTURE\\r\\nTICKET IS NONREFUNDABLE IN CASE OF CANCEL or REFUND.\\r\\n', 'entities': []}, {'text': '\\r\\nCANCELLATIONS\\r\\nANY TIME\\r\\nTICKET IS NONREFUNDABLE.\\r\\nWAIVED FOR DEATH OF PASSENGER OR FAMILY MEMBER.\\r\\nNOTE  TEXT BELOW NOT VALIDATED FOR AUTOPRICING.\\r\\nNOTA 1 or  or THE NONREFUNDABLE AMOUNT MAY BE USED AS\\r\\nCREDIT TOWARDS PAYMENT OF A HIGHER APPLICABLE\\r\\nFARE.\\r\\nNOTA 2 or  or REEMBOLSO POR CAUSAS NO IMPUTABLES A LA\\r\\nCOMPANIA\\r\\nDECESO DE PASAJERO  or  or VER MANUAL COMERCIAL 13.8\\r\\nDECESO DE FLIAR DIRECTO DE UN PASAJERO or  or SE\\r\\nCONTEMPLA EN CASO DE PRODUCIRSE DENTRO DE LAS\\r\\n48HS DE LA FECHA DE VUELO Y CON PRESENTACION\\r\\nDE DOCUMENTACION PROBATORIA DEL VINCULO.\\r\\n\\r\\nCancellations are not refundable, but may be used as a credit towards payment of a higher applicable fare. Waived for death of passenger or family member.\\r\\n', 'entities': [[2, 25, 'CANCELLATION_TIME']]}, {'text': '\\r\\nCANCELLATIONS\\r\\nANY TIME\\r\\nTICKET IS NONREFUNDABLE.\\r\\nWAIVED FOR DEATH OF PASSENGER OR FAMILY MEMBER.\\r\\nNOTE  TEXT BELOW NOT VALIDATED FOR AUTOPRICING.\\r\\nNOTA 1 or  or THE NONREFUNDABLE AMOUNT MAY BE USED AS\\r\\nCREDIT TOWARDS PAYMENT OF A HIGHER APPLICABLE\\r\\nFARE.\\r\\nNOTA 2 or  or REEMBOLSO POR CAUSAS NO IMPUTABLES A LA\\r\\nCOMPANIA\\r\\nDECESO DE PASAJERO  or  or VER MANUAL COMERCIAL 13.8\\r\\nDECESO DE FLIAR DIRECTO DE UN PASAJERO or  or SE\\r\\nCONTEMPLA EN CASO DE PRODUCIRSE DENTRO DE LAS\\r\\n48HS DE LA FECHA DE VUELO Y CON PRESENTACION\\r\\nDE DOCUMENTACION PROBATORIA DEL VINCULO.\\r\\n\\r\\nCancellations are not refundable, but may be used as a credit towards payment of a higher applicable fare. Waived for death of passenger or family member.\\r\\n', 'entities': [[2, 25, 'CANCELLATION_TIME']]}, {'text': '\\r\\nCANCELLATIONS\\r\\nANY TIME\\r\\nCANCELLATIONS PERMITTED FOR CANCEL REFUND.\\r\\nWAIVED FOR DEATH OF PASSENGER OR FAMILY MEMBER.\\r\\nNOTE  TEXT BELOW NOT VALIDATED FOR AUTOPRICING.\\r\\nNOTA 1  THE NONREFUNDABLE AMOUNT MAY BE USED AS\\r\\nCREDIT TOWARDS PAYMENT OF A HIGHER APPLICABLE\\r\\nFARE.\\r\\nNOTA 2  REEMBOLSO POR CAUSAS NO IMPUTABLES A LA\\r\\nCOMPANIA\\r\\nDECESO DE PASAJERO   VER MANUAL COMERCIAL 13.8\\r\\nDECESO DE FLIAR DIRECTO DE UN PASAJERO  SE\\r\\nCONTEMPLA EN CASO DE PRODUCIRSE DENTRO DE LOS\\r\\n30DIAS DE LA FECHA DE VUELO Y CON PRESENTACION\\r\\nDE DOCUMENTACION PROBATORIA DEL VINCULO.\\r\\nANY TIME\\r\\nCANCELLATIONS PERMITTED FOR NOSHOW.\\r\\n\\r\\n', 'entities': [[2, 25, 'CANCELLATION_TIME'], [560, 583, 'CANCELLATION_TIME']]}, {'text': '\\r\\nCANCELLATIONS\\r\\nCANCELLATIONS ANY TIME CANCELLATIONS PERMITTED FOR CANCEL or REFUND. WAIVED FOR DEATH OF PASSENGER OR FAMILY MEMBER. NOTE  TEXT BELOW NOT VALIDATED FOR AUTOPRICING. NOTA 1 or  or THE NONREFUNDABLE AMOUNT MAY BE USED AS CREDIT TOWARDS PAYMENT OF A HIGHER APPLICABLE FARE. NOTA 2 or  or REEMBOLSO POR CAUSAS NO IMPUTABLES A LA COMPANIA DECESO DE PASAJERO  or  or VER MANUAL COMERCIAL 13.8 DECESO DE FLIAR DIRECTO DE UN PASAJERO or  or SE CONTEMPLA EN CASO DE PRODUCIRSE DENTRO DE LOS 30DIAS DE LA FECHA DE VUELO Y CON PRESENTACION DE DOCUMENTACION PROBATORIA DEL VINCULO. ANY TIME CANCELLATIONS PERMITTED FOR NOSHOW.\\r\\n', 'entities': [[31, 53, 'CANCELLATION_TIME']]}, {'text': '\\r\\nCANCELLATIONS\\r\\nCANCELLATIONS ANY TIME CANCELLATIONS PERMITTED FOR CANCEL or REFUND. WAIVED FOR DEATH OF PASSENGER OR FAMILY MEMBER. NOTE  TEXT BELOW NOT VALIDATED FOR AUTOPRICING. NOTA 1 or  or THE NONREFUNDABLE AMOUNT MAY BE USED AS CREDIT TOWARDS PAYMENT OF A HIGHER APPLICABLE FARE. NOTA 2 or  or REEMBOLSO POR CAUSAS NO IMPUTABLES A LA COMPANIA DECESO DE PASAJERO  or  or VER MANUAL COMERCIAL 13.8 DECESO DE FLIAR DIRECTO DE UN PASAJERO or  or SE CONTEMPLA EN CASO DE PRODUCIRSE DENTRO DE LOS 30DIAS DE LA FECHA DE VUELO Y CON PRESENTACION DE DOCUMENTACION PROBATORIA DEL VINCULO. ANY TIME CANCELLATIONS PERMITTED FOR NOSHOW.\\r\\n', 'entities': [[17, 53, 'CANCELLATION_TIME']]}, {'text': '\\r\\nCANCELLATIONS\\r\\nANY TIME\\r\\nTICKET IS NONREFUNDABLE.\\r\\nNOTE  TEXT BELOW NOT VALIDATED FOR AUTOPRICING.\\r\\n  \\r\\nREFUND RULES APPLY PER FARE COMPONENT.\\r\\nWHEN COMBINING REFUNDABLE FARES WITH NON\\r\\nREFUNDABLE FARES PROVISIONS WILL APPLY AS FOLLOWS\\r\\n THE AMOUNT PAID ON THE REFUNDABLE FARE\\r\\nCOMPONENT WILL BE REFUNDED UPON PAYMENT OF THE\\r\\nPENALTY AMOUNT IF APPLICABLE.\\r\\n THE AMOUNT PAID ON THE NON REFUNDABLE FARE\\r\\nCOMPONENT WILL NOT BE REFUNDED.\\r\\n WHEN COMBINING FARES CHARGE THE SUM OF THE\\r\\nCANCELLATION FEES OF ALL CANCELLED FARE\\r\\nCOMPONENTS.\\r\\n  \\r\\n\\r\\n', 'entities': [[2, 25, 'CANCELLATION_TIME']]}, {'text': '\\r\\nCANCELLATIONS\\r\\nCANCELLATIONS ANY TIME CHARGE USD 300.00 FOR CANCEL. NOTE  TEXT BELOW NOT VALIDATED FOR AUTOPRICING.  FOR ALL JOURNEYS BEFORE or AFTER FIRST FLIGHT DEPARTURE  USD300  APPLICABLE FEES ARE TO BE CONVERTED INTO LOCAL CURRENCY AT THE BANKERS SELLING RATE.  FEES ARE NOT APPLICABLE FOR INFANT WITHOUT A SEAT  IN CASE OF TICKET UPGRADE THE ORIGINAL NONREFUNDABLE AMOUNT REMAINS NONREFUNDABLE.  YR IS NONREFUNDABLE FOR ALL FARES.  IN CASES OF NOSHOW CHARGE NO SHOW FEE OF USD300 AND CANCELLATION FEE OF USD300 FOR CANCEL.  FOR ANY CANCELLATIONS THE STRICTER FARE CONDITIONS WILL APPLY TO THE ENTIRE JOURNEY.\\r\\n', 'entities': [[17, 39, 'CANCELLATION_TIME'], [40, 69, 'CHARGE_CANCEL'], [460, 488, 'CHARGE_NOSHOW']]}, {'text': '\\r\\nCANCELLATIONS\\r\\nCANCELLATIONS ANY TIME CHARGE USD 300.00 FOR CANCEL. NOTE  TEXT BELOW NOT VALIDATED FOR AUTOPRICING.  FOR ALL JOURNEYS BEFORE or AFTER FIRST FLIGHT DEPARTURE  USD300  APPLICABLE FEES ARE TO BE CONVERTED INTO LOCAL CURRENCY AT THE BANKERS SELLING RATE.  FEES ARE NOT APPLICABLE FOR INFANT WITHOUT A SEAT  IN CASE OF TICKET UPGRADE THE ORIGINAL NONREFUNDABLE AMOUNT REMAINS NONREFUNDABLE.  YR IS NONREFUNDABLE FOR ALL FARES.  IN CASES OF NOSHOW CHARGE NO SHOW FEE OF USD300 AND CANCELLATION FEE OF USD300 FOR CANCEL.  FOR ANY CANCELLATIONS THE STRICTER FARE CONDITIONS WILL APPLY TO THE ENTIRE JOURNEY.\\r\\n', 'entities': [[17, 39, 'CANCELLATION_TIME'], [40, 69, 'CHARGE_CANCEL'], [460, 488, 'CHARGE_NOSHOW'], [513, 531, 'CHARGE_CANCEL']]}, {'text': '\\r\\nCANCELLATIONS\\r\\nBEFORE DEPARTURE\\r\\nCHARGE 70 PERCENT FOR REFUND.\\r\\nBEFORE DEPARTURE\\r\\nTICKET IS NONREFUNDABLE IN CASE OF NOSHOW.\\r\\nAFTER DEPARTURE\\r\\nTICKET IS NONREFUNDABLE.\\r\\nNOTE  TEXT BELOW NOT VALIDATED FOR AUTOPRICING.\\r\\n  \\r\\nREFUND MUST BE COMPLETED BEFORE DEPARTURE TIME OF\\r\\nTHE 1ST OUTBOUND FLIGHT OF THE JOURNEY OTHERWISE\\r\\nIT WILL BE CONSIDERED NO SHOW AND SUCH\\r\\nPENALTY RESTRICTION WILL APPLY.\\r\\n  \\r\\nREFUND RULES APPLY PER FARE COMPONENT.\\r\\nWHEN COMBINING REFUNDABLE FARES WITH NON\\r\\nREFUNDABLE FARES PROVISIONS WILL APPLY AS\\r\\nFOLLOWS\\r\\n THE AMOUNT PAID ON THE REFUNDABLE FARE\\r\\nCOMPONENT WILL BE REFUNDED UPON PAYMENT OF THE\\r\\nPENALTY AMOUNT IF APPLICABLE.\\r\\n THE AMOUNT PAID ON THE NON REFUNDABLE FARE\\r\\nCOMPONENT WILL NOT BE REFUNDED.\\r\\n WHEN COMBINING FARES CHARGE THE SUM OF THE\\r\\nCANCELLATION FEES OF ALL CANCELLED FARE\\r\\nCOMPONENTS.\\r\\n  \\r\\nORIGINATING NORTH AMERICA \\r\\n\\r\\n\\r\\n', 'entities': [[2, 33, 'CANCELLATION_TIME']]}, {'text': '\\r\\nCANCELLATIONS\\r\\nANY TIME\\r\\nTICKET IS NONREFUNDABLE IN CASE OF CANCEL or REFUND.\\r\\nWAIVED FOR DEATH OF PASSENGER OR FAMILY MEMBER.\\r\\n', 'entities': [[2, 25, 'CANCELLATION_TIME']]}, {'text': '\\r\\nCANCELLATIONS\\r\\nANY TIME\\r\\nTICKET IS NONREFUNDABLE IN CASE OF CANCEL or REFUND.\\r\\nWAIVED FOR DEATH OF PASSENGER OR FAMILY MEMBER.\\r\\n', 'entities': [[2, 25, 'CANCELLATION_TIME']]}, {'text': '\\r\\nCANCELLATIONS\\r\\nANY TIME\\r\\nTICKET IS NONREFUNDABLE.\\r\\nNOTE  TEXT BELOW NOT VALIDATED FOR AUTOPRICING.\\r\\n  \\r\\nREFUND RULES APPLY PER FARE COMPONENT.\\r\\nWHEN COMBINING REFUNDABLE FARES WITH NON\\r\\nREFUNDABLE FARES PROVISIONS WILL APPLY AS FOLLOWS\\r\\n THE AMOUNT PAID ON THE REFUNDABLE FARE\\r\\nCOMPONENT WILL BE REFUNDED UPON PAYMENT OF THE\\r\\nPENALTY AMOUNT IF APPLICABLE.\\r\\n THE AMOUNT PAID ON THE NON REFUNDABLE FARE\\r\\nCOMPONENT WILL NOT BE REFUNDED.\\r\\n WHEN COMBINING FARES CHARGE THE SUM OF THE\\r\\nCANCELLATION FEES OF ALL CANCELLED FARE\\r\\nCOMPONENTS.\\r\\n  \\r\\n\\r\\n', 'entities': [[2, 25, 'CANCELLATION_TIME']]}, {'text': '\\r\\nCANCELLATIONS\\r\\nCANCELLATIONS\\r\\nANY TIME\\r\\nTICKET IS NONREFUNDABLE IN CASE OF CANCEL or REFUND.\\r\\nWAIVED FOR DEATH OF PASSENGER OR FAMILY MEMBER.\\r\\n', 'entities': [[17, 40, 'CANCELLATION_TIME']]}, {'text': '\\r\\nCANCELLATIONS\\r\\nCANCELLATIONS\\r\\nANY TIME\\r\\nTICKET IS NONREFUNDABLE IN CASE OF CANCEL or REFUND.\\r\\nWAIVED FOR DEATH OF PASSENGER OR FAMILY MEMBER.\\r\\n', 'entities': [[17, 40, 'CANCELLATION_TIME']]}, {'text': '\\r\\nCANCELLATIONS\\r\\nANY TIME\\r\\nTICKET IS NONREFUNDABLE.\\r\\nNOTE  TEXT BELOW NOT VALIDATED FOR AUTOPRICING.\\r\\n  \\r\\nREFUND RULES APPLY PER FARE COMPONENT.\\r\\nWHEN COMBINING REFUNDABLE FARES WITH NON\\r\\nREFUNDABLE FARES PROVISIONS WILL APPLY AS FOLLOWS\\r\\n THE AMOUNT PAID ON THE REFUNDABLE FARE\\r\\nCOMPONENT WILL BE REFUNDED UPON PAYMENT OF THE\\r\\nPENALTY AMOUNT IF APPLICABLE.\\r\\n THE AMOUNT PAID ON THE NON REFUNDABLE FARE\\r\\nCOMPONENT WILL NOT BE REFUNDED.\\r\\n WHEN COMBINING FARES CHARGE THE SUM OF THE\\r\\nCANCELLATION FEES OF ALL CANCELLED FARE\\r\\nCOMPONENTS.\\r\\n  \\r\\n\\r\\n', 'entities': [[2, 25, 'CANCELLATION_TIME']]}, {'text': '\\r\\nCANCELLATIONS\\r\\nANY TIME\\r\\nTICKET IS NONREFUNDABLE IN CASE OF CANCEL or REFUND.\\r\\nWAIVED FOR DEATH OF PASSENGER OR FAMILY MEMBER.\\r\\n', 'entities': [[2, 25, 'CANCELLATION_TIME']]}, {'text': '\\r\\nCANCELLATIONS\\r\\nANY TIME\\r\\nTICKET IS NONREFUNDABLE IN CASE OF CANCEL or REFUND.\\r\\nWAIVED FOR DEATH OF PASSENGER OR FAMILY MEMBER.\\r\\n', 'entities': [[2, 25, 'CANCELLATION_TIME']]}, {'text': '\\r\\nCANCELLATIONS\\r\\nCANCELLATIONS\\r\\nANY TIME\\r\\nCANCELLATIONS PERMITTED FOR CANCEL or REFUND.\\r\\nWAIVED FOR DEATH OF PASSENGER OR FAMILY MEMBER.\\r\\nNOTE  TEXT BELOW NOT VALIDATED FOR AUTOPRICING.\\r\\nNOTA 1 or  or THE NONREFUNDABLE AMOUNT MAY BE USED AS\\r\\nCREDIT TOWARDS PAYMENT OF A HIGHER APPLICABLE\\r\\nFARE.\\r\\nNOTA 2 or  or REEMBOLSO POR CAUSAS NO IMPUTABLES A LA\\r\\nCOMPANIA\\r\\nDECESO DE PASAJERO  or  or VER MANUAL COMERCIAL 13.8\\r\\nDECESO DE FLIAR DIRECTO DE UN PASAJERO or  or SE\\r\\nCONTEMPLA EN CASO DE PRODUCIRSE DENTRO DE LOS\\r\\n30DIAS DE LA FECHA DE VUELO Y CON PRESENTACION\\r\\nDE DOCUMENTACION PROBATORIA DEL VINCULO.\\r\\nANY TIME\\r\\nCANCELLATIONS PERMITTED FOR NOSHOW.\\r\\n', 'entities': [[17, 40, 'CANCELLATION_TIME']]}, {'text': '\\r\\nCANCELLATIONS\\r\\nCANCELLATIONS\\r\\nANY TIME\\r\\nCANCELLATIONS PERMITTED FOR CANCEL or REFUND.\\r\\nWAIVED FOR DEATH OF PASSENGER OR FAMILY MEMBER.\\r\\nNOTE  TEXT BELOW NOT VALIDATED FOR AUTOPRICING.\\r\\nNOTA 1 or  or THE NONREFUNDABLE AMOUNT MAY BE USED AS\\r\\nCREDIT TOWARDS PAYMENT OF A HIGHER APPLICABLE\\r\\nFARE.\\r\\nNOTA 2 or  or REEMBOLSO POR CAUSAS NO IMPUTABLES A LA\\r\\nCOMPANIA\\r\\nDECESO DE PASAJERO  or  or VER MANUAL COMERCIAL 13.8\\r\\nDECESO DE FLIAR DIRECTO DE UN PASAJERO or  or SE\\r\\nCONTEMPLA EN CASO DE PRODUCIRSE DENTRO DE LOS\\r\\n30DIAS DE LA FECHA DE VUELO Y CON PRESENTACION\\r\\nDE DOCUMENTACION PROBATORIA DEL VINCULO.\\r\\nANY TIME\\r\\nCANCELLATIONS PERMITTED FOR NOSHOW.\\r\\n', 'entities': []}, {'text': '\\r\\nCANCELLATIONS\\r\\nCANCELLATIONS\\r\\nANY TIME\\r\\nCHARGE USD 300.00 FOR CANCEL.\\r\\nNOTE  TEXT BELOW NOT VALIDATED FOR AUTOPRICING.\\r\\n\\r\\nFOR ALL JOURNEYS BEFORE or AFTER FIRST FLIGHT\\r\\nDEPARTURE  USD300\\r\\n\\r\\nAPPLICABLE FEES ARE TO BE CONVERTED INTO\\r\\nLOCAL CURRENCY AT THE BANKERS SELLING RATE.\\r\\n\\r\\nFEES ARE NOT APPLICABLE FOR INFANT WITHOUT A SEAT\\r\\n\\r\\nIN CASE OF TICKET UPGRADE THE ORIGINAL\\r\\nNONREFUNDABLE AMOUNT REMAINS NONREFUNDABLE.\\r\\n\\r\\nYR IS NONREFUNDABLE FOR ALL FARES.\\r\\n\\r\\nIN CASES OF NOSHOW CHARGE NO SHOW FEE OF USD300\\r\\nAND CANCELLATION FEE OF USD300 FOR CANCEL.\\r\\n\\r\\nFOR ANY CANCELLATIONS THE STRICTER FARE\\r\\nCONDITIONS WILL APPLY TO THE ENTIRE JOURNEY.\\r\\n', 'entities': [[17, 40, 'CANCELLATION_TIME'], [42, 71, 'CHARGE_CANCEL'], [471, 506, 'CHARGE_NOSHOW']]}, {'text': '\\r\\nCANCELLATIONS\\r\\nCANCELLATIONS\\r\\nANY TIME\\r\\nCHARGE USD 300.00 FOR CANCEL.\\r\\nNOTE  TEXT BELOW NOT VALIDATED FOR AUTOPRICING.\\r\\n\\r\\nFOR ALL JOURNEYS BEFORE or AFTER FIRST FLIGHT\\r\\nDEPARTURE  USD300\\r\\n\\r\\nAPPLICABLE FEES ARE TO BE CONVERTED INTO\\r\\nLOCAL CURRENCY AT THE BANKERS SELLING RATE.\\r\\n\\r\\nFEES ARE NOT APPLICABLE FOR INFANT WITHOUT A SEAT\\r\\n\\r\\nIN CASE OF TICKET UPGRADE THE ORIGINAL\\r\\nNONREFUNDABLE AMOUNT REMAINS NONREFUNDABLE.\\r\\n\\r\\nYR IS NONREFUNDABLE FOR ALL FARES.\\r\\n\\r\\nIN CASES OF NOSHOW CHARGE NO SHOW FEE OF USD300\\r\\nAND CANCELLATION FEE OF USD300 FOR CANCEL.\\r\\n\\r\\nFOR ANY CANCELLATIONS THE STRICTER FARE\\r\\nCONDITIONS WILL APPLY TO THE ENTIRE JOURNEY.\\r\\n', 'entities': [[17, 48, 'CANCELLATION_TIME'], [49, 71, 'CHARGE_CANCEL'], [478, 506, 'CHARGE_NOSHOW']]}]\n"
          ]
        }
      ]
    },
    {
      "cell_type": "markdown",
      "source": [
        "Preparamos el entrenamiento"
      ],
      "metadata": {
        "id": "on4qbouM444e"
      }
    },
    {
      "cell_type": "code",
      "source": [
        "import spacy\n",
        "from spacy.tokens import DocBin\n",
        "from tqdm import tqdm\n",
        "\n",
        "nlp = spacy.blank(\"en\") # load a new spacy model\n",
        "doc_bin = DocBin() # create a DocBin object"
      ],
      "metadata": {
        "id": "Ooq__EwzaFoB"
      },
      "execution_count": 22,
      "outputs": []
    },
    {
      "cell_type": "markdown",
      "source": [
        "convertimos los datos a spacy.doc"
      ],
      "metadata": {
        "id": "afHWkwoJ49qu"
      }
    },
    {
      "cell_type": "code",
      "source": [
        "from spacy.util import filter_spans\n",
        "\n",
        "for training_example  in training_data: \n",
        "    text = training_example['text']\n",
        "    labels = training_example['entities']\n",
        "    print(labels)\n",
        "    doc = nlp.make_doc(text) \n",
        "    ents = []\n",
        "    for start, end, label in labels:\n",
        "        span = doc.char_span(start, end, label=label, alignment_mode=\"contract\")\n",
        "        if span is None:\n",
        "            print(\"Skipping entity\")\n",
        "        else:\n",
        "            ents.append(span)\n",
        "    filtered_ents = filter_spans(ents)\n",
        "    doc.ents = filtered_ents \n",
        "    doc_bin.add(doc)\n",
        "\n",
        "doc_bin.to_disk(\"training_data.spacy\") # save the docbin object"
      ],
      "metadata": {
        "id": "3lLY4O1NaQRt",
        "colab": {
          "base_uri": "https://localhost:8080/"
        },
        "outputId": "848a9ca9-aba4-43d8-915f-6bea76c09ee4"
      },
      "execution_count": 23,
      "outputs": [
        {
          "output_type": "stream",
          "name": "stdout",
          "text": [
            "[[0, 23, 'CANCELLATION_TIME'], [25, 54, 'CHARGE_CANCEL'], [458, 486, 'CHARGE_NOSHOW']]\n",
            "[[2, 25, 'CANCELLATION_TIME'], [27, 56, 'CHARGE_CANCEL'], [463, 491, 'CHARGE_NOSHOW']]\n",
            "[[2, 25, 'CANCELLATION_TIME'], [27, 56, 'CHARGE_CANCEL'], [463, 491, 'CHARGE_NOSHOW']]\n",
            "[]\n",
            "[[2, 25, 'CANCELLATION_TIME']]\n",
            "[[2, 25, 'CANCELLATION_TIME']]\n",
            "[[2, 25, 'CANCELLATION_TIME'], [560, 583, 'CANCELLATION_TIME']]\n",
            "[[31, 53, 'CANCELLATION_TIME']]\n",
            "[[17, 53, 'CANCELLATION_TIME']]\n",
            "[[2, 25, 'CANCELLATION_TIME']]\n",
            "[[17, 39, 'CANCELLATION_TIME'], [40, 69, 'CHARGE_CANCEL'], [460, 488, 'CHARGE_NOSHOW']]\n",
            "[[17, 39, 'CANCELLATION_TIME'], [40, 69, 'CHARGE_CANCEL'], [460, 488, 'CHARGE_NOSHOW'], [513, 531, 'CHARGE_CANCEL']]\n",
            "[[2, 33, 'CANCELLATION_TIME']]\n",
            "[[2, 25, 'CANCELLATION_TIME']]\n",
            "[[2, 25, 'CANCELLATION_TIME']]\n",
            "[[2, 25, 'CANCELLATION_TIME']]\n",
            "[[17, 40, 'CANCELLATION_TIME']]\n",
            "[[17, 40, 'CANCELLATION_TIME']]\n",
            "[[2, 25, 'CANCELLATION_TIME']]\n",
            "[[2, 25, 'CANCELLATION_TIME']]\n",
            "[[2, 25, 'CANCELLATION_TIME']]\n",
            "[[17, 40, 'CANCELLATION_TIME']]\n",
            "[]\n",
            "[[17, 40, 'CANCELLATION_TIME'], [42, 71, 'CHARGE_CANCEL'], [471, 506, 'CHARGE_NOSHOW']]\n",
            "[[17, 48, 'CANCELLATION_TIME'], [49, 71, 'CHARGE_CANCEL'], [478, 506, 'CHARGE_NOSHOW']]\n"
          ]
        }
      ]
    },
    {
      "cell_type": "markdown",
      "source": [
        "aplicamos configuración para entrenar con GPU"
      ],
      "metadata": {
        "id": "Tma_XLl-5BR-"
      }
    },
    {
      "cell_type": "code",
      "source": [
        "!python -m spacy init fill-config base_config.cfg config.cfg"
      ],
      "metadata": {
        "id": "NoiM-SRmhzu1",
        "colab": {
          "base_uri": "https://localhost:8080/"
        },
        "outputId": "6eb8c266-b46c-4c9b-8c82-7988df37fcc0"
      },
      "execution_count": 24,
      "outputs": [
        {
          "output_type": "stream",
          "name": "stdout",
          "text": [
            "\u001b[38;5;2m✔ Auto-filled config with all values\u001b[0m\n",
            "\u001b[38;5;2m✔ Saved config\u001b[0m\n",
            "config.cfg\n",
            "You can now add your data and train your pipeline:\n",
            "python -m spacy train config.cfg --paths.train ./train.spacy --paths.dev ./dev.spacy\n"
          ]
        }
      ]
    },
    {
      "cell_type": "markdown",
      "source": [
        "lanzamos entrenamiento"
      ],
      "metadata": {
        "id": "t-tYkUcf5GxY"
      }
    },
    {
      "cell_type": "code",
      "source": [
        "!python -m spacy train config.cfg --output ./ --paths.train ./training_data.spacy --paths.dev ./training_data.spacy --gpu-id 0"
      ],
      "metadata": {
        "id": "4CKv4Nk6h5f4",
        "colab": {
          "base_uri": "https://localhost:8080/"
        },
        "outputId": "7ac90408-df57-47bd-b3b4-e8feeb87f4a3"
      },
      "execution_count": 25,
      "outputs": [
        {
          "output_type": "stream",
          "name": "stdout",
          "text": [
            "\u001b[38;5;4mℹ Saving to output directory: .\u001b[0m\n",
            "\u001b[38;5;4mℹ Using GPU: 0\u001b[0m\n",
            "\u001b[1m\n",
            "=========================== Initializing pipeline ===========================\u001b[0m\n",
            "[2022-09-20 17:31:45,900] [INFO] Set up nlp object from config\n",
            "INFO:spacy:Set up nlp object from config\n",
            "[2022-09-20 17:31:45,910] [INFO] Pipeline: ['transformer', 'ner']\n",
            "INFO:spacy:Pipeline: ['transformer', 'ner']\n",
            "[2022-09-20 17:31:45,914] [INFO] Created vocabulary\n",
            "INFO:spacy:Created vocabulary\n",
            "[2022-09-20 17:31:45,915] [INFO] Finished initializing nlp object\n",
            "INFO:spacy:Finished initializing nlp object\n",
            "Downloading config.json: 100% 481/481 [00:00<00:00, 585kB/s]\n",
            "Downloading vocab.json: 100% 878k/878k [00:00<00:00, 2.89MB/s]\n",
            "Downloading merges.txt: 100% 446k/446k [00:00<00:00, 1.47MB/s]\n",
            "Downloading tokenizer.json: 100% 1.29M/1.29M [00:00<00:00, 4.29MB/s]\n",
            "Downloading pytorch_model.bin: 100% 478M/478M [00:06<00:00, 73.9MB/s]\n",
            "Some weights of the model checkpoint at roberta-base were not used when initializing RobertaModel: ['lm_head.decoder.weight', 'lm_head.dense.weight', 'lm_head.layer_norm.weight', 'lm_head.dense.bias', 'lm_head.layer_norm.bias', 'lm_head.bias']\n",
            "- This IS expected if you are initializing RobertaModel from the checkpoint of a model trained on another task or with another architecture (e.g. initializing a BertForSequenceClassification model from a BertForPreTraining model).\n",
            "- This IS NOT expected if you are initializing RobertaModel from the checkpoint of a model that you expect to be exactly identical (initializing a BertForSequenceClassification model from a BertForSequenceClassification model).\n",
            "[2022-09-20 17:32:08,937] [INFO] Initialized pipeline components: ['transformer', 'ner']\n",
            "INFO:spacy:Initialized pipeline components: ['transformer', 'ner']\n",
            "\u001b[38;5;2m✔ Initialized pipeline\u001b[0m\n",
            "\u001b[1m\n",
            "============================= Training pipeline =============================\u001b[0m\n",
            "\u001b[38;5;4mℹ Pipeline: ['transformer', 'ner']\u001b[0m\n",
            "\u001b[38;5;4mℹ Initial learn rate: 0.0\u001b[0m\n",
            "E    #       LOSS TRANS...  LOSS NER  ENTS_F  ENTS_P  ENTS_R  SCORE \n",
            "---  ------  -------------  --------  ------  ------  ------  ------\n",
            "  0       0        2801.96    671.21    1.54    1.10    2.56    0.02\n",
            "100     200      181158.92  45952.26   84.62   84.62   84.62    0.85\n",
            "200     400         525.42  26267.22   86.49   91.43   82.05    0.86\n",
            "300     600         544.21  24976.23   87.18   87.18   87.18    0.87\n",
            "400     800         554.14  23435.76   86.11   93.94   79.49    0.86\n",
            "500    1000         580.66  21597.49   86.49   91.43   82.05    0.86\n",
            "600    1200         664.17  19487.18   86.84   89.19   84.62    0.87\n",
            "700    1400         912.78  17156.42   87.18   87.18   87.18    0.87\n",
            "800    1600         737.72  14541.28   87.50   85.37   89.74    0.88\n",
            "900    1800         787.30  11921.90   87.18   87.18   87.18    0.87\n",
            "1000    2000         892.23   9441.23   86.49   91.43   82.05    0.86\n",
            "1100    2200       34656.60   8519.61   82.50   80.49   84.62    0.83\n",
            "1200    2400       13966.37   7160.41   87.18   87.18   87.18    0.87\n",
            "1300    2600        1055.00   3913.44   84.62   84.62   84.62    0.85\n",
            "1400    2800        1119.69   2762.94   87.50   85.37   89.74    0.88\n",
            "1500    3000        1156.08   1993.40   86.49   91.43   82.05    0.86\n",
            "1600    3200        1223.63   1524.64   86.84   89.19   84.62    0.87\n",
            "\u001b[38;5;2m✔ Saved pipeline to output directory\u001b[0m\n",
            "model-last\n"
          ]
        }
      ]
    },
    {
      "cell_type": "markdown",
      "source": [
        "guardamos los pesos"
      ],
      "metadata": {
        "id": "EJoQQTgU5J0e"
      }
    },
    {
      "cell_type": "code",
      "source": [
        "from google.colab import drive\n",
        "drive.mount('/content/gdrive')"
      ],
      "metadata": {
        "colab": {
          "base_uri": "https://localhost:8080/"
        },
        "id": "auZTUybjcJet",
        "outputId": "dad875a7-5111-4592-b5d5-549a6cb76281"
      },
      "execution_count": 29,
      "outputs": [
        {
          "output_type": "stream",
          "name": "stdout",
          "text": [
            "Mounted at /content/gdrive\n"
          ]
        }
      ]
    },
    {
      "cell_type": "code",
      "source": [
        "!cp -r /content/model-best /content/gdrive/MyDrive/Arquitecturas/"
      ],
      "metadata": {
        "id": "S-RG-sLMbKcW"
      },
      "execution_count": 32,
      "outputs": []
    },
    {
      "cell_type": "markdown",
      "source": [
        "probamos el modelo resultante"
      ],
      "metadata": {
        "id": "f4Dc388W5MTS"
      }
    },
    {
      "cell_type": "code",
      "source": [
        "from pydoc import doc\n",
        "import spacy\n",
        "\n",
        "nlp_ner = spacy.load(\"/content/model-best\")\n",
        "\n",
        "text = \"\"\"\n",
        "\"CANCELLATIONS ANY TIME CHARGE USD 666.00 FOR CANCEL.\n",
        "NOTE - TEXT BELOW NOT VALIDATED FOR AUTOPRICING.\n",
        "FOR ALL JOURNEYS BEFORE/AFTER FIRST FLIGHT DEPARTURE - USD300\n",
        "APPLICABLE FEES ARE TO BE CONVERTED INTO LOCAL CURRENCY AT THE BANKERS SELLING RATE.\n",
        "FEES ARE NOT APPLICABLE FOR INFANT WITHOUT A SEAT\n",
        "IN CASE OF TICKET UPGRADE THE ORIGINAL NON-REFUNDABLE AMOUNT REMAINS NON-REFUNDABLE.\n",
        "YR IS NON-REFUNDABLE FOR ALL FARES.IN CASES OF NO-SHOW CHARGE NO SHOW FEE OF USD300 \n",
        "AND CANCELLATION FEE OF USD300 FOR CANCEL.\\\n",
        "FOR ANY CANCELLATIONS THE STRICTER FARE\\ CONDITIONS WILL APPLY TO THE ENTIRE JOURNEY.\n",
        "\"\"\"\n",
        "\n",
        "doc = nlp_ner(text)\n",
        "\n",
        "colors = {\n",
        "    \"CANCELLATION_TIME\": \"#F67DE3\",\n",
        "    \"CHARGE_CANCEL\": \"#7DF6D9\",\n",
        "    \"CHARGE_NOSHOW\": \"#FFFFFF\",\n",
        "}\n",
        "options = {\"colors\": colors} \n",
        "\n",
        "spacy.displacy.render(doc, style=\"ent\", options= options, jupyter=True)\n"
      ],
      "metadata": {
        "colab": {
          "base_uri": "https://localhost:8080/",
          "height": 367
        },
        "id": "VfQ1ieH1nnwS",
        "outputId": "d9628688-218e-4a6b-c103-6431a8093390"
      },
      "execution_count": 5,
      "outputs": [
        {
          "output_type": "display_data",
          "data": {
            "text/plain": [
              "<IPython.core.display.HTML object>"
            ],
            "text/html": [
              "<span class=\"tex2jax_ignore\"><div class=\"entities\" style=\"line-height: 2.5; direction: ltr\"></br>\n",
              "<mark class=\"entity\" style=\"background: #F67DE3; padding: 0.45em 0.6em; margin: 0 0.25em; line-height: 1; border-radius: 0.35em;\">\n",
              "    &quot;CANCELLATIONS ANY TIME\n",
              "    <span style=\"font-size: 0.8em; font-weight: bold; line-height: 1; border-radius: 0.35em; vertical-align: middle; margin-left: 0.5rem\">CANCELLATION_TIME</span>\n",
              "</mark>\n",
              " \n",
              "<mark class=\"entity\" style=\"background: #7DF6D9; padding: 0.45em 0.6em; margin: 0 0.25em; line-height: 1; border-radius: 0.35em;\">\n",
              "    CHARGE USD 666.00 FOR CANCEL.\n",
              "    <span style=\"font-size: 0.8em; font-weight: bold; line-height: 1; border-radius: 0.35em; vertical-align: middle; margin-left: 0.5rem\">CHARGE_CANCEL</span>\n",
              "</mark>\n",
              "</br>NOTE - TEXT BELOW NOT VALIDATED FOR AUTOPRICING.</br>FOR ALL JOURNEYS BEFORE/AFTER FIRST FLIGHT DEPARTURE - USD300</br>APPLICABLE FEES ARE TO BE CONVERTED INTO LOCAL CURRENCY AT THE BANKERS SELLING RATE.</br>FEES ARE NOT APPLICABLE FOR INFANT WITHOUT A SEAT</br>IN CASE OF TICKET UPGRADE THE ORIGINAL NON-REFUNDABLE AMOUNT REMAINS NON-REFUNDABLE.</br>YR IS NON-REFUNDABLE FOR ALL FARES.IN CASES OF NO-\n",
              "<mark class=\"entity\" style=\"background: #FFFFFF; padding: 0.45em 0.6em; margin: 0 0.25em; line-height: 1; border-radius: 0.35em;\">\n",
              "    SHOW CHARGE NO SHOW FEE OF USD300\n",
              "    <span style=\"font-size: 0.8em; font-weight: bold; line-height: 1; border-radius: 0.35em; vertical-align: middle; margin-left: 0.5rem\">CHARGE_NOSHOW</span>\n",
              "</mark>\n",
              " </br>AND CANCELLATION FEE OF \n",
              "<mark class=\"entity\" style=\"background: #7DF6D9; padding: 0.45em 0.6em; margin: 0 0.25em; line-height: 1; border-radius: 0.35em;\">\n",
              "    USD300 FOR CANCEL.FOR ANY\n",
              "    <span style=\"font-size: 0.8em; font-weight: bold; line-height: 1; border-radius: 0.35em; vertical-align: middle; margin-left: 0.5rem\">CHARGE_CANCEL</span>\n",
              "</mark>\n",
              " CANCELLATIONS THE STRICTER FARE\\ CONDITIONS WILL APPLY TO THE ENTIRE JOURNEY.</br></div></span>"
            ]
          },
          "metadata": {}
        }
      ]
    }
  ]
}